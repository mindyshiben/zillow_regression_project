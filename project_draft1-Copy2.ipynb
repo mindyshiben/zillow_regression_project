{
 "cells": [
  {
   "cell_type": "code",
   "execution_count": 1,
   "id": "7f6f2bfa",
   "metadata": {},
   "outputs": [],
   "source": [
    "import warnings\n",
    "warnings.filterwarnings(\"ignore\")\n",
    "\n",
    "import pandas as pd\n",
    "import matplotlib.pyplot as plt\n",
    "import seaborn as sns\n",
    "import numpy as np\n",
    "import env\n",
    "import acquire\n",
    "import wrangle"
   ]
  },
  {
   "cell_type": "code",
   "execution_count": 2,
   "id": "a3e0d886",
   "metadata": {},
   "outputs": [],
   "source": [
    "df = acquire.get_zillow_data()"
   ]
  },
  {
   "cell_type": "markdown",
   "id": "14c924e1",
   "metadata": {},
   "source": [
    "Through domain research and choosing features that have enough data (low null values, less than 20%), I've determined these columns to be the most practical to utilize in the data science pipeline for the purpose of predicting tax assessed home values through regression modeling. "
   ]
  },
  {
   "cell_type": "code",
   "execution_count": 3,
   "id": "9b5ef430",
   "metadata": {},
   "outputs": [
    {
     "name": "stdout",
     "output_type": "stream",
     "text": [
      "<class 'pandas.core.frame.DataFrame'>\n",
      "RangeIndex: 52441 entries, 0 to 52440\n",
      "Data columns (total 14 columns):\n",
      " #   Column                        Non-Null Count  Dtype  \n",
      "---  ------                        --------------  -----  \n",
      " 0   Unnamed: 0                    52441 non-null  int64  \n",
      " 1   parcelid                      52441 non-null  int64  \n",
      " 2   bedroomcnt                    52441 non-null  float64\n",
      " 3   bathroomcnt                   52441 non-null  float64\n",
      " 4   calculatedfinishedsquarefeet  52359 non-null  float64\n",
      " 5   taxvaluedollarcnt             52440 non-null  float64\n",
      " 6   yearbuilt                     52325 non-null  float64\n",
      " 7   taxamount                     52437 non-null  float64\n",
      " 8   fips                          52441 non-null  float64\n",
      " 9   assessmentyear                52441 non-null  float64\n",
      " 10  landtaxvaluedollarcnt         52440 non-null  float64\n",
      " 11  lotsizesquarefeet             52072 non-null  float64\n",
      " 12  latitude                      52441 non-null  float64\n",
      " 13  longitude                     52441 non-null  float64\n",
      "dtypes: float64(12), int64(2)\n",
      "memory usage: 5.6 MB\n"
     ]
    }
   ],
   "source": [
    "df.info()"
   ]
  },
  {
   "cell_type": "code",
   "execution_count": 4,
   "id": "b1e6ff87",
   "metadata": {},
   "outputs": [
    {
     "data": {
      "text/plain": [
       "Unnamed: 0                        0\n",
       "parcelid                          0\n",
       "bedroomcnt                        0\n",
       "bathroomcnt                       0\n",
       "calculatedfinishedsquarefeet     82\n",
       "taxvaluedollarcnt                 1\n",
       "yearbuilt                       116\n",
       "taxamount                         4\n",
       "fips                              0\n",
       "assessmentyear                    0\n",
       "landtaxvaluedollarcnt             1\n",
       "lotsizesquarefeet               369\n",
       "latitude                          0\n",
       "longitude                         0\n",
       "dtype: int64"
      ]
     },
     "execution_count": 4,
     "metadata": {},
     "output_type": "execute_result"
    }
   ],
   "source": [
    "df.isna().sum()"
   ]
  },
  {
   "cell_type": "markdown",
   "id": "c3ac9dfa",
   "metadata": {},
   "source": [
    "To not lose too much data, I'm looking at columns with many null values and how many null values they share with other columns"
   ]
  },
  {
   "cell_type": "code",
   "execution_count": null,
   "id": "2367b94d",
   "metadata": {},
   "outputs": [],
   "source": [
    "df['calculatedfinishedsquarefeet'].isna().sum() & df['lotsizesquarefeet'].isna().sum() & df['yearbuilt'].isna().sum()"
   ]
  },
  {
   "cell_type": "markdown",
   "id": "2cdcc1cb",
   "metadata": {},
   "source": [
    "square feet, lot size, and year built share a lot of null rows. This is good news when considering dropping columns with null values."
   ]
  },
  {
   "cell_type": "code",
   "execution_count": null,
   "id": "35229dd6",
   "metadata": {},
   "outputs": [],
   "source": [
    "df['lotsizesquarefeet'].isna().sum() & df['taxamount'].isna().sum(), df['calculatedfinishedsquarefeet'].isna().sum() & df['taxamount'].isna().sum()"
   ]
  },
  {
   "cell_type": "markdown",
   "id": "21ccb729",
   "metadata": {},
   "source": [
    "most of tax amount nulls are also square feet nulls so again, feel better about dropping these records"
   ]
  },
  {
   "cell_type": "code",
   "execution_count": null,
   "id": "338394ce",
   "metadata": {},
   "outputs": [],
   "source": [
    "(df.isnull().sum() / len(df)).round(3) \n",
    "#this shows the percentage of null values per column rounded to the 3rd decimal place"
   ]
  },
  {
   "cell_type": "markdown",
   "id": "cf56872f",
   "metadata": {},
   "source": [
    "we can see that all columns have less than 1% null (missing) values. This is favorable to dropping nulls"
   ]
  },
  {
   "cell_type": "code",
   "execution_count": null,
   "id": "00f9b49f",
   "metadata": {},
   "outputs": [],
   "source": [
    "df.isna().mean().sum()\n",
    "#shows the percentage of missing values in the entire dataframe. "
   ]
  },
  {
   "cell_type": "markdown",
   "id": "0dc81bcf",
   "metadata": {},
   "source": [
    "If all nulls are dropped, we will lose 1% of the data. With this low percentage and seeing how most records with nulls have nulls across other columns, I determine dropping records with nulls is the most appropriate solution"
   ]
  },
  {
   "cell_type": "code",
   "execution_count": 5,
   "id": "fc676efc",
   "metadata": {},
   "outputs": [],
   "source": [
    "df = wrangle.wrangle_zillow(df)"
   ]
  },
  {
   "cell_type": "code",
   "execution_count": 6,
   "id": "5a69820a",
   "metadata": {},
   "outputs": [
    {
     "data": {
      "text/html": [
       "<div>\n",
       "<style scoped>\n",
       "    .dataframe tbody tr th:only-of-type {\n",
       "        vertical-align: middle;\n",
       "    }\n",
       "\n",
       "    .dataframe tbody tr th {\n",
       "        vertical-align: top;\n",
       "    }\n",
       "\n",
       "    .dataframe thead th {\n",
       "        text-align: right;\n",
       "    }\n",
       "</style>\n",
       "<table border=\"1\" class=\"dataframe\">\n",
       "  <thead>\n",
       "    <tr style=\"text-align: right;\">\n",
       "      <th></th>\n",
       "      <th>Unnamed: 0</th>\n",
       "      <th>parcelid</th>\n",
       "      <th>bedrooms</th>\n",
       "      <th>bathrooms</th>\n",
       "      <th>home_size</th>\n",
       "      <th>value</th>\n",
       "      <th>year</th>\n",
       "      <th>tax</th>\n",
       "      <th>fips</th>\n",
       "      <th>land_value</th>\n",
       "      <th>lot_size</th>\n",
       "      <th>latitude</th>\n",
       "      <th>longitude</th>\n",
       "      <th>county</th>\n",
       "    </tr>\n",
       "  </thead>\n",
       "  <tbody>\n",
       "    <tr>\n",
       "      <th>0</th>\n",
       "      <td>0</td>\n",
       "      <td>14297519</td>\n",
       "      <td>4.0</td>\n",
       "      <td>3.5</td>\n",
       "      <td>3100</td>\n",
       "      <td>1023282</td>\n",
       "      <td>1998</td>\n",
       "      <td>11013.72</td>\n",
       "      <td>6059</td>\n",
       "      <td>537569</td>\n",
       "      <td>4506</td>\n",
       "      <td>33634931.0</td>\n",
       "      <td>-117869207.0</td>\n",
       "      <td>orange</td>\n",
       "    </tr>\n",
       "    <tr>\n",
       "      <th>1</th>\n",
       "      <td>1</td>\n",
       "      <td>17052889</td>\n",
       "      <td>2.0</td>\n",
       "      <td>1.0</td>\n",
       "      <td>1465</td>\n",
       "      <td>464000</td>\n",
       "      <td>1967</td>\n",
       "      <td>5672.48</td>\n",
       "      <td>6111</td>\n",
       "      <td>376000</td>\n",
       "      <td>12647</td>\n",
       "      <td>34449266.0</td>\n",
       "      <td>-119281531.0</td>\n",
       "      <td>ventura</td>\n",
       "    </tr>\n",
       "    <tr>\n",
       "      <th>2</th>\n",
       "      <td>2</td>\n",
       "      <td>14186244</td>\n",
       "      <td>3.0</td>\n",
       "      <td>2.0</td>\n",
       "      <td>1243</td>\n",
       "      <td>564778</td>\n",
       "      <td>1962</td>\n",
       "      <td>6488.30</td>\n",
       "      <td>6059</td>\n",
       "      <td>479489</td>\n",
       "      <td>8432</td>\n",
       "      <td>33886168.0</td>\n",
       "      <td>-117823170.0</td>\n",
       "      <td>orange</td>\n",
       "    </tr>\n",
       "    <tr>\n",
       "      <th>3</th>\n",
       "      <td>3</td>\n",
       "      <td>12177905</td>\n",
       "      <td>4.0</td>\n",
       "      <td>3.0</td>\n",
       "      <td>2376</td>\n",
       "      <td>145143</td>\n",
       "      <td>1970</td>\n",
       "      <td>1777.51</td>\n",
       "      <td>6037</td>\n",
       "      <td>36225</td>\n",
       "      <td>13038</td>\n",
       "      <td>34245180.0</td>\n",
       "      <td>-118240722.0</td>\n",
       "      <td>los_angeles</td>\n",
       "    </tr>\n",
       "    <tr>\n",
       "      <th>4</th>\n",
       "      <td>4</td>\n",
       "      <td>12095076</td>\n",
       "      <td>4.0</td>\n",
       "      <td>3.0</td>\n",
       "      <td>2962</td>\n",
       "      <td>773303</td>\n",
       "      <td>1950</td>\n",
       "      <td>9516.26</td>\n",
       "      <td>6037</td>\n",
       "      <td>496619</td>\n",
       "      <td>63000</td>\n",
       "      <td>34145202.0</td>\n",
       "      <td>-118179824.0</td>\n",
       "      <td>los_angeles</td>\n",
       "    </tr>\n",
       "    <tr>\n",
       "      <th>...</th>\n",
       "      <td>...</td>\n",
       "      <td>...</td>\n",
       "      <td>...</td>\n",
       "      <td>...</td>\n",
       "      <td>...</td>\n",
       "      <td>...</td>\n",
       "      <td>...</td>\n",
       "      <td>...</td>\n",
       "      <td>...</td>\n",
       "      <td>...</td>\n",
       "      <td>...</td>\n",
       "      <td>...</td>\n",
       "      <td>...</td>\n",
       "      <td>...</td>\n",
       "    </tr>\n",
       "    <tr>\n",
       "      <th>52436</th>\n",
       "      <td>52436</td>\n",
       "      <td>12412492</td>\n",
       "      <td>4.0</td>\n",
       "      <td>2.0</td>\n",
       "      <td>1633</td>\n",
       "      <td>346534</td>\n",
       "      <td>1962</td>\n",
       "      <td>4175.08</td>\n",
       "      <td>6037</td>\n",
       "      <td>221068</td>\n",
       "      <td>4630</td>\n",
       "      <td>33870815.0</td>\n",
       "      <td>-118070858.0</td>\n",
       "      <td>los_angeles</td>\n",
       "    </tr>\n",
       "    <tr>\n",
       "      <th>52437</th>\n",
       "      <td>52437</td>\n",
       "      <td>11000655</td>\n",
       "      <td>2.0</td>\n",
       "      <td>2.0</td>\n",
       "      <td>1286</td>\n",
       "      <td>354621</td>\n",
       "      <td>1940</td>\n",
       "      <td>4478.43</td>\n",
       "      <td>6037</td>\n",
       "      <td>283704</td>\n",
       "      <td>47405</td>\n",
       "      <td>34245368.0</td>\n",
       "      <td>-118282383.0</td>\n",
       "      <td>los_angeles</td>\n",
       "    </tr>\n",
       "    <tr>\n",
       "      <th>52438</th>\n",
       "      <td>52438</td>\n",
       "      <td>17239384</td>\n",
       "      <td>4.0</td>\n",
       "      <td>2.0</td>\n",
       "      <td>1612</td>\n",
       "      <td>67205</td>\n",
       "      <td>1964</td>\n",
       "      <td>1107.48</td>\n",
       "      <td>6111</td>\n",
       "      <td>16522</td>\n",
       "      <td>12105</td>\n",
       "      <td>34300140.0</td>\n",
       "      <td>-118706327.0</td>\n",
       "      <td>ventura</td>\n",
       "    </tr>\n",
       "    <tr>\n",
       "      <th>52439</th>\n",
       "      <td>52439</td>\n",
       "      <td>12773139</td>\n",
       "      <td>3.0</td>\n",
       "      <td>1.0</td>\n",
       "      <td>1032</td>\n",
       "      <td>49546</td>\n",
       "      <td>1954</td>\n",
       "      <td>876.43</td>\n",
       "      <td>6037</td>\n",
       "      <td>16749</td>\n",
       "      <td>5074</td>\n",
       "      <td>34040895.0</td>\n",
       "      <td>-118038169.0</td>\n",
       "      <td>los_angeles</td>\n",
       "    </tr>\n",
       "    <tr>\n",
       "      <th>52440</th>\n",
       "      <td>52440</td>\n",
       "      <td>12826780</td>\n",
       "      <td>3.0</td>\n",
       "      <td>2.0</td>\n",
       "      <td>1762</td>\n",
       "      <td>522000</td>\n",
       "      <td>1955</td>\n",
       "      <td>6317.15</td>\n",
       "      <td>6037</td>\n",
       "      <td>382000</td>\n",
       "      <td>6347</td>\n",
       "      <td>33937685.0</td>\n",
       "      <td>-117996709.0</td>\n",
       "      <td>los_angeles</td>\n",
       "    </tr>\n",
       "  </tbody>\n",
       "</table>\n",
       "<p>51752 rows × 14 columns</p>\n",
       "</div>"
      ],
      "text/plain": [
       "       Unnamed: 0  parcelid  bedrooms  bathrooms  home_size    value  year  \\\n",
       "0               0  14297519       4.0        3.5       3100  1023282  1998   \n",
       "1               1  17052889       2.0        1.0       1465   464000  1967   \n",
       "2               2  14186244       3.0        2.0       1243   564778  1962   \n",
       "3               3  12177905       4.0        3.0       2376   145143  1970   \n",
       "4               4  12095076       4.0        3.0       2962   773303  1950   \n",
       "...           ...       ...       ...        ...        ...      ...   ...   \n",
       "52436       52436  12412492       4.0        2.0       1633   346534  1962   \n",
       "52437       52437  11000655       2.0        2.0       1286   354621  1940   \n",
       "52438       52438  17239384       4.0        2.0       1612    67205  1964   \n",
       "52439       52439  12773139       3.0        1.0       1032    49546  1954   \n",
       "52440       52440  12826780       3.0        2.0       1762   522000  1955   \n",
       "\n",
       "            tax  fips  land_value  lot_size    latitude    longitude  \\\n",
       "0      11013.72  6059      537569      4506  33634931.0 -117869207.0   \n",
       "1       5672.48  6111      376000     12647  34449266.0 -119281531.0   \n",
       "2       6488.30  6059      479489      8432  33886168.0 -117823170.0   \n",
       "3       1777.51  6037       36225     13038  34245180.0 -118240722.0   \n",
       "4       9516.26  6037      496619     63000  34145202.0 -118179824.0   \n",
       "...         ...   ...         ...       ...         ...          ...   \n",
       "52436   4175.08  6037      221068      4630  33870815.0 -118070858.0   \n",
       "52437   4478.43  6037      283704     47405  34245368.0 -118282383.0   \n",
       "52438   1107.48  6111       16522     12105  34300140.0 -118706327.0   \n",
       "52439    876.43  6037       16749      5074  34040895.0 -118038169.0   \n",
       "52440   6317.15  6037      382000      6347  33937685.0 -117996709.0   \n",
       "\n",
       "            county  \n",
       "0           orange  \n",
       "1          ventura  \n",
       "2           orange  \n",
       "3      los_angeles  \n",
       "4      los_angeles  \n",
       "...            ...  \n",
       "52436  los_angeles  \n",
       "52437  los_angeles  \n",
       "52438      ventura  \n",
       "52439  los_angeles  \n",
       "52440  los_angeles  \n",
       "\n",
       "[51752 rows x 14 columns]"
      ]
     },
     "execution_count": 6,
     "metadata": {},
     "output_type": "execute_result"
    }
   ],
   "source": [
    "df"
   ]
  },
  {
   "cell_type": "code",
   "execution_count": 7,
   "id": "878d88a0",
   "metadata": {},
   "outputs": [],
   "source": [
    "df = wrangle.wrangle_locs(df)"
   ]
  },
  {
   "cell_type": "code",
   "execution_count": null,
   "id": "be965843",
   "metadata": {},
   "outputs": [],
   "source": [
    "#df.drop(columns= 'Unnamed: 0', inplace = True)"
   ]
  },
  {
   "cell_type": "code",
   "execution_count": 8,
   "id": "572d4809",
   "metadata": {},
   "outputs": [
    {
     "data": {
      "text/html": [
       "<div>\n",
       "<style scoped>\n",
       "    .dataframe tbody tr th:only-of-type {\n",
       "        vertical-align: middle;\n",
       "    }\n",
       "\n",
       "    .dataframe tbody tr th {\n",
       "        vertical-align: top;\n",
       "    }\n",
       "\n",
       "    .dataframe thead th {\n",
       "        text-align: right;\n",
       "    }\n",
       "</style>\n",
       "<table border=\"1\" class=\"dataframe\">\n",
       "  <thead>\n",
       "    <tr style=\"text-align: right;\">\n",
       "      <th></th>\n",
       "      <th>Unnamed: 0</th>\n",
       "      <th>parcelid</th>\n",
       "      <th>bedrooms</th>\n",
       "      <th>bathrooms</th>\n",
       "      <th>home_size</th>\n",
       "      <th>value</th>\n",
       "      <th>year</th>\n",
       "      <th>tax</th>\n",
       "      <th>fips</th>\n",
       "      <th>land_value</th>\n",
       "      <th>lot_size</th>\n",
       "      <th>county</th>\n",
       "      <th>latitude</th>\n",
       "      <th>longitude</th>\n",
       "    </tr>\n",
       "  </thead>\n",
       "  <tbody>\n",
       "    <tr>\n",
       "      <th>0</th>\n",
       "      <td>0</td>\n",
       "      <td>14297519</td>\n",
       "      <td>4.0</td>\n",
       "      <td>3.5</td>\n",
       "      <td>3100</td>\n",
       "      <td>1023282</td>\n",
       "      <td>1998</td>\n",
       "      <td>11013.72</td>\n",
       "      <td>6059</td>\n",
       "      <td>537569</td>\n",
       "      <td>4506</td>\n",
       "      <td>orange</td>\n",
       "      <td>33.634931</td>\n",
       "      <td>-117.17869207.0</td>\n",
       "    </tr>\n",
       "    <tr>\n",
       "      <th>1</th>\n",
       "      <td>1</td>\n",
       "      <td>17052889</td>\n",
       "      <td>2.0</td>\n",
       "      <td>1.0</td>\n",
       "      <td>1465</td>\n",
       "      <td>464000</td>\n",
       "      <td>1967</td>\n",
       "      <td>5672.48</td>\n",
       "      <td>6111</td>\n",
       "      <td>376000</td>\n",
       "      <td>12647</td>\n",
       "      <td>ventura</td>\n",
       "      <td>34.449266</td>\n",
       "      <td>-119.19281531.0</td>\n",
       "    </tr>\n",
       "    <tr>\n",
       "      <th>2</th>\n",
       "      <td>2</td>\n",
       "      <td>14186244</td>\n",
       "      <td>3.0</td>\n",
       "      <td>2.0</td>\n",
       "      <td>1243</td>\n",
       "      <td>564778</td>\n",
       "      <td>1962</td>\n",
       "      <td>6488.30</td>\n",
       "      <td>6059</td>\n",
       "      <td>479489</td>\n",
       "      <td>8432</td>\n",
       "      <td>orange</td>\n",
       "      <td>33.886168</td>\n",
       "      <td>-117.17823170.0</td>\n",
       "    </tr>\n",
       "    <tr>\n",
       "      <th>3</th>\n",
       "      <td>3</td>\n",
       "      <td>12177905</td>\n",
       "      <td>4.0</td>\n",
       "      <td>3.0</td>\n",
       "      <td>2376</td>\n",
       "      <td>145143</td>\n",
       "      <td>1970</td>\n",
       "      <td>1777.51</td>\n",
       "      <td>6037</td>\n",
       "      <td>36225</td>\n",
       "      <td>13038</td>\n",
       "      <td>los_angeles</td>\n",
       "      <td>34.24518</td>\n",
       "      <td>-118.18240722.0</td>\n",
       "    </tr>\n",
       "    <tr>\n",
       "      <th>4</th>\n",
       "      <td>4</td>\n",
       "      <td>12095076</td>\n",
       "      <td>4.0</td>\n",
       "      <td>3.0</td>\n",
       "      <td>2962</td>\n",
       "      <td>773303</td>\n",
       "      <td>1950</td>\n",
       "      <td>9516.26</td>\n",
       "      <td>6037</td>\n",
       "      <td>496619</td>\n",
       "      <td>63000</td>\n",
       "      <td>los_angeles</td>\n",
       "      <td>34.145202</td>\n",
       "      <td>-118.18179824.0</td>\n",
       "    </tr>\n",
       "    <tr>\n",
       "      <th>...</th>\n",
       "      <td>...</td>\n",
       "      <td>...</td>\n",
       "      <td>...</td>\n",
       "      <td>...</td>\n",
       "      <td>...</td>\n",
       "      <td>...</td>\n",
       "      <td>...</td>\n",
       "      <td>...</td>\n",
       "      <td>...</td>\n",
       "      <td>...</td>\n",
       "      <td>...</td>\n",
       "      <td>...</td>\n",
       "      <td>...</td>\n",
       "      <td>...</td>\n",
       "    </tr>\n",
       "    <tr>\n",
       "      <th>52436</th>\n",
       "      <td>52436</td>\n",
       "      <td>12412492</td>\n",
       "      <td>4.0</td>\n",
       "      <td>2.0</td>\n",
       "      <td>1633</td>\n",
       "      <td>346534</td>\n",
       "      <td>1962</td>\n",
       "      <td>4175.08</td>\n",
       "      <td>6037</td>\n",
       "      <td>221068</td>\n",
       "      <td>4630</td>\n",
       "      <td>los_angeles</td>\n",
       "      <td>33.870815</td>\n",
       "      <td>-118.18070858.0</td>\n",
       "    </tr>\n",
       "    <tr>\n",
       "      <th>52437</th>\n",
       "      <td>52437</td>\n",
       "      <td>11000655</td>\n",
       "      <td>2.0</td>\n",
       "      <td>2.0</td>\n",
       "      <td>1286</td>\n",
       "      <td>354621</td>\n",
       "      <td>1940</td>\n",
       "      <td>4478.43</td>\n",
       "      <td>6037</td>\n",
       "      <td>283704</td>\n",
       "      <td>47405</td>\n",
       "      <td>los_angeles</td>\n",
       "      <td>34.245368</td>\n",
       "      <td>-118.18282383.0</td>\n",
       "    </tr>\n",
       "    <tr>\n",
       "      <th>52438</th>\n",
       "      <td>52438</td>\n",
       "      <td>17239384</td>\n",
       "      <td>4.0</td>\n",
       "      <td>2.0</td>\n",
       "      <td>1612</td>\n",
       "      <td>67205</td>\n",
       "      <td>1964</td>\n",
       "      <td>1107.48</td>\n",
       "      <td>6111</td>\n",
       "      <td>16522</td>\n",
       "      <td>12105</td>\n",
       "      <td>ventura</td>\n",
       "      <td>34.30014</td>\n",
       "      <td>-118.18706327.0</td>\n",
       "    </tr>\n",
       "    <tr>\n",
       "      <th>52439</th>\n",
       "      <td>52439</td>\n",
       "      <td>12773139</td>\n",
       "      <td>3.0</td>\n",
       "      <td>1.0</td>\n",
       "      <td>1032</td>\n",
       "      <td>49546</td>\n",
       "      <td>1954</td>\n",
       "      <td>876.43</td>\n",
       "      <td>6037</td>\n",
       "      <td>16749</td>\n",
       "      <td>5074</td>\n",
       "      <td>los_angeles</td>\n",
       "      <td>34.040895</td>\n",
       "      <td>-118.18038169.0</td>\n",
       "    </tr>\n",
       "    <tr>\n",
       "      <th>52440</th>\n",
       "      <td>52440</td>\n",
       "      <td>12826780</td>\n",
       "      <td>3.0</td>\n",
       "      <td>2.0</td>\n",
       "      <td>1762</td>\n",
       "      <td>522000</td>\n",
       "      <td>1955</td>\n",
       "      <td>6317.15</td>\n",
       "      <td>6037</td>\n",
       "      <td>382000</td>\n",
       "      <td>6347</td>\n",
       "      <td>los_angeles</td>\n",
       "      <td>33.937685</td>\n",
       "      <td>-117.17996709.0</td>\n",
       "    </tr>\n",
       "  </tbody>\n",
       "</table>\n",
       "<p>51752 rows × 14 columns</p>\n",
       "</div>"
      ],
      "text/plain": [
       "       Unnamed: 0  parcelid  bedrooms  bathrooms  home_size    value  year  \\\n",
       "0               0  14297519       4.0        3.5       3100  1023282  1998   \n",
       "1               1  17052889       2.0        1.0       1465   464000  1967   \n",
       "2               2  14186244       3.0        2.0       1243   564778  1962   \n",
       "3               3  12177905       4.0        3.0       2376   145143  1970   \n",
       "4               4  12095076       4.0        3.0       2962   773303  1950   \n",
       "...           ...       ...       ...        ...        ...      ...   ...   \n",
       "52436       52436  12412492       4.0        2.0       1633   346534  1962   \n",
       "52437       52437  11000655       2.0        2.0       1286   354621  1940   \n",
       "52438       52438  17239384       4.0        2.0       1612    67205  1964   \n",
       "52439       52439  12773139       3.0        1.0       1032    49546  1954   \n",
       "52440       52440  12826780       3.0        2.0       1762   522000  1955   \n",
       "\n",
       "            tax  fips  land_value  lot_size       county   latitude  \\\n",
       "0      11013.72  6059      537569      4506       orange  33.634931   \n",
       "1       5672.48  6111      376000     12647      ventura  34.449266   \n",
       "2       6488.30  6059      479489      8432       orange  33.886168   \n",
       "3       1777.51  6037       36225     13038  los_angeles   34.24518   \n",
       "4       9516.26  6037      496619     63000  los_angeles  34.145202   \n",
       "...         ...   ...         ...       ...          ...        ...   \n",
       "52436   4175.08  6037      221068      4630  los_angeles  33.870815   \n",
       "52437   4478.43  6037      283704     47405  los_angeles  34.245368   \n",
       "52438   1107.48  6111       16522     12105      ventura   34.30014   \n",
       "52439    876.43  6037       16749      5074  los_angeles  34.040895   \n",
       "52440   6317.15  6037      382000      6347  los_angeles  33.937685   \n",
       "\n",
       "             longitude  \n",
       "0      -117.17869207.0  \n",
       "1      -119.19281531.0  \n",
       "2      -117.17823170.0  \n",
       "3      -118.18240722.0  \n",
       "4      -118.18179824.0  \n",
       "...                ...  \n",
       "52436  -118.18070858.0  \n",
       "52437  -118.18282383.0  \n",
       "52438  -118.18706327.0  \n",
       "52439  -118.18038169.0  \n",
       "52440  -117.17996709.0  \n",
       "\n",
       "[51752 rows x 14 columns]"
      ]
     },
     "execution_count": 8,
     "metadata": {},
     "output_type": "execute_result"
    }
   ],
   "source": [
    "df"
   ]
  },
  {
   "cell_type": "code",
   "execution_count": 9,
   "id": "3a8b746b",
   "metadata": {},
   "outputs": [
    {
     "data": {
      "text/plain": [
       "508813.64022646466"
      ]
     },
     "execution_count": 9,
     "metadata": {},
     "output_type": "execute_result"
    }
   ],
   "source": [
    "df.value.mean()"
   ]
  },
  {
   "cell_type": "code",
   "execution_count": null,
   "id": "09c96acd",
   "metadata": {},
   "outputs": [],
   "source": []
  },
  {
   "cell_type": "markdown",
   "id": "0f642bd9",
   "metadata": {},
   "source": [
    "seeing that tax assessed value mean is very different based on the assessment year, I am dropping 2014 and 2015 assessment year records from the dataframe for consistency"
   ]
  },
  {
   "cell_type": "code",
   "execution_count": null,
   "id": "be13e9e2",
   "metadata": {},
   "outputs": [],
   "source": [
    "#df.assessmentyear.value_counts()"
   ]
  },
  {
   "cell_type": "markdown",
   "id": "dd1a781d",
   "metadata": {},
   "source": [
    "Now that all records have the same assessment year (2016), I can drop this column"
   ]
  },
  {
   "cell_type": "code",
   "execution_count": null,
   "id": "4043dc72",
   "metadata": {},
   "outputs": [],
   "source": [
    "#df.drop(columns = ['assessmentyear'], inplace=True)"
   ]
  },
  {
   "cell_type": "code",
   "execution_count": null,
   "id": "ec35ea79",
   "metadata": {},
   "outputs": [],
   "source": [
    "df"
   ]
  },
  {
   "cell_type": "code",
   "execution_count": null,
   "id": "ea2d09f2",
   "metadata": {},
   "outputs": [],
   "source": [
    "# df.rename(columns={'landtaxvaluedollarcnt': 'land_value', 'lotsizesquarefeet': 'lot_size', 'square_feet': 'home_size'}, inplace=True)"
   ]
  },
  {
   "cell_type": "code",
   "execution_count": null,
   "id": "f5f5823b",
   "metadata": {},
   "outputs": [],
   "source": [
    "# df.drop(columns='Unnamed: 0', inplace=True)"
   ]
  },
  {
   "cell_type": "code",
   "execution_count": null,
   "id": "885f8373",
   "metadata": {},
   "outputs": [],
   "source": [
    "# df"
   ]
  },
  {
   "cell_type": "code",
   "execution_count": null,
   "id": "deba9306",
   "metadata": {},
   "outputs": [],
   "source": [
    "# df['land_value'] = df.land_value.astype(int)"
   ]
  },
  {
   "cell_type": "code",
   "execution_count": null,
   "id": "cd6c04c3",
   "metadata": {},
   "outputs": [],
   "source": [
    "# df['lot_size'] = df.lot_size.astype(int)"
   ]
  },
  {
   "cell_type": "markdown",
   "id": "46ebb568",
   "metadata": {},
   "source": [
    "### Univariate Exploration"
   ]
  },
  {
   "cell_type": "code",
   "execution_count": null,
   "id": "aa9fd7d6",
   "metadata": {},
   "outputs": [],
   "source": [
    "df.bedrooms.value_counts().sort_values()"
   ]
  },
  {
   "cell_type": "code",
   "execution_count": null,
   "id": "f3434ddc",
   "metadata": {},
   "outputs": [],
   "source": [
    "df.bathrooms.value_counts().sort_values()"
   ]
  },
  {
   "cell_type": "code",
   "execution_count": 10,
   "id": "fecb9109",
   "metadata": {},
   "outputs": [],
   "source": [
    "# put this in wrangle function \n",
    "\n",
    "df = df[df.lot_size > 500]\n",
    "df = df[df.home_size > 500]\n",
    "df = df[df.value > 10000]"
   ]
  },
  {
   "cell_type": "code",
   "execution_count": 11,
   "id": "fc6140c0",
   "metadata": {},
   "outputs": [
    {
     "name": "stdout",
     "output_type": "stream",
     "text": [
      "\n"
     ]
    },
    {
     "data": {
      "text/markdown": [
       "**Zillow Data (Min, Max, Average)**"
      ],
      "text/plain": [
       "<IPython.core.display.Markdown object>"
      ]
     },
     "metadata": {},
     "output_type": "display_data"
    },
    {
     "name": "stdout",
     "output_type": "stream",
     "text": [
      "--------------------------------\n"
     ]
    },
    {
     "data": {
      "text/markdown": [
       "**Tax Assessed Value of Home**"
      ],
      "text/plain": [
       "<IPython.core.display.Markdown object>"
      ]
     },
     "metadata": {},
     "output_type": "display_data"
    },
    {
     "data": {
      "text/markdown": [
       "*Maximum Tax Assessed Value: 7,900,000*"
      ],
      "text/plain": [
       "<IPython.core.display.Markdown object>"
      ]
     },
     "metadata": {},
     "output_type": "display_data"
    },
    {
     "data": {
      "text/markdown": [
       "*Minimum Tax Assessed Value: 10,504*"
      ],
      "text/plain": [
       "<IPython.core.display.Markdown object>"
      ]
     },
     "metadata": {},
     "output_type": "display_data"
    },
    {
     "data": {
      "text/markdown": [
       "*Average Tax Assessed Value: 509,166*"
      ],
      "text/plain": [
       "<IPython.core.display.Markdown object>"
      ]
     },
     "metadata": {},
     "output_type": "display_data"
    },
    {
     "name": "stdout",
     "output_type": "stream",
     "text": [
      "--------------------------------\n"
     ]
    },
    {
     "data": {
      "text/markdown": [
       "**Tax Amount of Home**"
      ],
      "text/plain": [
       "<IPython.core.display.Markdown object>"
      ]
     },
     "metadata": {},
     "output_type": "display_data"
    },
    {
     "data": {
      "text/markdown": [
       "*Maximum Tax Amount of Home: 91,736*"
      ],
      "text/plain": [
       "<IPython.core.display.Markdown object>"
      ]
     },
     "metadata": {},
     "output_type": "display_data"
    },
    {
     "data": {
      "text/markdown": [
       "*Minimum Tax Amount of Home: 49.18*"
      ],
      "text/plain": [
       "<IPython.core.display.Markdown object>"
      ]
     },
     "metadata": {},
     "output_type": "display_data"
    },
    {
     "data": {
      "text/markdown": [
       "*Average Tax Amount of Home: 6,204*"
      ],
      "text/plain": [
       "<IPython.core.display.Markdown object>"
      ]
     },
     "metadata": {},
     "output_type": "display_data"
    },
    {
     "name": "stdout",
     "output_type": "stream",
     "text": [
      "--------------------------------\n"
     ]
    },
    {
     "data": {
      "text/markdown": [
       "**Home Size in Square Feet**"
      ],
      "text/plain": [
       "<IPython.core.display.Markdown object>"
      ]
     },
     "metadata": {},
     "output_type": "display_data"
    },
    {
     "data": {
      "text/markdown": [
       "*Maximum Home Size: 12,616 square feet*"
      ],
      "text/plain": [
       "<IPython.core.display.Markdown object>"
      ]
     },
     "metadata": {},
     "output_type": "display_data"
    },
    {
     "data": {
      "text/markdown": [
       "*Minimum Home Size: 501 square feet*"
      ],
      "text/plain": [
       "<IPython.core.display.Markdown object>"
      ]
     },
     "metadata": {},
     "output_type": "display_data"
    },
    {
     "data": {
      "text/markdown": [
       "*Average Home Size: 1,906 square feet*"
      ],
      "text/plain": [
       "<IPython.core.display.Markdown object>"
      ]
     },
     "metadata": {},
     "output_type": "display_data"
    },
    {
     "name": "stdout",
     "output_type": "stream",
     "text": [
      "--------------------------------\n"
     ]
    },
    {
     "data": {
      "text/markdown": [
       "**Lot Size in Square Feet**"
      ],
      "text/plain": [
       "<IPython.core.display.Markdown object>"
      ]
     },
     "metadata": {},
     "output_type": "display_data"
    },
    {
     "data": {
      "text/markdown": [
       "*Maximum Lot Size: 6,971,010 square feet*"
      ],
      "text/plain": [
       "<IPython.core.display.Markdown object>"
      ]
     },
     "metadata": {},
     "output_type": "display_data"
    },
    {
     "data": {
      "text/markdown": [
       "*Minimum Lot Size: 540 square feet*"
      ],
      "text/plain": [
       "<IPython.core.display.Markdown object>"
      ]
     },
     "metadata": {},
     "output_type": "display_data"
    },
    {
     "data": {
      "text/markdown": [
       "*Average Lot Size: 11,159 square feet*"
      ],
      "text/plain": [
       "<IPython.core.display.Markdown object>"
      ]
     },
     "metadata": {},
     "output_type": "display_data"
    },
    {
     "name": "stdout",
     "output_type": "stream",
     "text": [
      "--------------------------------\n"
     ]
    },
    {
     "data": {
      "text/markdown": [
       "**Tax Assessed Land Value**"
      ],
      "text/plain": [
       "<IPython.core.display.Markdown object>"
      ]
     },
     "metadata": {},
     "output_type": "display_data"
    },
    {
     "data": {
      "text/markdown": [
       "*Maximum Land Value: 7,073,604*"
      ],
      "text/plain": [
       "<IPython.core.display.Markdown object>"
      ]
     },
     "metadata": {},
     "output_type": "display_data"
    },
    {
     "data": {
      "text/markdown": [
       "*Minimum Land Value: 161*"
      ],
      "text/plain": [
       "<IPython.core.display.Markdown object>"
      ]
     },
     "metadata": {},
     "output_type": "display_data"
    },
    {
     "data": {
      "text/markdown": [
       "*Average Land Value: 319,731*"
      ],
      "text/plain": [
       "<IPython.core.display.Markdown object>"
      ]
     },
     "metadata": {},
     "output_type": "display_data"
    }
   ],
   "source": [
    "from IPython.display import Markdown, display\n",
    "def printmd(string):\n",
    "    display(Markdown(string))\n",
    "    \n",
    "print()\n",
    "printmd(\"**Zillow Data (Min, Max, Average)**\")\n",
    "print(\"--------------------------------\")\n",
    "printmd(\"**Tax Assessed Value of Home**\")\n",
    "printmd('*Maximum Tax Assessed Value: {:,}*'\n",
    "     .format(df['value'].max()))\n",
    "printmd('*Minimum Tax Assessed Value: {:,}*'\n",
    "     .format(df['value'].min()))\n",
    "printmd('*Average Tax Assessed Value: {:,}*'\n",
    "     .format(round(df['value'].mean())))\n",
    "print(\"--------------------------------\")\n",
    "printmd(\"**Tax Amount of Home**\")\n",
    "printmd('*Maximum Tax Amount of Home: {:,}*'\n",
    "     .format(round(df['tax'].max())))\n",
    "printmd('*Minimum Tax Amount of Home: {:,}*'\n",
    "     .format(df['tax'].min()))\n",
    "printmd('*Average Tax Amount of Home: {:,}*'\n",
    "     .format(round(df['tax'].mean())))\n",
    "print(\"--------------------------------\")\n",
    "printmd(\"**Home Size in Square Feet**\")\n",
    "printmd('*Maximum Home Size: {:,} square feet*'\n",
    "     .format(df['home_size'].max()))\n",
    "printmd('*Minimum Home Size: {:,} square feet*'\n",
    "     .format(df['home_size'].min()))\n",
    "printmd('*Average Home Size: {:,} square feet*'\n",
    "     .format(round(df['home_size'].mean())))\n",
    "print(\"--------------------------------\")\n",
    "printmd(\"**Lot Size in Square Feet**\")\n",
    "printmd('*Maximum Lot Size: {:,} square feet*'\n",
    "     .format(df['lot_size'].max()))\n",
    "printmd('*Minimum Lot Size: {:,} square feet*'\n",
    "     .format(df['lot_size'].min()))\n",
    "printmd('*Average Lot Size: {:,} square feet*'\n",
    "     .format(round(df['lot_size'].mean())))\n",
    "print(\"--------------------------------\")\n",
    "printmd(\"**Tax Assessed Land Value**\")\n",
    "printmd('*Maximum Land Value: {:,}*'\n",
    "     .format(df['land_value'].max()))\n",
    "printmd('*Minimum Land Value: {:,}*'\n",
    "     .format(df['land_value'].min()))\n",
    "printmd('*Average Land Value: {:,}*'\n",
    "     .format(round(df['land_value'].mean())))"
   ]
  },
  {
   "cell_type": "code",
   "execution_count": 12,
   "id": "a6b2a77d",
   "metadata": {},
   "outputs": [
    {
     "data": {
      "text/plain": [
       "<AxesSubplot:title={'center':'bedroom count'}, xlabel='bedrooms', ylabel='count'>"
      ]
     },
     "execution_count": 12,
     "metadata": {},
     "output_type": "execute_result"
    },
    {
     "data": {
      "image/png": "[encoded data removed]",
      "text/plain": [
       "<Figure size 720x288 with 1 Axes>"
      ]
     },
     "metadata": {
      "needs_background": "light"
     },
     "output_type": "display_data"
    }
   ],
   "source": [
    "plt.figure(figsize=(10, 4))\n",
    "sns.set_palette('Set2', 8)\n",
    "plt.title('bedroom count')\n",
    "sns.countplot(x = 'bedrooms', data= df)"
   ]
  },
  {
   "cell_type": "code",
   "execution_count": 13,
   "id": "b341739c",
   "metadata": {},
   "outputs": [
    {
     "data": {
      "text/plain": [
       "Text(0.5, 1.0, 'bathroom count')"
      ]
     },
     "execution_count": 13,
     "metadata": {},
     "output_type": "execute_result"
    },
    {
     "data": {
      "image/png": "[encoded data removed]",
      "text/plain": [
       "<Figure size 1008x360 with 1 Axes>"
      ]
     },
     "metadata": {
      "needs_background": "light"
     },
     "output_type": "display_data"
    }
   ],
   "source": [
    "plt.figure(figsize=(14, 5))\n",
    "sns.set_palette('Set2', 20)\n",
    "sns.countplot(x='bathrooms', data=df)\n",
    "plt.title('bathroom count')"
   ]
  },
  {
   "cell_type": "code",
   "execution_count": 14,
   "id": "9386c112",
   "metadata": {},
   "outputs": [],
   "source": [
    "from sklearn.model_selection import train_test_split\n",
    "from scipy.stats import pearsonr, spearmanr\n",
    "\n",
    "from math import sqrt\n",
    "from scipy import stats"
   ]
  },
  {
   "cell_type": "code",
   "execution_count": 15,
   "id": "9225fc27",
   "metadata": {},
   "outputs": [],
   "source": [
    "# make this a function\n",
    "train_and_validate, test = train_test_split(df, test_size=.2, random_state=123)\n",
    "train, validate = train_test_split(train_and_validate, test_size=.3, random_state=123)"
   ]
  },
  {
   "cell_type": "code",
   "execution_count": null,
   "id": "a20f2c85",
   "metadata": {},
   "outputs": [],
   "source": [
    "train.info()"
   ]
  },
  {
   "cell_type": "code",
   "execution_count": null,
   "id": "f9102171",
   "metadata": {},
   "outputs": [],
   "source": [
    "orange_train = train.copy()"
   ]
  },
  {
   "cell_type": "code",
   "execution_count": null,
   "id": "ea013619",
   "metadata": {},
   "outputs": [],
   "source": [
    "ventura_train = train.copy()"
   ]
  },
  {
   "cell_type": "code",
   "execution_count": null,
   "id": "9e5c212b",
   "metadata": {},
   "outputs": [],
   "source": [
    "la_train = train.copy()"
   ]
  },
  {
   "cell_type": "code",
   "execution_count": null,
   "id": "b3d12c8a",
   "metadata": {},
   "outputs": [],
   "source": [
    "orange_train = orange_train[orange_train.county == 'orange']"
   ]
  },
  {
   "cell_type": "code",
   "execution_count": null,
   "id": "d34a30d0",
   "metadata": {},
   "outputs": [],
   "source": [
    "orange_train"
   ]
  },
  {
   "cell_type": "code",
   "execution_count": null,
   "id": "06e0c4ad",
   "metadata": {},
   "outputs": [],
   "source": [
    "ventura_train = ventura_train[ventura_train.county == 'ventura']"
   ]
  },
  {
   "cell_type": "code",
   "execution_count": null,
   "id": "c6b7316c",
   "metadata": {},
   "outputs": [],
   "source": [
    "la_train = la_train[la_train.county == 'los_angeles']"
   ]
  },
  {
   "cell_type": "code",
   "execution_count": null,
   "id": "3302fb45",
   "metadata": {},
   "outputs": [],
   "source": [
    "ventura_train.to_csv(\"ventura_locations.csv\")\n",
    "la_train.to_csv(\"la_locations.csv\")\n",
    "orange_train.to_csv(\"orange_locations.csv\")"
   ]
  },
  {
   "cell_type": "code",
   "execution_count": null,
   "id": "89890b94",
   "metadata": {},
   "outputs": [],
   "source": [
    "ventura_train.info()"
   ]
  },
  {
   "cell_type": "code",
   "execution_count": null,
   "id": "10280a4e",
   "metadata": {},
   "outputs": [],
   "source": [
    "ventura_train['latitude'] = ventura_train.latitude.astype(str)"
   ]
  },
  {
   "cell_type": "code",
   "execution_count": null,
   "id": "9aafaa10",
   "metadata": {},
   "outputs": [],
   "source": [
    "ventura_train['latitude'].dtype"
   ]
  },
  {
   "cell_type": "code",
   "execution_count": null,
   "id": "2c653504",
   "metadata": {},
   "outputs": [],
   "source": [
    "ventura_train['latitude'] = np.where(ventura_train['latitude']==' ',0, ventura_train['latitude']).astype(float)"
   ]
  },
  {
   "cell_type": "code",
   "execution_count": null,
   "id": "1c249599",
   "metadata": {},
   "outputs": [],
   "source": [
    "ventura_train['longitude'] = ventura_train.longitude.astype(str)"
   ]
  },
  {
   "cell_type": "code",
   "execution_count": null,
   "id": "e1d95198",
   "metadata": {},
   "outputs": [],
   "source": [
    "ventura_train['longitude'] = ventura_train['longitude'].str.rstrip('.0') "
   ]
  },
  {
   "cell_type": "code",
   "execution_count": null,
   "id": "e6a8e946",
   "metadata": {},
   "outputs": [],
   "source": [
    "ventura_train['longitude']"
   ]
  },
  {
   "cell_type": "code",
   "execution_count": null,
   "id": "759eed4f",
   "metadata": {},
   "outputs": [],
   "source": [
    "ventura_train['longitude'] = np.where(ventura_train['longitude']==' ',0, ventura_train['longitude']).astype(float)"
   ]
  },
  {
   "cell_type": "code",
   "execution_count": 16,
   "id": "81017e09",
   "metadata": {},
   "outputs": [],
   "source": [
    "import geopy"
   ]
  },
  {
   "cell_type": "code",
   "execution_count": null,
   "id": "1f896c93",
   "metadata": {},
   "outputs": [],
   "source": [
    "# def get_zipcode(ventura_train, geolocator, lat_field, lon_field):\n",
    "#     location = geolocator.reverse((ventura_train['latitude'], ventura_train['longitude']))\n",
    "#     return location.raw['address']['postcode']\n",
    "\n",
    "# geolocator = geopy.Nominatim(user_agent='mlshiben')"
   ]
  },
  {
   "cell_type": "code",
   "execution_count": null,
   "id": "51425cc6",
   "metadata": {},
   "outputs": [],
   "source": [
    "ventura_train.get('latitude')"
   ]
  },
  {
   "cell_type": "code",
   "execution_count": 17,
   "id": "e4a16bfb",
   "metadata": {},
   "outputs": [],
   "source": [
    "import geocoder"
   ]
  },
  {
   "cell_type": "code",
   "execution_count": null,
   "id": "43b64376",
   "metadata": {},
   "outputs": [],
   "source": [
    "# def geo_rev(ventura_train):\n",
    "#     g = geocoder.osm([ventura_train.latitude, ventura_train.longitude], method='reverse').json\n",
    "#     if g:\n",
    "#         return g.get('postal')\n",
    "#     else:\n",
    "#         return 'no postal'\n",
    "\n",
    "# ventura_train[['latitude', 'longitude']].apply(geo_rev, axis=1)\n"
   ]
  },
  {
   "cell_type": "code",
   "execution_count": null,
   "id": "9038c8e2",
   "metadata": {},
   "outputs": [],
   "source": [
    "# g = geocoder.osm(ventura_train['latitude'], ventura_train['longitude']), method='reverse')\n",
    "# g.json['postal']"
   ]
  },
  {
   "cell_type": "code",
   "execution_count": null,
   "id": "012128cb",
   "metadata": {},
   "outputs": [],
   "source": [
    "# zipcodes = ventura_train.apply(get_zipcode, geolocator=geolocator, lat_field ='latitude', lon_field = 'longitude')"
   ]
  },
  {
   "cell_type": "code",
   "execution_count": null,
   "id": "156e5b8b",
   "metadata": {},
   "outputs": [],
   "source": [
    "# ventura_train.info()"
   ]
  },
  {
   "cell_type": "code",
   "execution_count": null,
   "id": "233df0f7",
   "metadata": {},
   "outputs": [],
   "source": [
    "# sample = ventura_train.copy()"
   ]
  },
  {
   "cell_type": "code",
   "execution_count": null,
   "id": "a14997c9",
   "metadata": {},
   "outputs": [],
   "source": [
    "# sample.value.quantile(.999)"
   ]
  },
  {
   "cell_type": "code",
   "execution_count": null,
   "id": "2b6d3676",
   "metadata": {},
   "outputs": [],
   "source": [
    "# sample = sample[sample.value > 3843389]"
   ]
  },
  {
   "cell_type": "code",
   "execution_count": null,
   "id": "560cc987",
   "metadata": {},
   "outputs": [],
   "source": [
    "# def geo_rev(sample):\n",
    "#     g = geocoder.osm([sample.latitude, sample.longitude], method='reverse').json\n",
    "#     if g:\n",
    "#         return g.get('postal')\n",
    "#     else:\n",
    "#         return 'no postal'\n",
    "\n",
    "# zips = sample[['latitude', 'longitude']].apply(geo_rev, axis=1)"
   ]
  },
  {
   "cell_type": "code",
   "execution_count": 18,
   "id": "1de9baba",
   "metadata": {},
   "outputs": [],
   "source": [
    "import plotly.express as px"
   ]
  },
  {
   "cell_type": "code",
   "execution_count": 19,
   "id": "6180c739",
   "metadata": {},
   "outputs": [],
   "source": [
    "from sklearn.cluster import DBSCAN\n",
    "from geopy.distance import great_circle\n",
    "from shapely.geometry import MultiPoint"
   ]
  },
  {
   "cell_type": "markdown",
   "id": "9239a30d",
   "metadata": {},
   "source": [
    "clustering = DBSCAN(eps=15, min_samples=5).fit(coords)"
   ]
  },
  {
   "cell_type": "code",
   "execution_count": null,
   "id": "f41a3942",
   "metadata": {},
   "outputs": [],
   "source": [
    "#labels = clustering.labels_"
   ]
  },
  {
   "cell_type": "code",
   "execution_count": null,
   "id": "17c3b3ef",
   "metadata": {},
   "outputs": [],
   "source": [
    "# n_clusters = len(set(labels)) - (1 if -1 in labels else 0)\n",
    "# n_noise = list(labels).count(-1)\n",
    "# n_noise"
   ]
  },
  {
   "cell_type": "code",
   "execution_count": null,
   "id": "045f4629",
   "metadata": {},
   "outputs": [],
   "source": [
    "# fig = px.scatter_geo(sample,lat='latitude',lon='longitude')\n",
    "# fig.show()"
   ]
  },
  {
   "cell_type": "code",
   "execution_count": 20,
   "id": "98ef8b3e",
   "metadata": {},
   "outputs": [],
   "source": [
    "from sklearn.cluster import KMeans"
   ]
  },
  {
   "cell_type": "code",
   "execution_count": null,
   "id": "81b60130",
   "metadata": {},
   "outputs": [],
   "source": [
    "kmeans = KMeans(\n",
    "    init=\"random\",\n",
    "    n_clusters=100)"
   ]
  },
  {
   "cell_type": "code",
   "execution_count": null,
   "id": "fc68835f",
   "metadata": {},
   "outputs": [],
   "source": [
    "coords = train[['latitude', 'longitude']].to_numpy()"
   ]
  },
  {
   "cell_type": "code",
   "execution_count": null,
   "id": "b8809b3e",
   "metadata": {},
   "outputs": [],
   "source": [
    "\n",
    "# save results\n",
    "label = kmeans.fit_predict(coords)\n",
    "label.min()\n",
    "label.max()"
   ]
  },
  {
   "cell_type": "code",
   "execution_count": null,
   "id": "7d485b0e",
   "metadata": {},
   "outputs": [],
   "source": [
    "filtered_label0 = ventura_train[label == 0]\n",
    "filtered_label1 = ventura_train[label == 1]\n",
    "filtered_label2 = ventura_train[label == 2]\n",
    "filtered_label3 = ventura_train[label == 3]\n",
    "filtered_label4 = ventura_train[label == 4]\n",
    "filtered_label5 = ventura_train[label == 5]\n",
    " \n",
    "#Plotting the results\n",
    "plt.scatter(filtered_label0.latitude , filtered_label0.longitude, color = 'red')\n",
    "plt.scatter(filtered_label1.latitude , filtered_label1.longitude, color = 'black')\n",
    "plt.show()\n"
   ]
  },
  {
   "cell_type": "code",
   "execution_count": null,
   "id": "36987b7a",
   "metadata": {},
   "outputs": [],
   "source": []
  },
  {
   "cell_type": "code",
   "execution_count": null,
   "id": "e97a83f2",
   "metadata": {},
   "outputs": [],
   "source": [
    "ventura_train"
   ]
  },
  {
   "cell_type": "code",
   "execution_count": null,
   "id": "e3e1ea1c",
   "metadata": {},
   "outputs": [],
   "source": [
    "vdf = pd.DataFrame([[]])\n",
    "#= ventura_train.latitude.where(ventura_train.KM_label == 1).mean()\n",
    "vdf"
   ]
  },
  {
   "cell_type": "code",
   "execution_count": null,
   "id": "ef3de94f",
   "metadata": {},
   "outputs": [],
   "source": [
    "vdf['label'] = ventura_train['KM_label'].copy()"
   ]
  },
  {
   "cell_type": "code",
   "execution_count": null,
   "id": "77402549",
   "metadata": {},
   "outputs": [],
   "source": [
    "v0 = ventura_train.latitude.where(ventura_train.KM_label == 0).mean()\n",
    "v1 = ventura_train.latitude.where(ventura_train.KM_label == 1).mean()\n",
    "v2 = ventura_train.latitude.where(ventura_train.KM_label == 2).mean()\n",
    "v3 = ventura_train.latitude.where(ventura_train.KM_label == 3).mean()\n",
    "v4 = ventura_train.latitude.where(ventura_train.KM_label == 4).mean()\n",
    "v5 = ventura_train.latitude.where(ventura_train.KM_label == 5).mean()\n",
    "\n",
    "l0 = ventura_train.longitude.where(ventura_train.KM_label == 0).mean()\n",
    "l1 = ventura_train.longitude.where(ventura_train.KM_label == 1).mean()\n",
    "l2 = ventura_train.longitude.where(ventura_train.KM_label == 2).mean()\n",
    "l3 = ventura_train.longitude.where(ventura_train.KM_label == 3).mean()\n",
    "l4 = ventura_train.longitude.where(ventura_train.KM_label == 4).mean()\n",
    "l5 = ventura_train.longitude.where(ventura_train.KM_label == 5).mean()\n",
    "\n",
    "a0 = ventura_train.value.where(ventura_train.KM_label == 0).mean()\n",
    "a1 = ventura_train.value.where(ventura_train.KM_label == 1).mean()\n",
    "a2 = ventura_train.value.where(ventura_train.KM_label == 2).mean()\n",
    "a3 = ventura_train.value.where(ventura_train.KM_label == 3).mean()\n",
    "a4 = ventura_train.value.where(ventura_train.KM_label == 4).mean()\n",
    "a5 = ventura_train.value.where(ventura_train.KM_label == 5).mean()\n"
   ]
  },
  {
   "cell_type": "code",
   "execution_count": null,
   "id": "86c8b044",
   "metadata": {},
   "outputs": [],
   "source": [
    "vdf = pd.DataFrame({'bin': [0, 1, 2, 3, 4, 5], 'a_lat': [v0, v1, v2, v3, v4, v5], 'a_lon': [l0, l1, l2, l3, l4, l5], 'v': [a0, a1, a2, a3, a4, a5]})\n",
    "vdf"
   ]
  },
  {
   "cell_type": "code",
   "execution_count": null,
   "id": "05201d8d",
   "metadata": {},
   "outputs": [],
   "source": []
  },
  {
   "cell_type": "code",
   "execution_count": null,
   "id": "c6227aa9",
   "metadata": {},
   "outputs": [],
   "source": [
    "vdf['v'] = round(vdf.v).astype(str)"
   ]
  },
  {
   "cell_type": "code",
   "execution_count": null,
   "id": "9a82b7c1",
   "metadata": {},
   "outputs": [],
   "source": [
    "vdf['v'] = vdf.v.astype(float)"
   ]
  },
  {
   "cell_type": "code",
   "execution_count": null,
   "id": "35224b1c",
   "metadata": {},
   "outputs": [],
   "source": [
    "vdf['v'] = vdf.apply(lambda x: \"{:,}\".format(x['v']), axis=1)"
   ]
  },
  {
   "cell_type": "code",
   "execution_count": null,
   "id": "dd30a202",
   "metadata": {},
   "outputs": [],
   "source": [
    "vdf.v"
   ]
  },
  {
   "cell_type": "code",
   "execution_count": null,
   "id": "1c76aa56",
   "metadata": {},
   "outputs": [],
   "source": [
    "vdf['v'] = '$' + vdf['v']"
   ]
  },
  {
   "cell_type": "code",
   "execution_count": null,
   "id": "28103241",
   "metadata": {},
   "outputs": [],
   "source": [
    "vdf.v"
   ]
  },
  {
   "cell_type": "code",
   "execution_count": null,
   "id": "56c7cb3a",
   "metadata": {},
   "outputs": [],
   "source": [
    "vdf['v'] = vdf[\"v\"].str[:-2]"
   ]
  },
  {
   "cell_type": "code",
   "execution_count": null,
   "id": "6cd61aa6",
   "metadata": {},
   "outputs": [],
   "source": [
    "vdf"
   ]
  },
  {
   "cell_type": "code",
   "execution_count": null,
   "id": "ed364aad",
   "metadata": {},
   "outputs": [],
   "source": [
    "fig = px.scatter_geo(vdf, lat='a_lat', lon='a_lon', color=\"bin\", text='v', hover_data= 'v',\n",
    "            locationmode = 'USA-states')\n",
    "\n",
    "fig.update_traces(marker=dict(size=15))\n",
    "fig.update_geos(\n",
    "    visible=False, resolution=110, scope=\"usa\",\n",
    "    showcountries=True, countrycolor=\"Black\",\n",
    "    showsubunits=True, subunitcolor=\"Blue\")\n",
    "\n",
    "fig.show()"
   ]
  },
  {
   "cell_type": "code",
   "execution_count": null,
   "id": "14a3ada2",
   "metadata": {},
   "outputs": [],
   "source": [
    "orange_train"
   ]
  },
  {
   "cell_type": "code",
   "execution_count": null,
   "id": "8cbb26b4",
   "metadata": {},
   "outputs": [],
   "source": [
    "la_train"
   ]
  },
  {
   "cell_type": "code",
   "execution_count": null,
   "id": "1fbf40a4",
   "metadata": {},
   "outputs": [],
   "source": [
    "kmeans = KMeans(\n",
    "    init=\"random\",\n",
    "    n_clusters= 12)"
   ]
  },
  {
   "cell_type": "code",
   "execution_count": null,
   "id": "e0c3ecec",
   "metadata": {},
   "outputs": [],
   "source": [
    "orange_train['latitude'] = np.where(orange_train['latitude']==' ',0, orange_train['latitude']).astype(float)"
   ]
  },
  {
   "cell_type": "code",
   "execution_count": null,
   "id": "a6c1bb8d",
   "metadata": {},
   "outputs": [],
   "source": [
    "orange_train['longitude'] = orange_train['longitude'].astype(str)"
   ]
  },
  {
   "cell_type": "code",
   "execution_count": null,
   "id": "8815f366",
   "metadata": {},
   "outputs": [],
   "source": [
    "orange_train['longitude'] = orange_train['longitude'].str[:-2] "
   ]
  },
  {
   "cell_type": "code",
   "execution_count": null,
   "id": "3e7562d4",
   "metadata": {},
   "outputs": [],
   "source": [
    "orange_train['latitude'] = orange_train['latitude'].astype(float)"
   ]
  },
  {
   "cell_type": "code",
   "execution_count": null,
   "id": "c57ca55c",
   "metadata": {},
   "outputs": [],
   "source": [
    "orange_train['longitude'] = orange_train['longitude'].astype(float)"
   ]
  },
  {
   "cell_type": "code",
   "execution_count": null,
   "id": "97b9091d",
   "metadata": {},
   "outputs": [],
   "source": [
    "coords = orange_train[['latitude', 'longitude']].to_numpy()"
   ]
  },
  {
   "cell_type": "code",
   "execution_count": null,
   "id": "fa76043f",
   "metadata": {},
   "outputs": [],
   "source": [
    "label = kmeans.fit_predict(coords)"
   ]
  },
  {
   "cell_type": "code",
   "execution_count": null,
   "id": "55dddedb",
   "metadata": {},
   "outputs": [],
   "source": [
    "orange_train['KM_label'] = pd.Series(label, index=orange_train.index)"
   ]
  },
  {
   "cell_type": "code",
   "execution_count": null,
   "id": "01fce026",
   "metadata": {},
   "outputs": [],
   "source": [
    "kmeans = KMeans(\n",
    "    init=\"random\",\n",
    "    n_clusters= 12)"
   ]
  },
  {
   "cell_type": "code",
   "execution_count": null,
   "id": "93dd85ed",
   "metadata": {},
   "outputs": [],
   "source": [
    "la_train['latitude'] = np.where(la_train['latitude']==' ',0, la_train['latitude']).astype(float)"
   ]
  },
  {
   "cell_type": "code",
   "execution_count": null,
   "id": "3e4f7d6e",
   "metadata": {},
   "outputs": [],
   "source": [
    "la_train['longitude'] = la_train['longitude'].astype(str)"
   ]
  },
  {
   "cell_type": "code",
   "execution_count": null,
   "id": "30c3d9c3",
   "metadata": {},
   "outputs": [],
   "source": [
    "la_train['longitude'] = la_train['longitude'].str[:-2] "
   ]
  },
  {
   "cell_type": "code",
   "execution_count": null,
   "id": "22021eff",
   "metadata": {},
   "outputs": [],
   "source": [
    "la_train['latitude'] = la_train['latitude'].astype(float)"
   ]
  },
  {
   "cell_type": "code",
   "execution_count": null,
   "id": "1ed45c2d",
   "metadata": {},
   "outputs": [],
   "source": [
    "la_train['longitude'] = la_train['longitude'].astype(float)"
   ]
  },
  {
   "cell_type": "code",
   "execution_count": null,
   "id": "6e23d960",
   "metadata": {},
   "outputs": [],
   "source": [
    "coords = la_train[['latitude', 'longitude']].to_numpy()"
   ]
  },
  {
   "cell_type": "code",
   "execution_count": null,
   "id": "6433f876",
   "metadata": {},
   "outputs": [],
   "source": [
    "label = kmeans.fit_predict(coords)"
   ]
  },
  {
   "cell_type": "code",
   "execution_count": null,
   "id": "a842466c",
   "metadata": {},
   "outputs": [],
   "source": [
    "#label.max()"
   ]
  },
  {
   "cell_type": "code",
   "execution_count": null,
   "id": "2bbf4c15",
   "metadata": {},
   "outputs": [],
   "source": [
    "la_train['KM_label'] = pd.Series(label, index=la_train.index)"
   ]
  },
  {
   "cell_type": "code",
   "execution_count": null,
   "id": "38c224f4",
   "metadata": {},
   "outputs": [],
   "source": [
    "la_train"
   ]
  },
  {
   "cell_type": "code",
   "execution_count": null,
   "id": "cbcd87e0",
   "metadata": {},
   "outputs": [],
   "source": [
    "la_train"
   ]
  },
  {
   "cell_type": "code",
   "execution_count": 24,
   "id": "0691551c",
   "metadata": {},
   "outputs": [],
   "source": [
    "train['latitude'] = np.where(train['latitude']==' ',0, train['latitude']).astype(float)\n",
    "validate['latitude'] = np.where(validate['latitude']==' ',0, validate['latitude']).astype(float)\n",
    "test['latitude'] = np.where(test['latitude']==' ',0, test['latitude']).astype(float)"
   ]
  },
  {
   "cell_type": "code",
   "execution_count": 25,
   "id": "3f7a817c",
   "metadata": {},
   "outputs": [],
   "source": [
    "train['longitude'] = train['longitude'].astype(str)\n",
    "validate['longitude'] = validate['longitude'].astype(str)\n",
    "test['longitude'] = test['longitude'].astype(str)"
   ]
  },
  {
   "cell_type": "code",
   "execution_count": 26,
   "id": "e4be351d",
   "metadata": {},
   "outputs": [],
   "source": [
    "train['longitude'] = train['longitude'].str[:-2] \n",
    "validate['longitude'] = validate['longitude'].str[:-2] \n",
    "test['longitude'] = test['longitude'].str[:-2] "
   ]
  },
  {
   "cell_type": "code",
   "execution_count": 27,
   "id": "69d7a8be",
   "metadata": {},
   "outputs": [],
   "source": [
    "train['latitude'] = train['latitude'].astype(float)\n",
    "validate['latitude'] = validate['latitude'].astype(float)\n",
    "test['latitude'] = test['latitude'].astype(float)"
   ]
  },
  {
   "cell_type": "code",
   "execution_count": 28,
   "id": "128e5bd5",
   "metadata": {},
   "outputs": [],
   "source": [
    "train['longitude'] = train['longitude'].astype(float)\n",
    "validate['longitude'] = validate['longitude'].astype(float)\n",
    "test['longitude'] = test['longitude'].astype(float)"
   ]
  },
  {
   "cell_type": "code",
   "execution_count": null,
   "id": "d01c4257",
   "metadata": {},
   "outputs": [],
   "source": []
  },
  {
   "cell_type": "code",
   "execution_count": null,
   "id": "97845986",
   "metadata": {},
   "outputs": [],
   "source": []
  },
  {
   "cell_type": "code",
   "execution_count": null,
   "id": "b86f5181",
   "metadata": {},
   "outputs": [],
   "source": [
    "train['KM_label'] = pd.Series(label, index= train.index)"
   ]
  },
  {
   "cell_type": "code",
   "execution_count": null,
   "id": "3ccec55f",
   "metadata": {},
   "outputs": [],
   "source": [
    "train"
   ]
  },
  {
   "cell_type": "code",
   "execution_count": null,
   "id": "f1a57066",
   "metadata": {},
   "outputs": [],
   "source": [
    "A0 = train.latitude.where(train.KM_label == 0).mean()\n",
    "A1 = train.latitude.where(train.KM_label == 1).mean()\n",
    "A2 = train.latitude.where(train.KM_label == 2).mean()\n",
    "A3 = train.latitude.where(train.KM_label == 3).mean()\n",
    "A4 = train.latitude.where(train.KM_label == 4).mean()\n",
    "A5 = train.latitude.where(train.KM_label == 5).mean()\n",
    "A6 = train.latitude.where(train.KM_label == 6).mean()\n",
    "A7 = train.latitude.where(train.KM_label == 7).mean()\n",
    "A8 = train.latitude.where(train.KM_label == 8).mean()\n",
    "A9 = train.latitude.where(train.KM_label == 9).mean()\n",
    "A10 = train.latitude.where(train.KM_label == 10).mean()\n",
    "A11 = train.latitude.where(train.KM_label == 11).mean()\n",
    "A12 = train.latitude.where(train.KM_label == 12).mean()\n",
    "A13 = train.latitude.where(train.KM_label == 13).mean()\n",
    "A14 = train.latitude.where(train.KM_label == 14).mean()\n",
    "A15 = train.latitude.where(train.KM_label == 15).mean()\n",
    "A16 = train.latitude.where(train.KM_label == 16).mean()\n",
    "A17 = train.latitude.where(train.KM_label == 17).mean()\n",
    "A18 = train.latitude.where(train.KM_label == 18).mean()\n",
    "A19 = train.latitude.where(train.KM_label == 19).mean()\n",
    "A20 = train.latitude.where(train.KM_label == 20).mean()\n",
    "A21 = train.latitude.where(train.KM_label == 21).mean()\n",
    "\n",
    "B0 = train.longitude.where(train.KM_label == 0).mean()\n",
    "B1 = train.longitude.where(train.KM_label == 1).mean()\n",
    "B2 = train.longitude.where(train.KM_label == 2).mean()\n",
    "B3 = train.longitude.where(train.KM_label == 3).mean()\n",
    "B4 = train.longitude.where(train.KM_label == 4).mean()\n",
    "B5 = train.longitude.where(train.KM_label == 5).mean()\n",
    "B6 = train.longitude.where(train.KM_label == 6).mean()\n",
    "B7 = train.longitude.where(train.KM_label == 7).mean()\n",
    "B8 = train.longitude.where(train.KM_label == 8).mean()\n",
    "B9 = train.longitude.where(train.KM_label == 9).mean()\n",
    "B10 = train.longitude.where(train.KM_label == 10).mean()\n",
    "B11 = train.longitude.where(train.KM_label == 11).mean()\n",
    "B12 = train.longitude.where(train.KM_label == 12).mean()\n",
    "B13 = train.longitude.where(train.KM_label == 13).mean()\n",
    "B14 = train.longitude.where(train.KM_label == 14).mean()\n",
    "B15 = train.longitude.where(train.KM_label == 15).mean()\n",
    "B16 = train.longitude.where(train.KM_label == 16).mean()\n",
    "B17 = train.longitude.where(train.KM_label == 17).mean()\n",
    "B18 = train.longitude.where(train.KM_label == 18).mean()\n",
    "B19 = train.longitude.where(train.KM_label == 19).mean()\n",
    "B20 = train.longitude.where(train.KM_label == 20).mean()\n",
    "B21 = train.longitude.where(train.KM_label == 21).mean()\n",
    "\n",
    "V0 = train.value.where(train.KM_label == 0).mean()\n",
    "V1 = train.value.where(train.KM_label == 1).mean()\n",
    "V2 = train.value.where(train.KM_label == 2).mean()\n",
    "V3 = train.value.where(train.KM_label == 3).mean()\n",
    "V4 = train.value.where(train.KM_label == 4).mean()\n",
    "V5 = train.value.where(train.KM_label == 5).mean()\n",
    "V6 = train.value.where(train.KM_label == 6).mean()\n",
    "V7 = train.value.where(train.KM_label == 7).mean()\n",
    "V8 = train.value.where(train.KM_label == 8).mean()\n",
    "V9 = train.value.where(train.KM_label == 9).mean()\n",
    "V10 = train.value.where(train.KM_label == 10).mean()\n",
    "V11 = train.value.where(train.KM_label == 11).mean()\n",
    "V12 = train.value.where(train.KM_label == 12).mean()\n",
    "V13 = train.value.where(train.KM_label == 13).mean()\n",
    "V14 = train.value.where(train.KM_label == 14).mean()\n",
    "V15 = train.value.where(train.KM_label == 15).mean()\n",
    "V16 = train.value.where(train.KM_label == 16).mean()\n",
    "V17 = train.value.where(train.KM_label == 17).mean()\n",
    "V18 = train.value.where(train.KM_label == 18).mean()\n",
    "V19 = train.value.where(train.KM_label == 19).mean()\n",
    "V20 = train.value.where(train.KM_label == 20).mean()\n",
    "V21 = train.value.where(train.KM_label == 21).mean()"
   ]
  },
  {
   "cell_type": "code",
   "execution_count": null,
   "id": "7cf694f7",
   "metadata": {},
   "outputs": [],
   "source": [
    "mapdf = pd.DataFrame({'bin': [0, 1, 2, 3, 4, 5, 6, 7, 8, 9, 10, 11, 12, 13, 14, 15, 16, 17, 18, 19, 20, 21], 'lat': [A0, A1, A2, A3, A4, A5, A6, A7, A8, A9, A10, A11, A12, A13, A14, A15, A16, A17, A18, A19, A20, A21], 'lon': [B0, B1, B2, B3, B4, B5, B6, B7, B8, B9, B10, B11, B12, B13, B14, B15, B16, B17, B18, B19, B20, B21], 'v': [V0, V1, V2, V3, V4, V5, V6, V7, V8, V9, V10, V11, V12, V13, V14, V15, V16, V17, V18, V19, V20, V21]})\n",
    "mapdf\n"
   ]
  },
  {
   "cell_type": "code",
   "execution_count": null,
   "id": "f50d0e59",
   "metadata": {},
   "outputs": [],
   "source": [
    "fig = px.scatter_geo(mapdf, lat='lat', lon='lon', color=\"bin\", hover_data= 'v',\n",
    "            locationmode = 'USA-states')\n",
    "\n",
    "fig.update_traces(marker=dict(size=20))\n",
    "fig.update_geos(\n",
    "    visible=True, resolution=110, scope=\"usa\",\n",
    "    showcountries=True, countrycolor=\"Black\",\n",
    "    showsubunits=True, subunitcolor=\"Blue\")\n",
    "\n",
    "\n",
    "fig.show()"
   ]
  },
  {
   "cell_type": "code",
   "execution_count": null,
   "id": "c72e3e24",
   "metadata": {},
   "outputs": [],
   "source": [
    "OA0 = orange_train.latitude.where(orange_train.KM_label == 0).mean()\n",
    "OA1 = orange_train.latitude.where(orange_train.KM_label == 1).mean()\n",
    "OA2 = orange_train.latitude.where(orange_train.KM_label == 2).mean()\n",
    "OA3 = orange_train.latitude.where(orange_train.KM_label == 3).mean()\n",
    "OA4 = orange_train.latitude.where(orange_train.KM_label == 4).mean()\n",
    "OA5 = orange_train.latitude.where(orange_train.KM_label == 5).mean()\n",
    "OA6 = orange_train.latitude.where(orange_train.KM_label == 6).mean()\n",
    "OA7 = orange_train.latitude.where(orange_train.KM_label == 7).mean()\n",
    "OA8 = orange_train.latitude.where(orange_train.KM_label == 8).mean()\n",
    "OA9 = orange_train.latitude.where(orange_train.KM_label == 9).mean()\n",
    "OA10 = orange_train.latitude.where(orange_train.KM_label == 10).mean()\n",
    "OA11 = orange_train.latitude.where(orange_train.KM_label == 11).mean()\n",
    "\n",
    "\n",
    "OB0 = orange_train.longitude.where(orange_train.KM_label == 0).mean()\n",
    "OB1 = orange_train.longitude.where(orange_train.KM_label == 1).mean()\n",
    "OB2 = orange_train.longitude.where(orange_train.KM_label == 2).mean()\n",
    "OB3 = orange_train.longitude.where(orange_train.KM_label == 3).mean()\n",
    "OB4 = orange_train.longitude.where(orange_train.KM_label == 4).mean()\n",
    "OB5 = orange_train.longitude.where(orange_train.KM_label == 5).mean()\n",
    "OB6 = orange_train.longitude.where(orange_train.KM_label == 6).mean()\n",
    "OB7 = orange_train.longitude.where(orange_train.KM_label == 7).mean()\n",
    "OB8 = orange_train.longitude.where(orange_train.KM_label == 8).mean()\n",
    "OB9 = orange_train.longitude.where(orange_train.KM_label == 9).mean()\n",
    "OB10 = orange_train.longitude.where(orange_train.KM_label == 10).mean()\n",
    "OB11 = orange_train.longitude.where(orange_train.KM_label == 11).mean()\n",
    "\n",
    "OV0 = orange_train.value.where(orange_train.KM_label == 0).mean()\n",
    "OV1 = orange_train.value.where(orange_train.KM_label == 1).mean()\n",
    "OV2 = orange_train.value.where(orange_train.KM_label == 2).mean()\n",
    "OV3 = orange_train.value.where(orange_train.KM_label == 3).mean()\n",
    "OV4 = orange_train.value.where(orange_train.KM_label == 4).mean()\n",
    "OV5 = orange_train.value.where(orange_train.KM_label == 5).mean()\n",
    "OV6 = orange_train.value.where(orange_train.KM_label == 6).mean()\n",
    "OV7 = orange_train.value.where(orange_train.KM_label == 7).mean()\n",
    "OV8 = orange_train.value.where(orange_train.KM_label == 8).mean()\n",
    "OV9 = orange_train.value.where(orange_train.KM_label == 9).mean()\n",
    "OV10 = orange_train.value.where(orange_train.KM_label == 10).mean()\n",
    "OV11 = orange_train.value.where(orange_train.KM_label == 11).mean()\n",
    "\n",
    "VA0 = ventura_train.latitude.where(ventura_train.KM_label == 0).mean()\n",
    "VA1 = ventura_train.latitude.where(ventura_train.KM_label == 1).mean()\n",
    "VA2 = ventura_train.latitude.where(ventura_train.KM_label == 2).mean()\n",
    "VA3 = ventura_train.latitude.where(ventura_train.KM_label == 3).mean()\n",
    "VA4 = ventura_train.latitude.where(ventura_train.KM_label == 4).mean()\n",
    "VA5 = ventura_train.latitude.where(ventura_train.KM_label == 5).mean()\n",
    "\n",
    "VB0 = ventura_train.longitude.where(ventura_train.KM_label == 0).mean()\n",
    "VB1 = ventura_train.longitude.where(ventura_train.KM_label == 1).mean()\n",
    "VB2 = ventura_train.longitude.where(ventura_train.KM_label == 2).mean()\n",
    "VB3 = ventura_train.longitude.where(ventura_train.KM_label == 3).mean()\n",
    "VB4 = ventura_train.longitude.where(ventura_train.KM_label == 4).mean()\n",
    "VB5 = ventura_train.longitude.where(ventura_train.KM_label == 5).mean()\n",
    "\n",
    "VV0 = ventura_train.value.where(ventura_train.KM_label == 0).mean()\n",
    "VV1 = ventura_train.value.where(ventura_train.KM_label == 1).mean()\n",
    "VV2 = ventura_train.value.where(ventura_train.KM_label == 2).mean()\n",
    "VV3 = ventura_train.value.where(ventura_train.KM_label == 3).mean()\n",
    "VV4 = ventura_train.value.where(ventura_train.KM_label == 4).mean()\n",
    "VV5 = ventura_train.value.where(ventura_train.KM_label == 5).mean()\n",
    "\n",
    "LA0 = la_train.latitude.where(la_train.KM_label == 0).mean()\n",
    "LA1 = la_train.latitude.where(la_train.KM_label == 1).mean()\n",
    "LA2 = la_train.latitude.where(la_train.KM_label == 2).mean()\n",
    "LA3 = la_train.latitude.where(la_train.KM_label == 3).mean()\n",
    "LA4 = la_train.latitude.where(la_train.KM_label == 4).mean()\n",
    "LA5 = la_train.latitude.where(la_train.KM_label == 5).mean()\n",
    "LA6 = la_train.latitude.where(la_train.KM_label == 6).mean()\n",
    "LA7 = la_train.latitude.where(la_train.KM_label == 7).mean()\n",
    "LA8 = la_train.latitude.where(la_train.KM_label == 8).mean()\n",
    "LA9 = la_train.latitude.where(la_train.KM_label == 9).mean()\n",
    "LA10 = la_train.latitude.where(la_train.KM_label == 10).mean()\n",
    "LA11 = la_train.latitude.where(la_train.KM_label == 11).mean()\n",
    "\n",
    "\n",
    "LB0 = la_train.longitude.where(la_train.KM_label == 0).mean()\n",
    "LB1 = la_train.longitude.where(la_train.KM_label == 1).mean()\n",
    "LB2 = la_train.longitude.where(la_train.KM_label == 2).mean()\n",
    "LB3 = la_train.longitude.where(la_train.KM_label == 3).mean()\n",
    "LB4 = la_train.longitude.where(la_train.KM_label == 4).mean()\n",
    "LB5 = la_train.longitude.where(la_train.KM_label == 5).mean()\n",
    "LB6 = la_train.longitude.where(la_train.KM_label == 6).mean()\n",
    "LB7 = la_train.longitude.where(la_train.KM_label == 7).mean()\n",
    "LB8 = la_train.longitude.where(la_train.KM_label == 8).mean()\n",
    "LB9 = la_train.longitude.where(la_train.KM_label == 9).mean()\n",
    "LB10 = la_train.longitude.where(la_train.KM_label == 10).mean()\n",
    "LB11 = la_train.longitude.where(la_train.KM_label == 11).mean()\n",
    "\n",
    "LV0 = la_train.value.where(la_train.KM_label == 0).mean()\n",
    "LV1 = la_train.value.where(la_train.KM_label == 1).mean()\n",
    "LV2 = la_train.value.where(la_train.KM_label == 2).mean()\n",
    "LV3 = la_train.value.where(la_train.KM_label == 3).mean()\n",
    "LV4 = la_train.value.where(la_train.KM_label == 4).mean()\n",
    "LV5 = la_train.value.where(la_train.KM_label == 5).mean()\n",
    "LV6 = la_train.value.where(la_train.KM_label == 6).mean()\n",
    "LV7 = la_train.value.where(la_train.KM_label == 7).mean()\n",
    "LV8 = la_train.value.where(la_train.KM_label == 8).mean()\n",
    "LV9 = la_train.value.where(la_train.KM_label == 9).mean()\n",
    "LV10 = la_train.value.where(la_train.KM_label == 10).mean()\n",
    "LV11 = la_train.value.where(la_train.KM_label == 11).mean()"
   ]
  },
  {
   "cell_type": "code",
   "execution_count": null,
   "id": "65ed9e2b",
   "metadata": {},
   "outputs": [],
   "source": [
    "vdf = pd.DataFrame({'bin': [0, 1, 2, 3, 4, 5, 6, 7, 8, 9, 10, 11, 12, 13, 14, 15, 16, 17, 18, 19, 20, 21, 22, 23, 24, 25, 26, 27, 28, 29], 'a_lat': [OA0, OA1, OA2, OA3, OA4, OA5, OA6, OA7, OA8,OA9, OA10, OA11, VA0, VA1, VA2, VA3, VA4, VA5, LA0, LA1, LA2, LA3, LA4, LA5, LA6, LA7, LA8, LA9, LA10, LA11], 'a_lon': [OB0, OB1, OB2, OB3, OB4, OB5, OB6, OB7, OB8, OB9, OB10, OB11, VB0, VB1, VB2, VB3, VB4, VB5, LB0, LB1, LB2, LB3, LB4, LB5, LB6, LB7, LB8,LB9, LB10, LB11], 'v': [OV0, OV1, OV2, OV3, OV4, OV5, OV6, OV7, OV8, OV9, OV10, OV11, VV0, VV1, VV2, VV3, VV4, VV5, LV0, LV1, LV2, LV3, LV4, LV5, LV6, LV7, LV8,LV9, LV10, LV11]})\n",
    "vdf"
   ]
  },
  {
   "cell_type": "code",
   "execution_count": null,
   "id": "3e544f95",
   "metadata": {},
   "outputs": [],
   "source": [
    "fig = px.scatter_geo(vdf, lat='a_lat', lon='a_lon', color=\"bin\", hover_data= 'v',\n",
    "            locationmode = 'USA-states')\n",
    "\n",
    "fig.update_traces(marker=dict(size=30))\n",
    "fig.update_geos(\n",
    "    visible=False, resolution=110, scope=\"usa\",\n",
    "    showcountries=True, countrycolor=\"Black\",\n",
    "    showsubunits=True, subunitcolor=\"Blue\")\n",
    "\n",
    "\n",
    "fig.show()"
   ]
  },
  {
   "cell_type": "code",
   "execution_count": null,
   "id": "01e91ee5",
   "metadata": {},
   "outputs": [],
   "source": [
    "orange_train['KM_label'] = orange_train['KM_label'].astype(str)\n",
    "ventura_train['KM_label'] = ventura_train['KM_label'].astype(str)\n",
    "la_train['KM_label'] = la_train['KM_label'].astype(str)"
   ]
  },
  {
   "cell_type": "code",
   "execution_count": null,
   "id": "41586735",
   "metadata": {},
   "outputs": [],
   "source": [
    "#orange_train['KM_label'] = 'orange_' + orange_train['KM_label'].astype(str)\n",
    "ventura_train['KM_label'] = 'ventura_' + ventura_train['KM_label'].astype(str)\n",
    "la_train['KM_label'] = 'la_' + la_train['KM_label'].astype(str)"
   ]
  },
  {
   "cell_type": "code",
   "execution_count": null,
   "id": "bbbd7fd8",
   "metadata": {},
   "outputs": [],
   "source": [
    "la_train"
   ]
  },
  {
   "cell_type": "code",
   "execution_count": null,
   "id": "2303d44e",
   "metadata": {},
   "outputs": [],
   "source": [
    "train = pd.concat([orange_train, la_train, ventura_train])"
   ]
  },
  {
   "cell_type": "code",
   "execution_count": null,
   "id": "5b940b8e",
   "metadata": {},
   "outputs": [],
   "source": [
    "train"
   ]
  },
  {
   "cell_type": "code",
   "execution_count": 29,
   "id": "11a29ae8",
   "metadata": {},
   "outputs": [],
   "source": [
    "from sklearn.feature_selection import SelectKBest, f_regression"
   ]
  },
  {
   "cell_type": "code",
   "execution_count": 62,
   "id": "1f7b4b97",
   "metadata": {},
   "outputs": [],
   "source": [
    "kmeans = KMeans(\n",
    "    init=\"random\",\n",
    "    n_clusters= 22)\n",
    "coords_1 = train[['latitude', 'longitude']].to_numpy()\n",
    "label_1 = kmeans.fit_predict(coords_1)\n",
    "train['KM_label_train'] = pd.Series(label_1, index=train.index)"
   ]
  },
  {
   "cell_type": "code",
   "execution_count": 63,
   "id": "3b21e4ec",
   "metadata": {},
   "outputs": [],
   "source": [
    "coords_2 = validate[['latitude', 'longitude']].to_numpy()\n",
    "label_2 = kmeans.fit_predict(coords_2)\n",
    "validate['KM_label_val'] = pd.Series(label_2, index=validate.index)"
   ]
  },
  {
   "cell_type": "code",
   "execution_count": 64,
   "id": "dadd3445",
   "metadata": {},
   "outputs": [],
   "source": [
    "coords_3 = test[['latitude', 'longitude']].to_numpy()\n",
    "label_3 = kmeans.fit_predict(coords_3)\n",
    "test['KM_label_test'] = pd.Series(label_3, index=test.index)"
   ]
  },
  {
   "cell_type": "code",
   "execution_count": 65,
   "id": "c6baf602",
   "metadata": {},
   "outputs": [],
   "source": [
    "f_selector = SelectKBest(f_regression, k=5)"
   ]
  },
  {
   "cell_type": "code",
   "execution_count": 51,
   "id": "375ff2d5",
   "metadata": {},
   "outputs": [
    {
     "name": "stdout",
     "output_type": "stream",
     "text": [
      "<class 'pandas.core.frame.DataFrame'>\n",
      "Int64Index: 28940 entries, 50339 to 9813\n",
      "Data columns (total 15 columns):\n",
      " #   Column      Non-Null Count  Dtype  \n",
      "---  ------      --------------  -----  \n",
      " 0   Unnamed: 0  28940 non-null  int64  \n",
      " 1   parcelid    28940 non-null  int64  \n",
      " 2   bedrooms    28940 non-null  float64\n",
      " 3   bathrooms   28940 non-null  float64\n",
      " 4   home_size   28940 non-null  int64  \n",
      " 5   value       28940 non-null  int64  \n",
      " 6   year        28940 non-null  int64  \n",
      " 7   tax         28940 non-null  float64\n",
      " 8   fips        28940 non-null  int64  \n",
      " 9   land_value  28940 non-null  int64  \n",
      " 10  lot_size    28940 non-null  int64  \n",
      " 11  county      28940 non-null  object \n",
      " 12  latitude    28940 non-null  float64\n",
      " 13  longitude   28940 non-null  float64\n",
      " 14  KM_label    28940 non-null  int32  \n",
      "dtypes: float64(5), int32(1), int64(8), object(1)\n",
      "memory usage: 3.4+ MB\n"
     ]
    }
   ],
   "source": [
    "train.info()"
   ]
  },
  {
   "cell_type": "code",
   "execution_count": 49,
   "id": "3512c2c9",
   "metadata": {},
   "outputs": [
    {
     "data": {
      "text/html": [
       "<div>\n",
       "<style scoped>\n",
       "    .dataframe tbody tr th:only-of-type {\n",
       "        vertical-align: middle;\n",
       "    }\n",
       "\n",
       "    .dataframe tbody tr th {\n",
       "        vertical-align: top;\n",
       "    }\n",
       "\n",
       "    .dataframe thead th {\n",
       "        text-align: right;\n",
       "    }\n",
       "</style>\n",
       "<table border=\"1\" class=\"dataframe\">\n",
       "  <thead>\n",
       "    <tr style=\"text-align: right;\">\n",
       "      <th></th>\n",
       "      <th>Unnamed: 0</th>\n",
       "      <th>parcelid</th>\n",
       "      <th>bedrooms</th>\n",
       "      <th>bathrooms</th>\n",
       "      <th>home_size</th>\n",
       "      <th>value</th>\n",
       "      <th>year</th>\n",
       "      <th>tax</th>\n",
       "      <th>fips</th>\n",
       "      <th>land_value</th>\n",
       "      <th>lot_size</th>\n",
       "      <th>county</th>\n",
       "      <th>latitude</th>\n",
       "      <th>longitude</th>\n",
       "      <th>KM_label</th>\n",
       "    </tr>\n",
       "  </thead>\n",
       "  <tbody>\n",
       "    <tr>\n",
       "      <th>50339</th>\n",
       "      <td>50339</td>\n",
       "      <td>12435056</td>\n",
       "      <td>3.0</td>\n",
       "      <td>2.0</td>\n",
       "      <td>1547</td>\n",
       "      <td>91062</td>\n",
       "      <td>1953</td>\n",
       "      <td>1329.02</td>\n",
       "      <td>6037</td>\n",
       "      <td>33520</td>\n",
       "      <td>4982</td>\n",
       "      <td>los_angeles</td>\n",
       "      <td>33.821634</td>\n",
       "      <td>-118.180944</td>\n",
       "      <td>21</td>\n",
       "    </tr>\n",
       "    <tr>\n",
       "      <th>28375</th>\n",
       "      <td>28375</td>\n",
       "      <td>12114836</td>\n",
       "      <td>5.0</td>\n",
       "      <td>2.0</td>\n",
       "      <td>2238</td>\n",
       "      <td>294404</td>\n",
       "      <td>1910</td>\n",
       "      <td>3702.98</td>\n",
       "      <td>6037</td>\n",
       "      <td>166496</td>\n",
       "      <td>10913</td>\n",
       "      <td>los_angeles</td>\n",
       "      <td>34.160779</td>\n",
       "      <td>-118.181243</td>\n",
       "      <td>12</td>\n",
       "    </tr>\n",
       "    <tr>\n",
       "      <th>46916</th>\n",
       "      <td>46916</td>\n",
       "      <td>12350784</td>\n",
       "      <td>5.0</td>\n",
       "      <td>5.0</td>\n",
       "      <td>4642</td>\n",
       "      <td>684719</td>\n",
       "      <td>1953</td>\n",
       "      <td>8354.42</td>\n",
       "      <td>6037</td>\n",
       "      <td>173524</td>\n",
       "      <td>7605</td>\n",
       "      <td>los_angeles</td>\n",
       "      <td>33.940562</td>\n",
       "      <td>-118.181111</td>\n",
       "      <td>16</td>\n",
       "    </tr>\n",
       "    <tr>\n",
       "      <th>20158</th>\n",
       "      <td>20158</td>\n",
       "      <td>14262921</td>\n",
       "      <td>3.0</td>\n",
       "      <td>2.0</td>\n",
       "      <td>1356</td>\n",
       "      <td>180208</td>\n",
       "      <td>1964</td>\n",
       "      <td>2277.76</td>\n",
       "      <td>6059</td>\n",
       "      <td>97817</td>\n",
       "      <td>6002</td>\n",
       "      <td>orange</td>\n",
       "      <td>33.721196</td>\n",
       "      <td>-117.178914</td>\n",
       "      <td>14</td>\n",
       "    </tr>\n",
       "    <tr>\n",
       "      <th>18052</th>\n",
       "      <td>18052</td>\n",
       "      <td>14185319</td>\n",
       "      <td>3.0</td>\n",
       "      <td>2.0</td>\n",
       "      <td>1619</td>\n",
       "      <td>442099</td>\n",
       "      <td>1968</td>\n",
       "      <td>5074.14</td>\n",
       "      <td>6059</td>\n",
       "      <td>349658</td>\n",
       "      <td>6200</td>\n",
       "      <td>orange</td>\n",
       "      <td>33.868299</td>\n",
       "      <td>-117.178110</td>\n",
       "      <td>10</td>\n",
       "    </tr>\n",
       "    <tr>\n",
       "      <th>...</th>\n",
       "      <td>...</td>\n",
       "      <td>...</td>\n",
       "      <td>...</td>\n",
       "      <td>...</td>\n",
       "      <td>...</td>\n",
       "      <td>...</td>\n",
       "      <td>...</td>\n",
       "      <td>...</td>\n",
       "      <td>...</td>\n",
       "      <td>...</td>\n",
       "      <td>...</td>\n",
       "      <td>...</td>\n",
       "      <td>...</td>\n",
       "      <td>...</td>\n",
       "      <td>...</td>\n",
       "    </tr>\n",
       "    <tr>\n",
       "      <th>42940</th>\n",
       "      <td>42940</td>\n",
       "      <td>10996357</td>\n",
       "      <td>4.0</td>\n",
       "      <td>3.0</td>\n",
       "      <td>2045</td>\n",
       "      <td>519807</td>\n",
       "      <td>1968</td>\n",
       "      <td>6429.02</td>\n",
       "      <td>6037</td>\n",
       "      <td>340413</td>\n",
       "      <td>6009</td>\n",
       "      <td>los_angeles</td>\n",
       "      <td>34.264051</td>\n",
       "      <td>-118.182954</td>\n",
       "      <td>18</td>\n",
       "    </tr>\n",
       "    <tr>\n",
       "      <th>46851</th>\n",
       "      <td>46851</td>\n",
       "      <td>11279183</td>\n",
       "      <td>2.0</td>\n",
       "      <td>2.0</td>\n",
       "      <td>1093</td>\n",
       "      <td>163100</td>\n",
       "      <td>1955</td>\n",
       "      <td>2703.78</td>\n",
       "      <td>6037</td>\n",
       "      <td>41100</td>\n",
       "      <td>6983</td>\n",
       "      <td>los_angeles</td>\n",
       "      <td>34.690405</td>\n",
       "      <td>-118.181527</td>\n",
       "      <td>19</td>\n",
       "    </tr>\n",
       "    <tr>\n",
       "      <th>52419</th>\n",
       "      <td>52419</td>\n",
       "      <td>12651460</td>\n",
       "      <td>2.0</td>\n",
       "      <td>1.0</td>\n",
       "      <td>960</td>\n",
       "      <td>443726</td>\n",
       "      <td>1923</td>\n",
       "      <td>5423.02</td>\n",
       "      <td>6037</td>\n",
       "      <td>354981</td>\n",
       "      <td>4500</td>\n",
       "      <td>los_angeles</td>\n",
       "      <td>33.732661</td>\n",
       "      <td>-118.183019</td>\n",
       "      <td>0</td>\n",
       "    </tr>\n",
       "    <tr>\n",
       "      <th>44865</th>\n",
       "      <td>44865</td>\n",
       "      <td>14207326</td>\n",
       "      <td>4.0</td>\n",
       "      <td>3.0</td>\n",
       "      <td>2824</td>\n",
       "      <td>620304</td>\n",
       "      <td>1998</td>\n",
       "      <td>7927.78</td>\n",
       "      <td>6059</td>\n",
       "      <td>293459</td>\n",
       "      <td>10402</td>\n",
       "      <td>orange</td>\n",
       "      <td>33.871625</td>\n",
       "      <td>-117.177743</td>\n",
       "      <td>10</td>\n",
       "    </tr>\n",
       "    <tr>\n",
       "      <th>9813</th>\n",
       "      <td>9813</td>\n",
       "      <td>12965926</td>\n",
       "      <td>2.0</td>\n",
       "      <td>1.0</td>\n",
       "      <td>776</td>\n",
       "      <td>473000</td>\n",
       "      <td>1924</td>\n",
       "      <td>6291.07</td>\n",
       "      <td>6037</td>\n",
       "      <td>395000</td>\n",
       "      <td>6781</td>\n",
       "      <td>los_angeles</td>\n",
       "      <td>34.154325</td>\n",
       "      <td>-117.179918</td>\n",
       "      <td>3</td>\n",
       "    </tr>\n",
       "  </tbody>\n",
       "</table>\n",
       "<p>28940 rows × 15 columns</p>\n",
       "</div>"
      ],
      "text/plain": [
       "       Unnamed: 0  parcelid  bedrooms  bathrooms  home_size   value  year  \\\n",
       "50339       50339  12435056       3.0        2.0       1547   91062  1953   \n",
       "28375       28375  12114836       5.0        2.0       2238  294404  1910   \n",
       "46916       46916  12350784       5.0        5.0       4642  684719  1953   \n",
       "20158       20158  14262921       3.0        2.0       1356  180208  1964   \n",
       "18052       18052  14185319       3.0        2.0       1619  442099  1968   \n",
       "...           ...       ...       ...        ...        ...     ...   ...   \n",
       "42940       42940  10996357       4.0        3.0       2045  519807  1968   \n",
       "46851       46851  11279183       2.0        2.0       1093  163100  1955   \n",
       "52419       52419  12651460       2.0        1.0        960  443726  1923   \n",
       "44865       44865  14207326       4.0        3.0       2824  620304  1998   \n",
       "9813         9813  12965926       2.0        1.0        776  473000  1924   \n",
       "\n",
       "           tax  fips  land_value  lot_size       county   latitude  \\\n",
       "50339  1329.02  6037       33520      4982  los_angeles  33.821634   \n",
       "28375  3702.98  6037      166496     10913  los_angeles  34.160779   \n",
       "46916  8354.42  6037      173524      7605  los_angeles  33.940562   \n",
       "20158  2277.76  6059       97817      6002       orange  33.721196   \n",
       "18052  5074.14  6059      349658      6200       orange  33.868299   \n",
       "...        ...   ...         ...       ...          ...        ...   \n",
       "42940  6429.02  6037      340413      6009  los_angeles  34.264051   \n",
       "46851  2703.78  6037       41100      6983  los_angeles  34.690405   \n",
       "52419  5423.02  6037      354981      4500  los_angeles  33.732661   \n",
       "44865  7927.78  6059      293459     10402       orange  33.871625   \n",
       "9813   6291.07  6037      395000      6781  los_angeles  34.154325   \n",
       "\n",
       "        longitude  KM_label  \n",
       "50339 -118.180944        21  \n",
       "28375 -118.181243        12  \n",
       "46916 -118.181111        16  \n",
       "20158 -117.178914        14  \n",
       "18052 -117.178110        10  \n",
       "...           ...       ...  \n",
       "42940 -118.182954        18  \n",
       "46851 -118.181527        19  \n",
       "52419 -118.183019         0  \n",
       "44865 -117.177743        10  \n",
       "9813  -117.179918         3  \n",
       "\n",
       "[28940 rows x 15 columns]"
      ]
     },
     "execution_count": 49,
     "metadata": {},
     "output_type": "execute_result"
    }
   ],
   "source": [
    "train"
   ]
  },
  {
   "cell_type": "code",
   "execution_count": 66,
   "id": "628b2687",
   "metadata": {},
   "outputs": [],
   "source": [
    "X_train = train.drop(columns=['parcelid','tax', 'value', 'county', 'fips', 'land_value'])\n",
    "y_train = train.value"
   ]
  },
  {
   "cell_type": "code",
   "execution_count": 67,
   "id": "a0b3bbb7",
   "metadata": {},
   "outputs": [
    {
     "data": {
      "text/plain": [
       "['bedrooms', 'bathrooms', 'home_size', 'year', 'latitude']"
      ]
     },
     "execution_count": 67,
     "metadata": {},
     "output_type": "execute_result"
    }
   ],
   "source": [
    "f_selector.fit(X_train, y_train)\n",
    "\n",
    "feature_mask = f_selector.get_support()\n",
    "\n",
    "f_feature = X_train.iloc[:,feature_mask].columns.tolist()\n",
    "\n",
    "f_feature"
   ]
  },
  {
   "cell_type": "code",
   "execution_count": 68,
   "id": "0e7727b4",
   "metadata": {},
   "outputs": [
    {
     "data": {
      "text/plain": [
       "['bedrooms',\n",
       " 'bathrooms',\n",
       " 'latitude',\n",
       " 'longitude',\n",
       " 'KM_label',\n",
       " 'KM_label_train']"
      ]
     },
     "execution_count": 68,
     "metadata": {},
     "output_type": "execute_result"
    }
   ],
   "source": [
    "from sklearn.linear_model import LinearRegression\n",
    "from sklearn.feature_selection import RFE\n",
    "\n",
    "# initialize the ML algorithm\n",
    "lm = LinearRegression()\n",
    "\n",
    "# create the rfe object, indicating the ML object (lm) and the number of features I want to end up with. \n",
    "rfe = RFE(lm, n_features_to_select=6)\n",
    "\n",
    "# fit the data using RFE\n",
    "rfe.fit(X_train, y_train)  \n",
    "\n",
    "# get the mask of the columns selected\n",
    "feature_mask = rfe.support_\n",
    "\n",
    "# get list of the column names. \n",
    "rfe_feature = X_train.iloc[:,feature_mask].columns.tolist()\n",
    "\n",
    "rfe_feature"
   ]
  },
  {
   "cell_type": "code",
   "execution_count": 70,
   "id": "d473cb50",
   "metadata": {},
   "outputs": [
    {
     "data": {
      "text/html": [
       "<div>\n",
       "<style scoped>\n",
       "    .dataframe tbody tr th:only-of-type {\n",
       "        vertical-align: middle;\n",
       "    }\n",
       "\n",
       "    .dataframe tbody tr th {\n",
       "        vertical-align: top;\n",
       "    }\n",
       "\n",
       "    .dataframe thead th {\n",
       "        text-align: right;\n",
       "    }\n",
       "</style>\n",
       "<table border=\"1\" class=\"dataframe\">\n",
       "  <thead>\n",
       "    <tr style=\"text-align: right;\">\n",
       "      <th></th>\n",
       "      <th>Unnamed: 0</th>\n",
       "      <th>parcelid</th>\n",
       "      <th>bedrooms</th>\n",
       "      <th>bathrooms</th>\n",
       "      <th>home_size</th>\n",
       "      <th>value</th>\n",
       "      <th>year</th>\n",
       "      <th>tax</th>\n",
       "      <th>fips</th>\n",
       "      <th>land_value</th>\n",
       "      <th>lot_size</th>\n",
       "      <th>county</th>\n",
       "      <th>latitude</th>\n",
       "      <th>longitude</th>\n",
       "      <th>KM_label</th>\n",
       "      <th>KM_label_val</th>\n",
       "    </tr>\n",
       "  </thead>\n",
       "  <tbody>\n",
       "    <tr>\n",
       "      <th>44525</th>\n",
       "      <td>44525</td>\n",
       "      <td>14429342</td>\n",
       "      <td>3.0</td>\n",
       "      <td>3.5</td>\n",
       "      <td>3570</td>\n",
       "      <td>1567500</td>\n",
       "      <td>1981</td>\n",
       "      <td>17176.76</td>\n",
       "      <td>6059</td>\n",
       "      <td>1148822</td>\n",
       "      <td>8740</td>\n",
       "      <td>orange</td>\n",
       "      <td>33.479963</td>\n",
       "      <td>-117.177101</td>\n",
       "      <td>7</td>\n",
       "      <td>2</td>\n",
       "    </tr>\n",
       "    <tr>\n",
       "      <th>6775</th>\n",
       "      <td>6775</td>\n",
       "      <td>12434332</td>\n",
       "      <td>2.0</td>\n",
       "      <td>1.0</td>\n",
       "      <td>832</td>\n",
       "      <td>310658</td>\n",
       "      <td>1956</td>\n",
       "      <td>3676.80</td>\n",
       "      <td>6037</td>\n",
       "      <td>176143</td>\n",
       "      <td>3720</td>\n",
       "      <td>los_angeles</td>\n",
       "      <td>33.824342</td>\n",
       "      <td>-118.180770</td>\n",
       "      <td>16</td>\n",
       "      <td>10</td>\n",
       "    </tr>\n",
       "    <tr>\n",
       "      <th>9645</th>\n",
       "      <td>9645</td>\n",
       "      <td>14014466</td>\n",
       "      <td>3.0</td>\n",
       "      <td>2.0</td>\n",
       "      <td>1823</td>\n",
       "      <td>89265</td>\n",
       "      <td>1956</td>\n",
       "      <td>1251.94</td>\n",
       "      <td>6059</td>\n",
       "      <td>23256</td>\n",
       "      <td>6100</td>\n",
       "      <td>orange</td>\n",
       "      <td>33.841410</td>\n",
       "      <td>-118.180065</td>\n",
       "      <td>16</td>\n",
       "      <td>10</td>\n",
       "    </tr>\n",
       "    <tr>\n",
       "      <th>9198</th>\n",
       "      <td>9198</td>\n",
       "      <td>11317236</td>\n",
       "      <td>4.0</td>\n",
       "      <td>2.0</td>\n",
       "      <td>1640</td>\n",
       "      <td>147412</td>\n",
       "      <td>1997</td>\n",
       "      <td>2708.29</td>\n",
       "      <td>6037</td>\n",
       "      <td>26969</td>\n",
       "      <td>7613</td>\n",
       "      <td>los_angeles</td>\n",
       "      <td>34.685844</td>\n",
       "      <td>-118.182403</td>\n",
       "      <td>2</td>\n",
       "      <td>18</td>\n",
       "    </tr>\n",
       "    <tr>\n",
       "      <th>44594</th>\n",
       "      <td>44594</td>\n",
       "      <td>11995701</td>\n",
       "      <td>3.0</td>\n",
       "      <td>2.0</td>\n",
       "      <td>1625</td>\n",
       "      <td>832186</td>\n",
       "      <td>1924</td>\n",
       "      <td>10120.81</td>\n",
       "      <td>6037</td>\n",
       "      <td>676152</td>\n",
       "      <td>4805</td>\n",
       "      <td>los_angeles</td>\n",
       "      <td>34.080824</td>\n",
       "      <td>-118.183394</td>\n",
       "      <td>6</td>\n",
       "      <td>11</td>\n",
       "    </tr>\n",
       "    <tr>\n",
       "      <th>...</th>\n",
       "      <td>...</td>\n",
       "      <td>...</td>\n",
       "      <td>...</td>\n",
       "      <td>...</td>\n",
       "      <td>...</td>\n",
       "      <td>...</td>\n",
       "      <td>...</td>\n",
       "      <td>...</td>\n",
       "      <td>...</td>\n",
       "      <td>...</td>\n",
       "      <td>...</td>\n",
       "      <td>...</td>\n",
       "      <td>...</td>\n",
       "      <td>...</td>\n",
       "      <td>...</td>\n",
       "      <td>...</td>\n",
       "    </tr>\n",
       "    <tr>\n",
       "      <th>30968</th>\n",
       "      <td>30968</td>\n",
       "      <td>12750753</td>\n",
       "      <td>4.0</td>\n",
       "      <td>2.0</td>\n",
       "      <td>2334</td>\n",
       "      <td>302804</td>\n",
       "      <td>1955</td>\n",
       "      <td>4052.10</td>\n",
       "      <td>6037</td>\n",
       "      <td>132158</td>\n",
       "      <td>6537</td>\n",
       "      <td>los_angeles</td>\n",
       "      <td>33.895731</td>\n",
       "      <td>-118.180016</td>\n",
       "      <td>0</td>\n",
       "      <td>17</td>\n",
       "    </tr>\n",
       "    <tr>\n",
       "      <th>38074</th>\n",
       "      <td>38074</td>\n",
       "      <td>13993374</td>\n",
       "      <td>4.0</td>\n",
       "      <td>2.0</td>\n",
       "      <td>1502</td>\n",
       "      <td>353679</td>\n",
       "      <td>1956</td>\n",
       "      <td>4303.78</td>\n",
       "      <td>6059</td>\n",
       "      <td>274094</td>\n",
       "      <td>6360</td>\n",
       "      <td>orange</td>\n",
       "      <td>33.825341</td>\n",
       "      <td>-117.179498</td>\n",
       "      <td>21</td>\n",
       "      <td>7</td>\n",
       "    </tr>\n",
       "    <tr>\n",
       "      <th>4354</th>\n",
       "      <td>4354</td>\n",
       "      <td>13911823</td>\n",
       "      <td>3.0</td>\n",
       "      <td>2.0</td>\n",
       "      <td>1372</td>\n",
       "      <td>52238</td>\n",
       "      <td>1956</td>\n",
       "      <td>850.64</td>\n",
       "      <td>6059</td>\n",
       "      <td>22189</td>\n",
       "      <td>6324</td>\n",
       "      <td>orange</td>\n",
       "      <td>33.853186</td>\n",
       "      <td>-117.179593</td>\n",
       "      <td>21</td>\n",
       "      <td>4</td>\n",
       "    </tr>\n",
       "    <tr>\n",
       "      <th>52263</th>\n",
       "      <td>52263</td>\n",
       "      <td>11847928</td>\n",
       "      <td>4.0</td>\n",
       "      <td>2.0</td>\n",
       "      <td>1663</td>\n",
       "      <td>587731</td>\n",
       "      <td>1952</td>\n",
       "      <td>7975.96</td>\n",
       "      <td>6037</td>\n",
       "      <td>462904</td>\n",
       "      <td>7389</td>\n",
       "      <td>los_angeles</td>\n",
       "      <td>34.044570</td>\n",
       "      <td>-118.181374</td>\n",
       "      <td>6</td>\n",
       "      <td>14</td>\n",
       "    </tr>\n",
       "    <tr>\n",
       "      <th>49648</th>\n",
       "      <td>49648</td>\n",
       "      <td>11824025</td>\n",
       "      <td>2.0</td>\n",
       "      <td>1.0</td>\n",
       "      <td>1054</td>\n",
       "      <td>237168</td>\n",
       "      <td>1912</td>\n",
       "      <td>3401.36</td>\n",
       "      <td>6037</td>\n",
       "      <td>198700</td>\n",
       "      <td>7594</td>\n",
       "      <td>los_angeles</td>\n",
       "      <td>34.046228</td>\n",
       "      <td>-118.181846</td>\n",
       "      <td>6</td>\n",
       "      <td>14</td>\n",
       "    </tr>\n",
       "  </tbody>\n",
       "</table>\n",
       "<p>12404 rows × 16 columns</p>\n",
       "</div>"
      ],
      "text/plain": [
       "       Unnamed: 0  parcelid  bedrooms  bathrooms  home_size    value  year  \\\n",
       "44525       44525  14429342       3.0        3.5       3570  1567500  1981   \n",
       "6775         6775  12434332       2.0        1.0        832   310658  1956   \n",
       "9645         9645  14014466       3.0        2.0       1823    89265  1956   \n",
       "9198         9198  11317236       4.0        2.0       1640   147412  1997   \n",
       "44594       44594  11995701       3.0        2.0       1625   832186  1924   \n",
       "...           ...       ...       ...        ...        ...      ...   ...   \n",
       "30968       30968  12750753       4.0        2.0       2334   302804  1955   \n",
       "38074       38074  13993374       4.0        2.0       1502   353679  1956   \n",
       "4354         4354  13911823       3.0        2.0       1372    52238  1956   \n",
       "52263       52263  11847928       4.0        2.0       1663   587731  1952   \n",
       "49648       49648  11824025       2.0        1.0       1054   237168  1912   \n",
       "\n",
       "            tax  fips  land_value  lot_size       county   latitude  \\\n",
       "44525  17176.76  6059     1148822      8740       orange  33.479963   \n",
       "6775    3676.80  6037      176143      3720  los_angeles  33.824342   \n",
       "9645    1251.94  6059       23256      6100       orange  33.841410   \n",
       "9198    2708.29  6037       26969      7613  los_angeles  34.685844   \n",
       "44594  10120.81  6037      676152      4805  los_angeles  34.080824   \n",
       "...         ...   ...         ...       ...          ...        ...   \n",
       "30968   4052.10  6037      132158      6537  los_angeles  33.895731   \n",
       "38074   4303.78  6059      274094      6360       orange  33.825341   \n",
       "4354     850.64  6059       22189      6324       orange  33.853186   \n",
       "52263   7975.96  6037      462904      7389  los_angeles  34.044570   \n",
       "49648   3401.36  6037      198700      7594  los_angeles  34.046228   \n",
       "\n",
       "        longitude  KM_label  KM_label_val  \n",
       "44525 -117.177101         7             2  \n",
       "6775  -118.180770        16            10  \n",
       "9645  -118.180065        16            10  \n",
       "9198  -118.182403         2            18  \n",
       "44594 -118.183394         6            11  \n",
       "...           ...       ...           ...  \n",
       "30968 -118.180016         0            17  \n",
       "38074 -117.179498        21             7  \n",
       "4354  -117.179593        21             4  \n",
       "52263 -118.181374         6            14  \n",
       "49648 -118.181846         6            14  \n",
       "\n",
       "[12404 rows x 16 columns]"
      ]
     },
     "execution_count": 70,
     "metadata": {},
     "output_type": "execute_result"
    }
   ],
   "source": [
    "validate"
   ]
  },
  {
   "cell_type": "code",
   "execution_count": null,
   "id": "6817790a",
   "metadata": {},
   "outputs": [],
   "source": [
    "# from datetime import datetime, timezone\n",
    "\n",
    "# def utc_to_local(utc_dt):\n",
    "#     return utc_dt.replace(tzinfo=timezone.utc).astimezone(tz='America/Denver')\n"
   ]
  },
  {
   "cell_type": "code",
   "execution_count": null,
   "id": "8765e91f",
   "metadata": {},
   "outputs": [],
   "source": [
    "# naive = datetime.now()\n",
    "\n",
    "# timezone = pytz.timezone('America/Denver')\n",
    "# aware1 = timezone.localize(naive)\n",
    " \n",
    "# # Calling the utcoffset() function\n",
    "# # over the above localized time\n",
    "# print(\"Time ahead of UTC by:\", aware1.utcoffset())"
   ]
  },
  {
   "cell_type": "code",
   "execution_count": null,
   "id": "4a588909",
   "metadata": {},
   "outputs": [],
   "source": [
    "# from datetime import datetime\n",
    "# import pytz\n",
    "\n",
    "# born = datetime(1990, 6, 22) # provide UTC time\n",
    "# age = timezone.zone() - born\n",
    "# print('Rob has been alive for: {:,} seconds!!!'.format(age.total_seconds()))"
   ]
  },
  {
   "cell_type": "code",
   "execution_count": 71,
   "id": "0af152f6",
   "metadata": {},
   "outputs": [],
   "source": [
    "from sklearn.metrics import mean_squared_error\n",
    "from sklearn.linear_model import LinearRegression, LassoLars, TweedieRegressor\n",
    "from sklearn.preprocessing import PolynomialFeatures"
   ]
  },
  {
   "cell_type": "code",
   "execution_count": 72,
   "id": "87f4f1c6",
   "metadata": {},
   "outputs": [],
   "source": [
    "from geopy.geocoders import Nominatim\n",
    "from geopy.extra.rate_limiter import RateLimiter\n",
    "\n",
    "geolocator = Nominatim(user_agent=\"mshiben\")\n",
    "\n",
    "reverse = RateLimiter(geolocator.reverse, min_delay_seconds=1)\n"
   ]
  },
  {
   "cell_type": "code",
   "execution_count": null,
   "id": "eadbf39e",
   "metadata": {},
   "outputs": [],
   "source": [
    "train.to_csv(\"train_locs.csv\")"
   ]
  },
  {
   "cell_type": "code",
   "execution_count": null,
   "id": "ee6f3ddd",
   "metadata": {},
   "outputs": [],
   "source": [
    "def geo_rev(train):\n",
    "    g = geocoder.osm([train.latitude, train.longitude], method='reverse', language='en').json\n",
    "    if g:\n",
    "        return g.get('postal')\n",
    "    else:\n",
    "        return 'no postal'\n",
    "\n",
    "train['zips'] = train[['latitude', 'longitude']].apply(geo_rev, axis=1)"
   ]
  },
  {
   "cell_type": "code",
   "execution_count": null,
   "id": "1d64f8ba",
   "metadata": {},
   "outputs": [],
   "source": [
    "sampletrain"
   ]
  },
  {
   "cell_type": "code",
   "execution_count": null,
   "id": "a55687cb",
   "metadata": {},
   "outputs": [],
   "source": [
    "sampletrain = train.iloc[ :10 ]"
   ]
  },
  {
   "cell_type": "code",
   "execution_count": null,
   "id": "1c56bdea",
   "metadata": {},
   "outputs": [],
   "source": [
    "sampletrain"
   ]
  },
  {
   "cell_type": "code",
   "execution_count": null,
   "id": "333e1603",
   "metadata": {},
   "outputs": [],
   "source": [
    "sns.barplot(data = ventura_train, x= 'KM_label', y= 'value')"
   ]
  },
  {
   "cell_type": "code",
   "execution_count": null,
   "id": "130b9036",
   "metadata": {},
   "outputs": [],
   "source": [
    "orange_train"
   ]
  },
  {
   "cell_type": "code",
   "execution_count": null,
   "id": "2ba3cad6",
   "metadata": {},
   "outputs": [],
   "source": [
    "sns.barplot(data = orange_train, x= 'KM_label', y= 'value')"
   ]
  },
  {
   "cell_type": "code",
   "execution_count": 73,
   "id": "626f61dc",
   "metadata": {},
   "outputs": [],
   "source": [
    "import sklearn.preprocessing"
   ]
  },
  {
   "cell_type": "code",
   "execution_count": null,
   "id": "d008ea62",
   "metadata": {},
   "outputs": [],
   "source": []
  },
  {
   "cell_type": "code",
   "execution_count": null,
   "id": "b1d256f3",
   "metadata": {},
   "outputs": [],
   "source": [
    "# train['KM_label'] = pd.Series(label, index= train.index)\n",
    "# validate['KM_label'] = pd.Series(label, index= train.index)\n",
    "# test['KM_label'] = pd.Series(label, index= train.index)"
   ]
  },
  {
   "cell_type": "code",
   "execution_count": 74,
   "id": "8545e97f",
   "metadata": {},
   "outputs": [
    {
     "data": {
      "text/html": [
       "<div>\n",
       "<style scoped>\n",
       "    .dataframe tbody tr th:only-of-type {\n",
       "        vertical-align: middle;\n",
       "    }\n",
       "\n",
       "    .dataframe tbody tr th {\n",
       "        vertical-align: top;\n",
       "    }\n",
       "\n",
       "    .dataframe thead th {\n",
       "        text-align: right;\n",
       "    }\n",
       "</style>\n",
       "<table border=\"1\" class=\"dataframe\">\n",
       "  <thead>\n",
       "    <tr style=\"text-align: right;\">\n",
       "      <th></th>\n",
       "      <th>Unnamed: 0</th>\n",
       "      <th>parcelid</th>\n",
       "      <th>bedrooms</th>\n",
       "      <th>bathrooms</th>\n",
       "      <th>home_size</th>\n",
       "      <th>value</th>\n",
       "      <th>year</th>\n",
       "      <th>tax</th>\n",
       "      <th>fips</th>\n",
       "      <th>land_value</th>\n",
       "      <th>lot_size</th>\n",
       "      <th>county</th>\n",
       "      <th>latitude</th>\n",
       "      <th>longitude</th>\n",
       "      <th>KM_label</th>\n",
       "      <th>KM_label_train</th>\n",
       "    </tr>\n",
       "  </thead>\n",
       "  <tbody>\n",
       "    <tr>\n",
       "      <th>50339</th>\n",
       "      <td>50339</td>\n",
       "      <td>12435056</td>\n",
       "      <td>3.0</td>\n",
       "      <td>2.0</td>\n",
       "      <td>1547</td>\n",
       "      <td>91062</td>\n",
       "      <td>1953</td>\n",
       "      <td>1329.02</td>\n",
       "      <td>6037</td>\n",
       "      <td>33520</td>\n",
       "      <td>4982</td>\n",
       "      <td>los_angeles</td>\n",
       "      <td>33.821634</td>\n",
       "      <td>-118.180944</td>\n",
       "      <td>10</td>\n",
       "      <td>21</td>\n",
       "    </tr>\n",
       "    <tr>\n",
       "      <th>28375</th>\n",
       "      <td>28375</td>\n",
       "      <td>12114836</td>\n",
       "      <td>5.0</td>\n",
       "      <td>2.0</td>\n",
       "      <td>2238</td>\n",
       "      <td>294404</td>\n",
       "      <td>1910</td>\n",
       "      <td>3702.98</td>\n",
       "      <td>6037</td>\n",
       "      <td>166496</td>\n",
       "      <td>10913</td>\n",
       "      <td>los_angeles</td>\n",
       "      <td>34.160779</td>\n",
       "      <td>-118.181243</td>\n",
       "      <td>1</td>\n",
       "      <td>18</td>\n",
       "    </tr>\n",
       "    <tr>\n",
       "      <th>46916</th>\n",
       "      <td>46916</td>\n",
       "      <td>12350784</td>\n",
       "      <td>5.0</td>\n",
       "      <td>5.0</td>\n",
       "      <td>4642</td>\n",
       "      <td>684719</td>\n",
       "      <td>1953</td>\n",
       "      <td>8354.42</td>\n",
       "      <td>6037</td>\n",
       "      <td>173524</td>\n",
       "      <td>7605</td>\n",
       "      <td>los_angeles</td>\n",
       "      <td>33.940562</td>\n",
       "      <td>-118.181111</td>\n",
       "      <td>6</td>\n",
       "      <td>20</td>\n",
       "    </tr>\n",
       "    <tr>\n",
       "      <th>20158</th>\n",
       "      <td>20158</td>\n",
       "      <td>14262921</td>\n",
       "      <td>3.0</td>\n",
       "      <td>2.0</td>\n",
       "      <td>1356</td>\n",
       "      <td>180208</td>\n",
       "      <td>1964</td>\n",
       "      <td>2277.76</td>\n",
       "      <td>6059</td>\n",
       "      <td>97817</td>\n",
       "      <td>6002</td>\n",
       "      <td>orange</td>\n",
       "      <td>33.721196</td>\n",
       "      <td>-117.178914</td>\n",
       "      <td>0</td>\n",
       "      <td>11</td>\n",
       "    </tr>\n",
       "    <tr>\n",
       "      <th>18052</th>\n",
       "      <td>18052</td>\n",
       "      <td>14185319</td>\n",
       "      <td>3.0</td>\n",
       "      <td>2.0</td>\n",
       "      <td>1619</td>\n",
       "      <td>442099</td>\n",
       "      <td>1968</td>\n",
       "      <td>5074.14</td>\n",
       "      <td>6059</td>\n",
       "      <td>349658</td>\n",
       "      <td>6200</td>\n",
       "      <td>orange</td>\n",
       "      <td>33.868299</td>\n",
       "      <td>-117.178110</td>\n",
       "      <td>8</td>\n",
       "      <td>7</td>\n",
       "    </tr>\n",
       "    <tr>\n",
       "      <th>...</th>\n",
       "      <td>...</td>\n",
       "      <td>...</td>\n",
       "      <td>...</td>\n",
       "      <td>...</td>\n",
       "      <td>...</td>\n",
       "      <td>...</td>\n",
       "      <td>...</td>\n",
       "      <td>...</td>\n",
       "      <td>...</td>\n",
       "      <td>...</td>\n",
       "      <td>...</td>\n",
       "      <td>...</td>\n",
       "      <td>...</td>\n",
       "      <td>...</td>\n",
       "      <td>...</td>\n",
       "      <td>...</td>\n",
       "    </tr>\n",
       "    <tr>\n",
       "      <th>42940</th>\n",
       "      <td>42940</td>\n",
       "      <td>10996357</td>\n",
       "      <td>4.0</td>\n",
       "      <td>3.0</td>\n",
       "      <td>2045</td>\n",
       "      <td>519807</td>\n",
       "      <td>1968</td>\n",
       "      <td>6429.02</td>\n",
       "      <td>6037</td>\n",
       "      <td>340413</td>\n",
       "      <td>6009</td>\n",
       "      <td>los_angeles</td>\n",
       "      <td>34.264051</td>\n",
       "      <td>-118.182954</td>\n",
       "      <td>7</td>\n",
       "      <td>5</td>\n",
       "    </tr>\n",
       "    <tr>\n",
       "      <th>46851</th>\n",
       "      <td>46851</td>\n",
       "      <td>11279183</td>\n",
       "      <td>2.0</td>\n",
       "      <td>2.0</td>\n",
       "      <td>1093</td>\n",
       "      <td>163100</td>\n",
       "      <td>1955</td>\n",
       "      <td>2703.78</td>\n",
       "      <td>6037</td>\n",
       "      <td>41100</td>\n",
       "      <td>6983</td>\n",
       "      <td>los_angeles</td>\n",
       "      <td>34.690405</td>\n",
       "      <td>-118.181527</td>\n",
       "      <td>12</td>\n",
       "      <td>15</td>\n",
       "    </tr>\n",
       "    <tr>\n",
       "      <th>52419</th>\n",
       "      <td>52419</td>\n",
       "      <td>12651460</td>\n",
       "      <td>2.0</td>\n",
       "      <td>1.0</td>\n",
       "      <td>960</td>\n",
       "      <td>443726</td>\n",
       "      <td>1923</td>\n",
       "      <td>5423.02</td>\n",
       "      <td>6037</td>\n",
       "      <td>354981</td>\n",
       "      <td>4500</td>\n",
       "      <td>los_angeles</td>\n",
       "      <td>33.732661</td>\n",
       "      <td>-118.183019</td>\n",
       "      <td>10</td>\n",
       "      <td>17</td>\n",
       "    </tr>\n",
       "    <tr>\n",
       "      <th>44865</th>\n",
       "      <td>44865</td>\n",
       "      <td>14207326</td>\n",
       "      <td>4.0</td>\n",
       "      <td>3.0</td>\n",
       "      <td>2824</td>\n",
       "      <td>620304</td>\n",
       "      <td>1998</td>\n",
       "      <td>7927.78</td>\n",
       "      <td>6059</td>\n",
       "      <td>293459</td>\n",
       "      <td>10402</td>\n",
       "      <td>orange</td>\n",
       "      <td>33.871625</td>\n",
       "      <td>-117.177743</td>\n",
       "      <td>8</td>\n",
       "      <td>7</td>\n",
       "    </tr>\n",
       "    <tr>\n",
       "      <th>9813</th>\n",
       "      <td>9813</td>\n",
       "      <td>12965926</td>\n",
       "      <td>2.0</td>\n",
       "      <td>1.0</td>\n",
       "      <td>776</td>\n",
       "      <td>473000</td>\n",
       "      <td>1924</td>\n",
       "      <td>6291.07</td>\n",
       "      <td>6037</td>\n",
       "      <td>395000</td>\n",
       "      <td>6781</td>\n",
       "      <td>los_angeles</td>\n",
       "      <td>34.154325</td>\n",
       "      <td>-117.179918</td>\n",
       "      <td>13</td>\n",
       "      <td>10</td>\n",
       "    </tr>\n",
       "  </tbody>\n",
       "</table>\n",
       "<p>28940 rows × 16 columns</p>\n",
       "</div>"
      ],
      "text/plain": [
       "       Unnamed: 0  parcelid  bedrooms  bathrooms  home_size   value  year  \\\n",
       "50339       50339  12435056       3.0        2.0       1547   91062  1953   \n",
       "28375       28375  12114836       5.0        2.0       2238  294404  1910   \n",
       "46916       46916  12350784       5.0        5.0       4642  684719  1953   \n",
       "20158       20158  14262921       3.0        2.0       1356  180208  1964   \n",
       "18052       18052  14185319       3.0        2.0       1619  442099  1968   \n",
       "...           ...       ...       ...        ...        ...     ...   ...   \n",
       "42940       42940  10996357       4.0        3.0       2045  519807  1968   \n",
       "46851       46851  11279183       2.0        2.0       1093  163100  1955   \n",
       "52419       52419  12651460       2.0        1.0        960  443726  1923   \n",
       "44865       44865  14207326       4.0        3.0       2824  620304  1998   \n",
       "9813         9813  12965926       2.0        1.0        776  473000  1924   \n",
       "\n",
       "           tax  fips  land_value  lot_size       county   latitude  \\\n",
       "50339  1329.02  6037       33520      4982  los_angeles  33.821634   \n",
       "28375  3702.98  6037      166496     10913  los_angeles  34.160779   \n",
       "46916  8354.42  6037      173524      7605  los_angeles  33.940562   \n",
       "20158  2277.76  6059       97817      6002       orange  33.721196   \n",
       "18052  5074.14  6059      349658      6200       orange  33.868299   \n",
       "...        ...   ...         ...       ...          ...        ...   \n",
       "42940  6429.02  6037      340413      6009  los_angeles  34.264051   \n",
       "46851  2703.78  6037       41100      6983  los_angeles  34.690405   \n",
       "52419  5423.02  6037      354981      4500  los_angeles  33.732661   \n",
       "44865  7927.78  6059      293459     10402       orange  33.871625   \n",
       "9813   6291.07  6037      395000      6781  los_angeles  34.154325   \n",
       "\n",
       "        longitude  KM_label  KM_label_train  \n",
       "50339 -118.180944        10              21  \n",
       "28375 -118.181243         1              18  \n",
       "46916 -118.181111         6              20  \n",
       "20158 -117.178914         0              11  \n",
       "18052 -117.178110         8               7  \n",
       "...           ...       ...             ...  \n",
       "42940 -118.182954         7               5  \n",
       "46851 -118.181527        12              15  \n",
       "52419 -118.183019        10              17  \n",
       "44865 -117.177743         8               7  \n",
       "9813  -117.179918        13              10  \n",
       "\n",
       "[28940 rows x 16 columns]"
      ]
     },
     "execution_count": 74,
     "metadata": {},
     "output_type": "execute_result"
    }
   ],
   "source": [
    "train"
   ]
  },
  {
   "cell_type": "code",
   "execution_count": 75,
   "id": "86636a7a",
   "metadata": {},
   "outputs": [],
   "source": [
    "\n",
    "train = train.drop(columns=['county', 'KM_label'])\n",
    "validate = validate.drop(columns=['county', 'KM_label'])\n",
    "test = test.drop(columns = ['county', 'KM_label'])"
   ]
  },
  {
   "cell_type": "code",
   "execution_count": 76,
   "id": "29067a07",
   "metadata": {},
   "outputs": [],
   "source": [
    "train = train.drop(columns =['Unnamed: 0', 'parcelid'])\n",
    "validate = validate.drop(columns =['Unnamed: 0', 'parcelid'])\n",
    "test = test.drop(columns =['Unnamed: 0', 'parcelid'])"
   ]
  },
  {
   "cell_type": "code",
   "execution_count": 77,
   "id": "8bc15790",
   "metadata": {},
   "outputs": [],
   "source": [
    "scaler = sklearn.preprocessing.StandardScaler()"
   ]
  },
  {
   "cell_type": "code",
   "execution_count": 78,
   "id": "029cef32",
   "metadata": {},
   "outputs": [
    {
     "data": {
      "text/plain": [
       "StandardScaler()"
      ]
     },
     "execution_count": 78,
     "metadata": {},
     "output_type": "execute_result"
    }
   ],
   "source": [
    "scaler.fit(train)"
   ]
  },
  {
   "cell_type": "code",
   "execution_count": 79,
   "id": "ac80f992",
   "metadata": {},
   "outputs": [],
   "source": [
    "scaled_train = pd.DataFrame(data=scaler.transform(train))\n",
    "scaled_validate = pd.DataFrame(data=scaler.transform(validate))\n",
    "scaled_test = pd.DataFrame(data=scaler.transform(test))"
   ]
  },
  {
   "cell_type": "code",
   "execution_count": 81,
   "id": "d6852343",
   "metadata": {},
   "outputs": [],
   "source": [
    "X_train = train[['bedrooms', 'bathrooms', 'KM_label_train', 'home_size', 'year']]\n",
    "y_train = train.value\n",
    "\n",
    "X_validate = validate[['bedrooms', 'bathrooms', 'KM_label_val', 'home_size', 'year']]\n",
    "y_validate = validate.value\n",
    "\n",
    "X_test = test[['bedrooms', 'bathrooms', 'KM_label_test', 'home_size', 'year']]\n",
    "y_test = test.value"
   ]
  },
  {
   "cell_type": "code",
   "execution_count": 82,
   "id": "4ed669b2",
   "metadata": {},
   "outputs": [],
   "source": [
    "from sklearn.metrics import mean_squared_error\n",
    "from sklearn.linear_model import LinearRegression, LassoLars, TweedieRegressor\n",
    "from sklearn.preprocessing import PolynomialFeatures"
   ]
  },
  {
   "cell_type": "code",
   "execution_count": 83,
   "id": "af28e754",
   "metadata": {},
   "outputs": [
    {
     "data": {
      "text/plain": [
       "dtype('int64')"
      ]
     },
     "execution_count": 83,
     "metadata": {},
     "output_type": "execute_result"
    }
   ],
   "source": [
    "y_train.dtypes"
   ]
  },
  {
   "cell_type": "code",
   "execution_count": 84,
   "id": "2ee4cfef",
   "metadata": {},
   "outputs": [],
   "source": [
    "y_train = pd.DataFrame(y_train)\n",
    "y_validate = pd.DataFrame(y_validate)"
   ]
  },
  {
   "cell_type": "code",
   "execution_count": 85,
   "id": "152c0759",
   "metadata": {},
   "outputs": [
    {
     "data": {
      "text/plain": [
       "value    505015.939133\n",
       "dtype: float64"
      ]
     },
     "execution_count": 85,
     "metadata": {},
     "output_type": "execute_result"
    }
   ],
   "source": [
    "y_validate.mean()"
   ]
  },
  {
   "cell_type": "code",
   "execution_count": 86,
   "id": "ee1cf544",
   "metadata": {},
   "outputs": [],
   "source": [
    "y_train['pred_mean'] = y_train.value.mean()\n",
    "y_validate['pred_mean'] = y_validate.value.mean()"
   ]
  },
  {
   "cell_type": "code",
   "execution_count": 87,
   "id": "3009387f",
   "metadata": {},
   "outputs": [],
   "source": [
    "y_train['pred_median'] = y_train.value.median()\n",
    "y_validate['pred_median'] = y_train.value.median()"
   ]
  },
  {
   "cell_type": "code",
   "execution_count": 88,
   "id": "09f4f208",
   "metadata": {},
   "outputs": [
    {
     "data": {
      "text/html": [
       "<div>\n",
       "<style scoped>\n",
       "    .dataframe tbody tr th:only-of-type {\n",
       "        vertical-align: middle;\n",
       "    }\n",
       "\n",
       "    .dataframe tbody tr th {\n",
       "        vertical-align: top;\n",
       "    }\n",
       "\n",
       "    .dataframe thead th {\n",
       "        text-align: right;\n",
       "    }\n",
       "</style>\n",
       "<table border=\"1\" class=\"dataframe\">\n",
       "  <thead>\n",
       "    <tr style=\"text-align: right;\">\n",
       "      <th></th>\n",
       "      <th>bedrooms</th>\n",
       "      <th>bathrooms</th>\n",
       "      <th>KM_label_train</th>\n",
       "      <th>home_size</th>\n",
       "      <th>year</th>\n",
       "    </tr>\n",
       "  </thead>\n",
       "  <tbody>\n",
       "    <tr>\n",
       "      <th>50339</th>\n",
       "      <td>3.0</td>\n",
       "      <td>2.0</td>\n",
       "      <td>21</td>\n",
       "      <td>1547</td>\n",
       "      <td>1953</td>\n",
       "    </tr>\n",
       "    <tr>\n",
       "      <th>28375</th>\n",
       "      <td>5.0</td>\n",
       "      <td>2.0</td>\n",
       "      <td>18</td>\n",
       "      <td>2238</td>\n",
       "      <td>1910</td>\n",
       "    </tr>\n",
       "    <tr>\n",
       "      <th>46916</th>\n",
       "      <td>5.0</td>\n",
       "      <td>5.0</td>\n",
       "      <td>20</td>\n",
       "      <td>4642</td>\n",
       "      <td>1953</td>\n",
       "    </tr>\n",
       "    <tr>\n",
       "      <th>20158</th>\n",
       "      <td>3.0</td>\n",
       "      <td>2.0</td>\n",
       "      <td>11</td>\n",
       "      <td>1356</td>\n",
       "      <td>1964</td>\n",
       "    </tr>\n",
       "    <tr>\n",
       "      <th>18052</th>\n",
       "      <td>3.0</td>\n",
       "      <td>2.0</td>\n",
       "      <td>7</td>\n",
       "      <td>1619</td>\n",
       "      <td>1968</td>\n",
       "    </tr>\n",
       "    <tr>\n",
       "      <th>...</th>\n",
       "      <td>...</td>\n",
       "      <td>...</td>\n",
       "      <td>...</td>\n",
       "      <td>...</td>\n",
       "      <td>...</td>\n",
       "    </tr>\n",
       "    <tr>\n",
       "      <th>42940</th>\n",
       "      <td>4.0</td>\n",
       "      <td>3.0</td>\n",
       "      <td>5</td>\n",
       "      <td>2045</td>\n",
       "      <td>1968</td>\n",
       "    </tr>\n",
       "    <tr>\n",
       "      <th>46851</th>\n",
       "      <td>2.0</td>\n",
       "      <td>2.0</td>\n",
       "      <td>15</td>\n",
       "      <td>1093</td>\n",
       "      <td>1955</td>\n",
       "    </tr>\n",
       "    <tr>\n",
       "      <th>52419</th>\n",
       "      <td>2.0</td>\n",
       "      <td>1.0</td>\n",
       "      <td>17</td>\n",
       "      <td>960</td>\n",
       "      <td>1923</td>\n",
       "    </tr>\n",
       "    <tr>\n",
       "      <th>44865</th>\n",
       "      <td>4.0</td>\n",
       "      <td>3.0</td>\n",
       "      <td>7</td>\n",
       "      <td>2824</td>\n",
       "      <td>1998</td>\n",
       "    </tr>\n",
       "    <tr>\n",
       "      <th>9813</th>\n",
       "      <td>2.0</td>\n",
       "      <td>1.0</td>\n",
       "      <td>10</td>\n",
       "      <td>776</td>\n",
       "      <td>1924</td>\n",
       "    </tr>\n",
       "  </tbody>\n",
       "</table>\n",
       "<p>28940 rows × 5 columns</p>\n",
       "</div>"
      ],
      "text/plain": [
       "       bedrooms  bathrooms  KM_label_train  home_size  year\n",
       "50339       3.0        2.0              21       1547  1953\n",
       "28375       5.0        2.0              18       2238  1910\n",
       "46916       5.0        5.0              20       4642  1953\n",
       "20158       3.0        2.0              11       1356  1964\n",
       "18052       3.0        2.0               7       1619  1968\n",
       "...         ...        ...             ...        ...   ...\n",
       "42940       4.0        3.0               5       2045  1968\n",
       "46851       2.0        2.0              15       1093  1955\n",
       "52419       2.0        1.0              17        960  1923\n",
       "44865       4.0        3.0               7       2824  1998\n",
       "9813        2.0        1.0              10        776  1924\n",
       "\n",
       "[28940 rows x 5 columns]"
      ]
     },
     "execution_count": 88,
     "metadata": {},
     "output_type": "execute_result"
    }
   ],
   "source": [
    "X_train"
   ]
  },
  {
   "cell_type": "code",
   "execution_count": 89,
   "id": "5af34281",
   "metadata": {},
   "outputs": [
    {
     "name": "stdout",
     "output_type": "stream",
     "text": [
      "RMSE using Mean\n",
      "Train/In-Sample:  566940.84 \n",
      "Validate/Out-of-Sample:  553689.08\n"
     ]
    }
   ],
   "source": [
    "rmse_train = mean_squared_error(y_train.value, y_train.pred_mean)**(1/2)\n",
    "rmse_validate = mean_squared_error(y_validate.value, y_validate.pred_mean)**(1/2)\n",
    "\n",
    "print(\"RMSE using Mean\\nTrain/In-Sample: \", round(rmse_train, 2), \n",
    "      \"\\nValidate/Out-of-Sample: \", round(rmse_validate, 2))"
   ]
  },
  {
   "cell_type": "code",
   "execution_count": 90,
   "id": "7eecd4d1",
   "metadata": {},
   "outputs": [
    {
     "name": "stdout",
     "output_type": "stream",
     "text": [
      "RMSE using Median\n",
      "Train/In-Sample:  583202.57 \n",
      "Validate/Out-of-Sample:  569467.22\n"
     ]
    }
   ],
   "source": [
    "rmse_train = mean_squared_error(y_train.value, y_train.pred_median)**(1/2)\n",
    "rmse_validate = mean_squared_error(y_validate.value, y_validate.pred_median)**(1/2)\n",
    "\n",
    "print(\"RMSE using Median\\nTrain/In-Sample: \", round(rmse_train, 2), \n",
    "      \"\\nValidate/Out-of-Sample: \", round(rmse_validate, 2))"
   ]
  },
  {
   "cell_type": "code",
   "execution_count": 91,
   "id": "b5021661",
   "metadata": {},
   "outputs": [
    {
     "data": {
      "text/html": [
       "<div>\n",
       "<style scoped>\n",
       "    .dataframe tbody tr th:only-of-type {\n",
       "        vertical-align: middle;\n",
       "    }\n",
       "\n",
       "    .dataframe tbody tr th {\n",
       "        vertical-align: top;\n",
       "    }\n",
       "\n",
       "    .dataframe thead th {\n",
       "        text-align: right;\n",
       "    }\n",
       "</style>\n",
       "<table border=\"1\" class=\"dataframe\">\n",
       "  <thead>\n",
       "    <tr style=\"text-align: right;\">\n",
       "      <th></th>\n",
       "      <th>bedrooms</th>\n",
       "      <th>bathrooms</th>\n",
       "      <th>KM_label_val</th>\n",
       "      <th>home_size</th>\n",
       "      <th>year</th>\n",
       "    </tr>\n",
       "  </thead>\n",
       "  <tbody>\n",
       "    <tr>\n",
       "      <th>44525</th>\n",
       "      <td>3.0</td>\n",
       "      <td>3.5</td>\n",
       "      <td>2</td>\n",
       "      <td>3570</td>\n",
       "      <td>1981</td>\n",
       "    </tr>\n",
       "    <tr>\n",
       "      <th>6775</th>\n",
       "      <td>2.0</td>\n",
       "      <td>1.0</td>\n",
       "      <td>10</td>\n",
       "      <td>832</td>\n",
       "      <td>1956</td>\n",
       "    </tr>\n",
       "    <tr>\n",
       "      <th>9645</th>\n",
       "      <td>3.0</td>\n",
       "      <td>2.0</td>\n",
       "      <td>10</td>\n",
       "      <td>1823</td>\n",
       "      <td>1956</td>\n",
       "    </tr>\n",
       "    <tr>\n",
       "      <th>9198</th>\n",
       "      <td>4.0</td>\n",
       "      <td>2.0</td>\n",
       "      <td>18</td>\n",
       "      <td>1640</td>\n",
       "      <td>1997</td>\n",
       "    </tr>\n",
       "    <tr>\n",
       "      <th>44594</th>\n",
       "      <td>3.0</td>\n",
       "      <td>2.0</td>\n",
       "      <td>11</td>\n",
       "      <td>1625</td>\n",
       "      <td>1924</td>\n",
       "    </tr>\n",
       "    <tr>\n",
       "      <th>...</th>\n",
       "      <td>...</td>\n",
       "      <td>...</td>\n",
       "      <td>...</td>\n",
       "      <td>...</td>\n",
       "      <td>...</td>\n",
       "    </tr>\n",
       "    <tr>\n",
       "      <th>30968</th>\n",
       "      <td>4.0</td>\n",
       "      <td>2.0</td>\n",
       "      <td>17</td>\n",
       "      <td>2334</td>\n",
       "      <td>1955</td>\n",
       "    </tr>\n",
       "    <tr>\n",
       "      <th>38074</th>\n",
       "      <td>4.0</td>\n",
       "      <td>2.0</td>\n",
       "      <td>7</td>\n",
       "      <td>1502</td>\n",
       "      <td>1956</td>\n",
       "    </tr>\n",
       "    <tr>\n",
       "      <th>4354</th>\n",
       "      <td>3.0</td>\n",
       "      <td>2.0</td>\n",
       "      <td>4</td>\n",
       "      <td>1372</td>\n",
       "      <td>1956</td>\n",
       "    </tr>\n",
       "    <tr>\n",
       "      <th>52263</th>\n",
       "      <td>4.0</td>\n",
       "      <td>2.0</td>\n",
       "      <td>14</td>\n",
       "      <td>1663</td>\n",
       "      <td>1952</td>\n",
       "    </tr>\n",
       "    <tr>\n",
       "      <th>49648</th>\n",
       "      <td>2.0</td>\n",
       "      <td>1.0</td>\n",
       "      <td>14</td>\n",
       "      <td>1054</td>\n",
       "      <td>1912</td>\n",
       "    </tr>\n",
       "  </tbody>\n",
       "</table>\n",
       "<p>12404 rows × 5 columns</p>\n",
       "</div>"
      ],
      "text/plain": [
       "       bedrooms  bathrooms  KM_label_val  home_size  year\n",
       "44525       3.0        3.5             2       3570  1981\n",
       "6775        2.0        1.0            10        832  1956\n",
       "9645        3.0        2.0            10       1823  1956\n",
       "9198        4.0        2.0            18       1640  1997\n",
       "44594       3.0        2.0            11       1625  1924\n",
       "...         ...        ...           ...        ...   ...\n",
       "30968       4.0        2.0            17       2334  1955\n",
       "38074       4.0        2.0             7       1502  1956\n",
       "4354        3.0        2.0             4       1372  1956\n",
       "52263       4.0        2.0            14       1663  1952\n",
       "49648       2.0        1.0            14       1054  1912\n",
       "\n",
       "[12404 rows x 5 columns]"
      ]
     },
     "execution_count": 91,
     "metadata": {},
     "output_type": "execute_result"
    }
   ],
   "source": [
    "X_validate"
   ]
  },
  {
   "cell_type": "code",
   "execution_count": 92,
   "id": "7addcc4d",
   "metadata": {},
   "outputs": [
    {
     "name": "stdout",
     "output_type": "stream",
     "text": [
      "RMSE for OLS using LinearRegression\n",
      "Training/In-Sample:  434485.2492419352 \n",
      "Validation/Out-of-Sample:  425901.09171376366\n"
     ]
    }
   ],
   "source": [
    "lm = LinearRegression(normalize=True)\n",
    "\n",
    "# fit the model to our training data. We must specify the column in y_train, \n",
    "# since we have converted it to a dataframe from a series! \n",
    "lm.fit(X_train, y_train.value)\n",
    "\n",
    "# predict train\n",
    "y_train['value_predict_lm'] = lm.predict(X_train)\n",
    "\n",
    "# evaluate: rmse\n",
    "rmse_train = mean_squared_error(y_train.value, y_train.value_predict_lm)**(1/2)\n",
    "\n",
    "# predict validate\n",
    "y_validate['value_predict_lm'] = lm.predict(X_validate)\n",
    "\n",
    "# evaluate: rmse\n",
    "rmse_validate = mean_squared_error(y_validate.value, y_validate.value_predict_lm)**(1/2)\n",
    "\n",
    "print(\"RMSE for OLS using LinearRegression\\nTraining/In-Sample: \", rmse_train, \n",
    "      \"\\nValidation/Out-of-Sample: \", rmse_validate)"
   ]
  },
  {
   "cell_type": "code",
   "execution_count": 93,
   "id": "725ba5d5",
   "metadata": {},
   "outputs": [
    {
     "name": "stdout",
     "output_type": "stream",
     "text": [
      "RMSE for Lasso + Lars\n",
      "Training/In-Sample:  434485.57248620316 \n",
      "Validation/Out-of-Sample:  425880.03923692746\n"
     ]
    }
   ],
   "source": [
    "lars = LassoLars(alpha=1.0)\n",
    "\n",
    "# fit the model to our training data. We must specify the column in y_train, \n",
    "# since we have converted it to a dataframe from a series! \n",
    "lars.fit(X_train, y_train.value)\n",
    "\n",
    "# predict train\n",
    "y_train['pred_lars'] = lars.predict(X_train)\n",
    "\n",
    "# evaluate: rmse\n",
    "rmse_train = mean_squared_error(y_train.value, y_train.pred_lars)**(1/2)\n",
    "\n",
    "# predict validate\n",
    "y_validate['pred_lars'] = lars.predict(X_validate)\n",
    "\n",
    "# evaluate: rmse\n",
    "rmse_validate = mean_squared_error(y_validate.value, y_validate.pred_lars)**(1/2)\n",
    "\n",
    "print(\"RMSE for Lasso + Lars\\nTraining/In-Sample: \", rmse_train, \n",
    "      \"\\nValidation/Out-of-Sample: \", rmse_validate)"
   ]
  },
  {
   "cell_type": "code",
   "execution_count": 143,
   "id": "efe18db1",
   "metadata": {},
   "outputs": [
    {
     "name": "stdout",
     "output_type": "stream",
     "text": [
      "RMSE for GLM using Tweedie, power=1 & alpha=0\n",
      "Training/In-Sample:  566940.8438019488 \n",
      "Validation/Out-of-Sample:  553701.0370458176\n"
     ]
    }
   ],
   "source": [
    "glm = TweedieRegressor(power=1, alpha=6)\n",
    "\n",
    "# fit the model to our training data. We must specify the column in y_train, \n",
    "# since we have converted it to a dataframe from a series! \n",
    "glm.fit(X_train, y_train.value)\n",
    "\n",
    "# predict train\n",
    "y_train['pred_value_glm'] = glm.predict(X_train)\n",
    "\n",
    "# evaluate: rmse\n",
    "rmse_train = mean_squared_error(y_train.value, y_train.pred_value_glm)**(1/2)\n",
    "\n",
    "# predict validate\n",
    "y_validate['pred_value_glm'] = glm.predict(X_validate)\n",
    "\n",
    "# evaluate: rmse\n",
    "rmse_validate = mean_squared_error(y_validate.value, y_validate.pred_value_glm)**(1/2)\n",
    "\n",
    "print(\"RMSE for GLM using Tweedie, power=1 & alpha=0\\nTraining/In-Sample: \", rmse_train, \n",
    "      \"\\nValidation/Out-of-Sample: \", rmse_validate)"
   ]
  },
  {
   "cell_type": "code",
   "execution_count": 127,
   "id": "ac8b1deb",
   "metadata": {},
   "outputs": [
    {
     "data": {
      "text/html": [
       "<div>\n",
       "<style scoped>\n",
       "    .dataframe tbody tr th:only-of-type {\n",
       "        vertical-align: middle;\n",
       "    }\n",
       "\n",
       "    .dataframe tbody tr th {\n",
       "        vertical-align: top;\n",
       "    }\n",
       "\n",
       "    .dataframe thead th {\n",
       "        text-align: right;\n",
       "    }\n",
       "</style>\n",
       "<table border=\"1\" class=\"dataframe\">\n",
       "  <thead>\n",
       "    <tr style=\"text-align: right;\">\n",
       "      <th></th>\n",
       "      <th>bedrooms</th>\n",
       "      <th>bathrooms</th>\n",
       "      <th>home_size</th>\n",
       "      <th>value</th>\n",
       "      <th>year</th>\n",
       "      <th>tax</th>\n",
       "      <th>fips</th>\n",
       "      <th>land_value</th>\n",
       "      <th>lot_size</th>\n",
       "      <th>latitude</th>\n",
       "      <th>longitude</th>\n",
       "      <th>KM_label_train</th>\n",
       "      <th>yhat</th>\n",
       "      <th>residual</th>\n",
       "      <th>yhat_baseline</th>\n",
       "      <th>residual_baseline</th>\n",
       "      <th>residual^2</th>\n",
       "      <th>residual_baseline^2</th>\n",
       "    </tr>\n",
       "  </thead>\n",
       "  <tbody>\n",
       "    <tr>\n",
       "      <th>50339</th>\n",
       "      <td>3.0</td>\n",
       "      <td>2.0</td>\n",
       "      <td>1547</td>\n",
       "      <td>91062</td>\n",
       "      <td>1953</td>\n",
       "      <td>1329.02</td>\n",
       "      <td>6037</td>\n",
       "      <td>33520</td>\n",
       "      <td>4982</td>\n",
       "      <td>33.821634</td>\n",
       "      <td>-118.180944</td>\n",
       "      <td>21</td>\n",
       "      <td>508655.0</td>\n",
       "      <td>275246.0</td>\n",
       "      <td>508654.57671</td>\n",
       "      <td>417592.57671</td>\n",
       "      <td>7.576036e+10</td>\n",
       "      <td>1.743836e+11</td>\n",
       "    </tr>\n",
       "    <tr>\n",
       "      <th>28375</th>\n",
       "      <td>5.0</td>\n",
       "      <td>2.0</td>\n",
       "      <td>2238</td>\n",
       "      <td>294404</td>\n",
       "      <td>1910</td>\n",
       "      <td>3702.98</td>\n",
       "      <td>6037</td>\n",
       "      <td>166496</td>\n",
       "      <td>10913</td>\n",
       "      <td>34.160779</td>\n",
       "      <td>-118.181243</td>\n",
       "      <td>18</td>\n",
       "      <td>508655.0</td>\n",
       "      <td>236872.0</td>\n",
       "      <td>508654.57671</td>\n",
       "      <td>214250.57671</td>\n",
       "      <td>5.610834e+10</td>\n",
       "      <td>4.590331e+10</td>\n",
       "    </tr>\n",
       "    <tr>\n",
       "      <th>46916</th>\n",
       "      <td>5.0</td>\n",
       "      <td>5.0</td>\n",
       "      <td>4642</td>\n",
       "      <td>684719</td>\n",
       "      <td>1953</td>\n",
       "      <td>8354.42</td>\n",
       "      <td>6037</td>\n",
       "      <td>173524</td>\n",
       "      <td>7605</td>\n",
       "      <td>33.940562</td>\n",
       "      <td>-118.181111</td>\n",
       "      <td>20</td>\n",
       "      <td>508655.0</td>\n",
       "      <td>943551.0</td>\n",
       "      <td>508654.57671</td>\n",
       "      <td>-176064.42329</td>\n",
       "      <td>8.902885e+11</td>\n",
       "      <td>3.099868e+10</td>\n",
       "    </tr>\n",
       "    <tr>\n",
       "      <th>20158</th>\n",
       "      <td>3.0</td>\n",
       "      <td>2.0</td>\n",
       "      <td>1356</td>\n",
       "      <td>180208</td>\n",
       "      <td>1964</td>\n",
       "      <td>2277.76</td>\n",
       "      <td>6059</td>\n",
       "      <td>97817</td>\n",
       "      <td>6002</td>\n",
       "      <td>33.721196</td>\n",
       "      <td>-117.178914</td>\n",
       "      <td>11</td>\n",
       "      <td>508655.0</td>\n",
       "      <td>124470.0</td>\n",
       "      <td>508654.57671</td>\n",
       "      <td>328446.57671</td>\n",
       "      <td>1.549278e+10</td>\n",
       "      <td>1.078772e+11</td>\n",
       "    </tr>\n",
       "    <tr>\n",
       "      <th>18052</th>\n",
       "      <td>3.0</td>\n",
       "      <td>2.0</td>\n",
       "      <td>1619</td>\n",
       "      <td>442099</td>\n",
       "      <td>1968</td>\n",
       "      <td>5074.14</td>\n",
       "      <td>6059</td>\n",
       "      <td>349658</td>\n",
       "      <td>6200</td>\n",
       "      <td>33.868299</td>\n",
       "      <td>-117.178110</td>\n",
       "      <td>7</td>\n",
       "      <td>508655.0</td>\n",
       "      <td>-35446.0</td>\n",
       "      <td>508654.57671</td>\n",
       "      <td>66555.57671</td>\n",
       "      <td>1.256419e+09</td>\n",
       "      <td>4.429645e+09</td>\n",
       "    </tr>\n",
       "    <tr>\n",
       "      <th>...</th>\n",
       "      <td>...</td>\n",
       "      <td>...</td>\n",
       "      <td>...</td>\n",
       "      <td>...</td>\n",
       "      <td>...</td>\n",
       "      <td>...</td>\n",
       "      <td>...</td>\n",
       "      <td>...</td>\n",
       "      <td>...</td>\n",
       "      <td>...</td>\n",
       "      <td>...</td>\n",
       "      <td>...</td>\n",
       "      <td>...</td>\n",
       "      <td>...</td>\n",
       "      <td>...</td>\n",
       "      <td>...</td>\n",
       "      <td>...</td>\n",
       "      <td>...</td>\n",
       "    </tr>\n",
       "    <tr>\n",
       "      <th>42940</th>\n",
       "      <td>4.0</td>\n",
       "      <td>3.0</td>\n",
       "      <td>2045</td>\n",
       "      <td>519807</td>\n",
       "      <td>1968</td>\n",
       "      <td>6429.02</td>\n",
       "      <td>6037</td>\n",
       "      <td>340413</td>\n",
       "      <td>6009</td>\n",
       "      <td>34.264051</td>\n",
       "      <td>-118.182954</td>\n",
       "      <td>5</td>\n",
       "      <td>508655.0</td>\n",
       "      <td>51826.0</td>\n",
       "      <td>508654.57671</td>\n",
       "      <td>-11152.42329</td>\n",
       "      <td>2.685934e+09</td>\n",
       "      <td>1.243765e+08</td>\n",
       "    </tr>\n",
       "    <tr>\n",
       "      <th>46851</th>\n",
       "      <td>2.0</td>\n",
       "      <td>2.0</td>\n",
       "      <td>1093</td>\n",
       "      <td>163100</td>\n",
       "      <td>1955</td>\n",
       "      <td>2703.78</td>\n",
       "      <td>6037</td>\n",
       "      <td>41100</td>\n",
       "      <td>6983</td>\n",
       "      <td>34.690405</td>\n",
       "      <td>-118.181527</td>\n",
       "      <td>15</td>\n",
       "      <td>508655.0</td>\n",
       "      <td>171560.0</td>\n",
       "      <td>508654.57671</td>\n",
       "      <td>345554.57671</td>\n",
       "      <td>2.943283e+10</td>\n",
       "      <td>1.194080e+11</td>\n",
       "    </tr>\n",
       "    <tr>\n",
       "      <th>52419</th>\n",
       "      <td>2.0</td>\n",
       "      <td>1.0</td>\n",
       "      <td>960</td>\n",
       "      <td>443726</td>\n",
       "      <td>1923</td>\n",
       "      <td>5423.02</td>\n",
       "      <td>6037</td>\n",
       "      <td>354981</td>\n",
       "      <td>4500</td>\n",
       "      <td>33.732661</td>\n",
       "      <td>-118.183019</td>\n",
       "      <td>17</td>\n",
       "      <td>508655.0</td>\n",
       "      <td>-185445.0</td>\n",
       "      <td>508654.57671</td>\n",
       "      <td>64928.57671</td>\n",
       "      <td>3.438985e+10</td>\n",
       "      <td>4.215720e+09</td>\n",
       "    </tr>\n",
       "    <tr>\n",
       "      <th>44865</th>\n",
       "      <td>4.0</td>\n",
       "      <td>3.0</td>\n",
       "      <td>2824</td>\n",
       "      <td>620304</td>\n",
       "      <td>1998</td>\n",
       "      <td>7927.78</td>\n",
       "      <td>6059</td>\n",
       "      <td>293459</td>\n",
       "      <td>10402</td>\n",
       "      <td>33.871625</td>\n",
       "      <td>-117.177743</td>\n",
       "      <td>7</td>\n",
       "      <td>508655.0</td>\n",
       "      <td>139667.0</td>\n",
       "      <td>508654.57671</td>\n",
       "      <td>-111649.42329</td>\n",
       "      <td>1.950687e+10</td>\n",
       "      <td>1.246559e+10</td>\n",
       "    </tr>\n",
       "    <tr>\n",
       "      <th>9813</th>\n",
       "      <td>2.0</td>\n",
       "      <td>1.0</td>\n",
       "      <td>776</td>\n",
       "      <td>473000</td>\n",
       "      <td>1924</td>\n",
       "      <td>6291.07</td>\n",
       "      <td>6037</td>\n",
       "      <td>395000</td>\n",
       "      <td>6781</td>\n",
       "      <td>34.154325</td>\n",
       "      <td>-117.179918</td>\n",
       "      <td>10</td>\n",
       "      <td>508655.0</td>\n",
       "      <td>-256113.0</td>\n",
       "      <td>508654.57671</td>\n",
       "      <td>35654.57671</td>\n",
       "      <td>6.559387e+10</td>\n",
       "      <td>1.271249e+09</td>\n",
       "    </tr>\n",
       "  </tbody>\n",
       "</table>\n",
       "<p>28940 rows × 18 columns</p>\n",
       "</div>"
      ],
      "text/plain": [
       "       bedrooms  bathrooms  home_size   value  year      tax  fips  \\\n",
       "50339       3.0        2.0       1547   91062  1953  1329.02  6037   \n",
       "28375       5.0        2.0       2238  294404  1910  3702.98  6037   \n",
       "46916       5.0        5.0       4642  684719  1953  8354.42  6037   \n",
       "20158       3.0        2.0       1356  180208  1964  2277.76  6059   \n",
       "18052       3.0        2.0       1619  442099  1968  5074.14  6059   \n",
       "...         ...        ...        ...     ...   ...      ...   ...   \n",
       "42940       4.0        3.0       2045  519807  1968  6429.02  6037   \n",
       "46851       2.0        2.0       1093  163100  1955  2703.78  6037   \n",
       "52419       2.0        1.0        960  443726  1923  5423.02  6037   \n",
       "44865       4.0        3.0       2824  620304  1998  7927.78  6059   \n",
       "9813        2.0        1.0        776  473000  1924  6291.07  6037   \n",
       "\n",
       "       land_value  lot_size   latitude   longitude  KM_label_train      yhat  \\\n",
       "50339       33520      4982  33.821634 -118.180944              21  508655.0   \n",
       "28375      166496     10913  34.160779 -118.181243              18  508655.0   \n",
       "46916      173524      7605  33.940562 -118.181111              20  508655.0   \n",
       "20158       97817      6002  33.721196 -117.178914              11  508655.0   \n",
       "18052      349658      6200  33.868299 -117.178110               7  508655.0   \n",
       "...           ...       ...        ...         ...             ...       ...   \n",
       "42940      340413      6009  34.264051 -118.182954               5  508655.0   \n",
       "46851       41100      6983  34.690405 -118.181527              15  508655.0   \n",
       "52419      354981      4500  33.732661 -118.183019              17  508655.0   \n",
       "44865      293459     10402  33.871625 -117.177743               7  508655.0   \n",
       "9813       395000      6781  34.154325 -117.179918              10  508655.0   \n",
       "\n",
       "       residual  yhat_baseline  residual_baseline    residual^2  \\\n",
       "50339  275246.0   508654.57671       417592.57671  7.576036e+10   \n",
       "28375  236872.0   508654.57671       214250.57671  5.610834e+10   \n",
       "46916  943551.0   508654.57671      -176064.42329  8.902885e+11   \n",
       "20158  124470.0   508654.57671       328446.57671  1.549278e+10   \n",
       "18052  -35446.0   508654.57671        66555.57671  1.256419e+09   \n",
       "...         ...            ...                ...           ...   \n",
       "42940   51826.0   508654.57671       -11152.42329  2.685934e+09   \n",
       "46851  171560.0   508654.57671       345554.57671  2.943283e+10   \n",
       "52419 -185445.0   508654.57671        64928.57671  3.438985e+10   \n",
       "44865  139667.0   508654.57671      -111649.42329  1.950687e+10   \n",
       "9813  -256113.0   508654.57671        35654.57671  6.559387e+10   \n",
       "\n",
       "       residual_baseline^2  \n",
       "50339         1.743836e+11  \n",
       "28375         4.590331e+10  \n",
       "46916         3.099868e+10  \n",
       "20158         1.078772e+11  \n",
       "18052         4.429645e+09  \n",
       "...                    ...  \n",
       "42940         1.243765e+08  \n",
       "46851         1.194080e+11  \n",
       "52419         4.215720e+09  \n",
       "44865         1.246559e+10  \n",
       "9813          1.271249e+09  \n",
       "\n",
       "[28940 rows x 18 columns]"
      ]
     },
     "execution_count": 127,
     "metadata": {},
     "output_type": "execute_result"
    }
   ],
   "source": [
    "from sklearn.linear_model import LinearRegression\n",
    "\n",
    "\n",
    "# compute predictions and add to original dataframe\n",
    "train['yhat'] = glm.predict(X_train).round()\n",
    "\n",
    "train"
   ]
  },
  {
   "cell_type": "code",
   "execution_count": 128,
   "id": "66d64e71",
   "metadata": {},
   "outputs": [],
   "source": [
    "train['yhat_baseline'] = train.value.mean()"
   ]
  },
  {
   "cell_type": "code",
   "execution_count": 129,
   "id": "49f30f84",
   "metadata": {},
   "outputs": [],
   "source": [
    "train['residual'] = train['yhat'] - train['value']\n",
    "train['residual_baseline'] = train['yhat_baseline'] - train['value']"
   ]
  },
  {
   "cell_type": "code",
   "execution_count": 130,
   "id": "1ba976b7",
   "metadata": {},
   "outputs": [
    {
     "data": {
      "text/html": [
       "<div>\n",
       "<style scoped>\n",
       "    .dataframe tbody tr th:only-of-type {\n",
       "        vertical-align: middle;\n",
       "    }\n",
       "\n",
       "    .dataframe tbody tr th {\n",
       "        vertical-align: top;\n",
       "    }\n",
       "\n",
       "    .dataframe thead th {\n",
       "        text-align: right;\n",
       "    }\n",
       "</style>\n",
       "<table border=\"1\" class=\"dataframe\">\n",
       "  <thead>\n",
       "    <tr style=\"text-align: right;\">\n",
       "      <th></th>\n",
       "      <th>bedrooms</th>\n",
       "      <th>bathrooms</th>\n",
       "      <th>home_size</th>\n",
       "      <th>value</th>\n",
       "      <th>year</th>\n",
       "      <th>tax</th>\n",
       "      <th>fips</th>\n",
       "      <th>land_value</th>\n",
       "      <th>lot_size</th>\n",
       "      <th>latitude</th>\n",
       "      <th>longitude</th>\n",
       "      <th>KM_label_train</th>\n",
       "      <th>yhat</th>\n",
       "      <th>residual</th>\n",
       "      <th>yhat_baseline</th>\n",
       "      <th>residual_baseline</th>\n",
       "      <th>residual^2</th>\n",
       "      <th>residual_baseline^2</th>\n",
       "    </tr>\n",
       "  </thead>\n",
       "  <tbody>\n",
       "    <tr>\n",
       "      <th>50339</th>\n",
       "      <td>3.0</td>\n",
       "      <td>2.0</td>\n",
       "      <td>1547</td>\n",
       "      <td>91062</td>\n",
       "      <td>1953</td>\n",
       "      <td>1329.02</td>\n",
       "      <td>6037</td>\n",
       "      <td>33520</td>\n",
       "      <td>4982</td>\n",
       "      <td>33.821634</td>\n",
       "      <td>-118.180944</td>\n",
       "      <td>21</td>\n",
       "      <td>508655.0</td>\n",
       "      <td>417593.0</td>\n",
       "      <td>508654.57671</td>\n",
       "      <td>417592.57671</td>\n",
       "      <td>7.576036e+10</td>\n",
       "      <td>1.743836e+11</td>\n",
       "    </tr>\n",
       "    <tr>\n",
       "      <th>28375</th>\n",
       "      <td>5.0</td>\n",
       "      <td>2.0</td>\n",
       "      <td>2238</td>\n",
       "      <td>294404</td>\n",
       "      <td>1910</td>\n",
       "      <td>3702.98</td>\n",
       "      <td>6037</td>\n",
       "      <td>166496</td>\n",
       "      <td>10913</td>\n",
       "      <td>34.160779</td>\n",
       "      <td>-118.181243</td>\n",
       "      <td>18</td>\n",
       "      <td>508655.0</td>\n",
       "      <td>214251.0</td>\n",
       "      <td>508654.57671</td>\n",
       "      <td>214250.57671</td>\n",
       "      <td>5.610834e+10</td>\n",
       "      <td>4.590331e+10</td>\n",
       "    </tr>\n",
       "    <tr>\n",
       "      <th>46916</th>\n",
       "      <td>5.0</td>\n",
       "      <td>5.0</td>\n",
       "      <td>4642</td>\n",
       "      <td>684719</td>\n",
       "      <td>1953</td>\n",
       "      <td>8354.42</td>\n",
       "      <td>6037</td>\n",
       "      <td>173524</td>\n",
       "      <td>7605</td>\n",
       "      <td>33.940562</td>\n",
       "      <td>-118.181111</td>\n",
       "      <td>20</td>\n",
       "      <td>508655.0</td>\n",
       "      <td>-176064.0</td>\n",
       "      <td>508654.57671</td>\n",
       "      <td>-176064.42329</td>\n",
       "      <td>8.902885e+11</td>\n",
       "      <td>3.099868e+10</td>\n",
       "    </tr>\n",
       "    <tr>\n",
       "      <th>20158</th>\n",
       "      <td>3.0</td>\n",
       "      <td>2.0</td>\n",
       "      <td>1356</td>\n",
       "      <td>180208</td>\n",
       "      <td>1964</td>\n",
       "      <td>2277.76</td>\n",
       "      <td>6059</td>\n",
       "      <td>97817</td>\n",
       "      <td>6002</td>\n",
       "      <td>33.721196</td>\n",
       "      <td>-117.178914</td>\n",
       "      <td>11</td>\n",
       "      <td>508655.0</td>\n",
       "      <td>328447.0</td>\n",
       "      <td>508654.57671</td>\n",
       "      <td>328446.57671</td>\n",
       "      <td>1.549278e+10</td>\n",
       "      <td>1.078772e+11</td>\n",
       "    </tr>\n",
       "    <tr>\n",
       "      <th>18052</th>\n",
       "      <td>3.0</td>\n",
       "      <td>2.0</td>\n",
       "      <td>1619</td>\n",
       "      <td>442099</td>\n",
       "      <td>1968</td>\n",
       "      <td>5074.14</td>\n",
       "      <td>6059</td>\n",
       "      <td>349658</td>\n",
       "      <td>6200</td>\n",
       "      <td>33.868299</td>\n",
       "      <td>-117.178110</td>\n",
       "      <td>7</td>\n",
       "      <td>508655.0</td>\n",
       "      <td>66556.0</td>\n",
       "      <td>508654.57671</td>\n",
       "      <td>66555.57671</td>\n",
       "      <td>1.256419e+09</td>\n",
       "      <td>4.429645e+09</td>\n",
       "    </tr>\n",
       "    <tr>\n",
       "      <th>...</th>\n",
       "      <td>...</td>\n",
       "      <td>...</td>\n",
       "      <td>...</td>\n",
       "      <td>...</td>\n",
       "      <td>...</td>\n",
       "      <td>...</td>\n",
       "      <td>...</td>\n",
       "      <td>...</td>\n",
       "      <td>...</td>\n",
       "      <td>...</td>\n",
       "      <td>...</td>\n",
       "      <td>...</td>\n",
       "      <td>...</td>\n",
       "      <td>...</td>\n",
       "      <td>...</td>\n",
       "      <td>...</td>\n",
       "      <td>...</td>\n",
       "      <td>...</td>\n",
       "    </tr>\n",
       "    <tr>\n",
       "      <th>42940</th>\n",
       "      <td>4.0</td>\n",
       "      <td>3.0</td>\n",
       "      <td>2045</td>\n",
       "      <td>519807</td>\n",
       "      <td>1968</td>\n",
       "      <td>6429.02</td>\n",
       "      <td>6037</td>\n",
       "      <td>340413</td>\n",
       "      <td>6009</td>\n",
       "      <td>34.264051</td>\n",
       "      <td>-118.182954</td>\n",
       "      <td>5</td>\n",
       "      <td>508655.0</td>\n",
       "      <td>-11152.0</td>\n",
       "      <td>508654.57671</td>\n",
       "      <td>-11152.42329</td>\n",
       "      <td>2.685934e+09</td>\n",
       "      <td>1.243765e+08</td>\n",
       "    </tr>\n",
       "    <tr>\n",
       "      <th>46851</th>\n",
       "      <td>2.0</td>\n",
       "      <td>2.0</td>\n",
       "      <td>1093</td>\n",
       "      <td>163100</td>\n",
       "      <td>1955</td>\n",
       "      <td>2703.78</td>\n",
       "      <td>6037</td>\n",
       "      <td>41100</td>\n",
       "      <td>6983</td>\n",
       "      <td>34.690405</td>\n",
       "      <td>-118.181527</td>\n",
       "      <td>15</td>\n",
       "      <td>508655.0</td>\n",
       "      <td>345555.0</td>\n",
       "      <td>508654.57671</td>\n",
       "      <td>345554.57671</td>\n",
       "      <td>2.943283e+10</td>\n",
       "      <td>1.194080e+11</td>\n",
       "    </tr>\n",
       "    <tr>\n",
       "      <th>52419</th>\n",
       "      <td>2.0</td>\n",
       "      <td>1.0</td>\n",
       "      <td>960</td>\n",
       "      <td>443726</td>\n",
       "      <td>1923</td>\n",
       "      <td>5423.02</td>\n",
       "      <td>6037</td>\n",
       "      <td>354981</td>\n",
       "      <td>4500</td>\n",
       "      <td>33.732661</td>\n",
       "      <td>-118.183019</td>\n",
       "      <td>17</td>\n",
       "      <td>508655.0</td>\n",
       "      <td>64929.0</td>\n",
       "      <td>508654.57671</td>\n",
       "      <td>64928.57671</td>\n",
       "      <td>3.438985e+10</td>\n",
       "      <td>4.215720e+09</td>\n",
       "    </tr>\n",
       "    <tr>\n",
       "      <th>44865</th>\n",
       "      <td>4.0</td>\n",
       "      <td>3.0</td>\n",
       "      <td>2824</td>\n",
       "      <td>620304</td>\n",
       "      <td>1998</td>\n",
       "      <td>7927.78</td>\n",
       "      <td>6059</td>\n",
       "      <td>293459</td>\n",
       "      <td>10402</td>\n",
       "      <td>33.871625</td>\n",
       "      <td>-117.177743</td>\n",
       "      <td>7</td>\n",
       "      <td>508655.0</td>\n",
       "      <td>-111649.0</td>\n",
       "      <td>508654.57671</td>\n",
       "      <td>-111649.42329</td>\n",
       "      <td>1.950687e+10</td>\n",
       "      <td>1.246559e+10</td>\n",
       "    </tr>\n",
       "    <tr>\n",
       "      <th>9813</th>\n",
       "      <td>2.0</td>\n",
       "      <td>1.0</td>\n",
       "      <td>776</td>\n",
       "      <td>473000</td>\n",
       "      <td>1924</td>\n",
       "      <td>6291.07</td>\n",
       "      <td>6037</td>\n",
       "      <td>395000</td>\n",
       "      <td>6781</td>\n",
       "      <td>34.154325</td>\n",
       "      <td>-117.179918</td>\n",
       "      <td>10</td>\n",
       "      <td>508655.0</td>\n",
       "      <td>35655.0</td>\n",
       "      <td>508654.57671</td>\n",
       "      <td>35654.57671</td>\n",
       "      <td>6.559387e+10</td>\n",
       "      <td>1.271249e+09</td>\n",
       "    </tr>\n",
       "  </tbody>\n",
       "</table>\n",
       "<p>28940 rows × 18 columns</p>\n",
       "</div>"
      ],
      "text/plain": [
       "       bedrooms  bathrooms  home_size   value  year      tax  fips  \\\n",
       "50339       3.0        2.0       1547   91062  1953  1329.02  6037   \n",
       "28375       5.0        2.0       2238  294404  1910  3702.98  6037   \n",
       "46916       5.0        5.0       4642  684719  1953  8354.42  6037   \n",
       "20158       3.0        2.0       1356  180208  1964  2277.76  6059   \n",
       "18052       3.0        2.0       1619  442099  1968  5074.14  6059   \n",
       "...         ...        ...        ...     ...   ...      ...   ...   \n",
       "42940       4.0        3.0       2045  519807  1968  6429.02  6037   \n",
       "46851       2.0        2.0       1093  163100  1955  2703.78  6037   \n",
       "52419       2.0        1.0        960  443726  1923  5423.02  6037   \n",
       "44865       4.0        3.0       2824  620304  1998  7927.78  6059   \n",
       "9813        2.0        1.0        776  473000  1924  6291.07  6037   \n",
       "\n",
       "       land_value  lot_size   latitude   longitude  KM_label_train      yhat  \\\n",
       "50339       33520      4982  33.821634 -118.180944              21  508655.0   \n",
       "28375      166496     10913  34.160779 -118.181243              18  508655.0   \n",
       "46916      173524      7605  33.940562 -118.181111              20  508655.0   \n",
       "20158       97817      6002  33.721196 -117.178914              11  508655.0   \n",
       "18052      349658      6200  33.868299 -117.178110               7  508655.0   \n",
       "...           ...       ...        ...         ...             ...       ...   \n",
       "42940      340413      6009  34.264051 -118.182954               5  508655.0   \n",
       "46851       41100      6983  34.690405 -118.181527              15  508655.0   \n",
       "52419      354981      4500  33.732661 -118.183019              17  508655.0   \n",
       "44865      293459     10402  33.871625 -117.177743               7  508655.0   \n",
       "9813       395000      6781  34.154325 -117.179918              10  508655.0   \n",
       "\n",
       "       residual  yhat_baseline  residual_baseline    residual^2  \\\n",
       "50339  417593.0   508654.57671       417592.57671  7.576036e+10   \n",
       "28375  214251.0   508654.57671       214250.57671  5.610834e+10   \n",
       "46916 -176064.0   508654.57671      -176064.42329  8.902885e+11   \n",
       "20158  328447.0   508654.57671       328446.57671  1.549278e+10   \n",
       "18052   66556.0   508654.57671        66555.57671  1.256419e+09   \n",
       "...         ...            ...                ...           ...   \n",
       "42940  -11152.0   508654.57671       -11152.42329  2.685934e+09   \n",
       "46851  345555.0   508654.57671       345554.57671  2.943283e+10   \n",
       "52419   64929.0   508654.57671        64928.57671  3.438985e+10   \n",
       "44865 -111649.0   508654.57671      -111649.42329  1.950687e+10   \n",
       "9813    35655.0   508654.57671        35654.57671  6.559387e+10   \n",
       "\n",
       "       residual_baseline^2  \n",
       "50339         1.743836e+11  \n",
       "28375         4.590331e+10  \n",
       "46916         3.099868e+10  \n",
       "20158         1.078772e+11  \n",
       "18052         4.429645e+09  \n",
       "...                    ...  \n",
       "42940         1.243765e+08  \n",
       "46851         1.194080e+11  \n",
       "52419         4.215720e+09  \n",
       "44865         1.246559e+10  \n",
       "9813          1.271249e+09  \n",
       "\n",
       "[28940 rows x 18 columns]"
      ]
     },
     "execution_count": 130,
     "metadata": {},
     "output_type": "execute_result"
    }
   ],
   "source": [
    "train"
   ]
  },
  {
   "cell_type": "code",
   "execution_count": 102,
   "id": "e9d21cd3",
   "metadata": {},
   "outputs": [],
   "source": [
    "from scipy import stats\n",
    "from sklearn.metrics import mean_squared_error, r2_score, explained_variance_score\n",
    "\n",
    "from sklearn.linear_model import LinearRegression\n",
    "from sklearn.feature_selection import f_regression \n",
    "from math import sqrt"
   ]
  },
  {
   "cell_type": "code",
   "execution_count": 131,
   "id": "cdeb5212",
   "metadata": {},
   "outputs": [],
   "source": [
    "train['residual^2'] = train.residual ** 2\n",
    "train['residual_baseline^2'] = train.residual_baseline ** 2"
   ]
  },
  {
   "cell_type": "code",
   "execution_count": 132,
   "id": "f033692b",
   "metadata": {},
   "outputs": [
    {
     "name": "stdout",
     "output_type": "stream",
     "text": [
      "SSE =  9301950375537408.0\n",
      "SSE - baseline =  9301950375532866.0\n"
     ]
    }
   ],
   "source": [
    "SSE = sum(train['residual^2'])\n",
    "SSE_baseline = sum(train['residual_baseline^2'])\n",
    "\n",
    "print(\"SSE = \", SSE)\n",
    "print(\"SSE - baseline = \", SSE_baseline)"
   ]
  },
  {
   "cell_type": "code",
   "execution_count": 133,
   "id": "3ac5a38a",
   "metadata": {},
   "outputs": [
    {
     "name": "stdout",
     "output_type": "stream",
     "text": [
      "MSE =  321421920371.0231\n",
      "MSE baseline =  321421920370.86615\n"
     ]
    }
   ],
   "source": [
    "MSE = SSE/len(train)\n",
    "MSE_baseline = SSE_baseline/len(train)\n",
    "\n",
    "print(\"MSE = \", MSE)\n",
    "print(\"MSE baseline = \", MSE_baseline)"
   ]
  },
  {
   "cell_type": "code",
   "execution_count": 134,
   "id": "500122e3",
   "metadata": {},
   "outputs": [
    {
     "name": "stdout",
     "output_type": "stream",
     "text": [
      "RMSE =  566940.8438020876\n",
      "RMSE baseline =  566940.8438019492\n"
     ]
    }
   ],
   "source": [
    "RMSE = sqrt(MSE)\n",
    "RMSE_baseline = sqrt(MSE_baseline)\n",
    "\n",
    "print(\"RMSE = \", RMSE)\n",
    "print(\"RMSE baseline = \", RMSE_baseline)"
   ]
  },
  {
   "cell_type": "code",
   "execution_count": null,
   "id": "b410fe0e",
   "metadata": {},
   "outputs": [],
   "source": []
  }
 ],
 "metadata": {
  "kernelspec": {
   "display_name": "Python 3 (ipykernel)",
   "language": "python",
   "name": "python3"
  },
  "language_info": {
   "codemirror_mode": {
    "name": "ipython",
    "version": 3
   },
   "file_extension": ".py",
   "mimetype": "text/x-python",
   "name": "python",
   "nbconvert_exporter": "python",
   "pygments_lexer": "ipython3",
   "version": "3.9.7"
  }
 },
 "nbformat": 4,
 "nbformat_minor": 5
}
