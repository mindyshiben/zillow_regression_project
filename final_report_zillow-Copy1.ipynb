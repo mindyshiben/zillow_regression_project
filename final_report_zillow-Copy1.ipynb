{
 "cells": [
  {
   "cell_type": "markdown",
   "id": "fcb04356",
   "metadata": {},
   "source": [
    "### Zillow Regression Project\n",
    "\n",
    "#### Project Goals:\n",
    "\n",
    "- Construct a machine learning regression model that improves predicted propery tax assessed values of single family homes.\n",
    "- Find the key drivers of property value for single family properties.\n",
    "- Forcast tax assessed home value with enhanced accuracy.\n",
    "- Empower zillow executives to improve the current predictions using my recommentations.\n",
    "- Thoroughly document the process and key findings.\n",
    "\n",
    "#### Summary of Findings & Recommendations:\n",
    "- My analysis indicates that the top drivers of tax assessed home values are:\n",
    "     > - property size (square footage)\n",
    "     > - property's year built\n",
    "     > - location (zip code)\n",
    "     > - bedroom count\n",
    "     > - bathroom count\n",
    "\n",
    "- I built and trained an ordinary least squares (OLS) linear regression model which is able to improve predict tax assessed home values by ~ $80,000.\n",
    " \n",
    "- By utilizing this model with the top drivers of tax assessed home values , I can recommend employing this new model with reasonable confidence."
   ]
  },
  {
   "cell_type": "markdown",
   "id": "8eaabdbc",
   "metadata": {},
   "source": [
    "#### Data Acquistion & Preparation\n",
    "- Import necessary libraries\n",
    "- Import user defined functions (acquire.py, wrangle.py)\n",
    "- Data imported meets the following conditions:\n",
    "    > - single family homes in Orange county, CA, Ventura, CA, or Los Angeles, CA\n",
    "    > - had a transaction in 2017\n",
    "    > - data available in zillow properties_2017 table"
   ]
  },
  {
   "cell_type": "code",
   "execution_count": 2,
   "id": "c9ab7f32",
   "metadata": {},
   "outputs": [],
   "source": [
    "# Imports necessary to acquire, prepare, explore, visualize, analyze, and model data\n",
    "\n",
    "import warnings\n",
    "warnings.filterwarnings(\"ignore\")\n",
    "\n",
    "import pandas as pd\n",
    "import matplotlib.pyplot as plt\n",
    "import seaborn as sns\n",
    "import numpy as np\n",
    "import env\n",
    "import acquire\n",
    "import wrangle\n",
    "import prepare\n",
    "\n",
    "from tabulate import tabulate\n",
    "from IPython.display import Markdown, display\n",
    "\n",
    "from sklearn.model_selection import train_test_split\n",
    "from scipy.stats import pearsonr, spearmanr\n",
    "\n",
    "from math import sqrt\n",
    "from scipy import stats"
   ]
  },
  {
   "cell_type": "code",
   "execution_count": 3,
   "id": "a5d5bd73",
   "metadata": {},
   "outputs": [],
   "source": [
    "df = acquire.get_zillow_data()\n",
    "# this is a user-defined function in acquire.py that pulls in selected data from the SQL database"
   ]
  },
  {
   "cell_type": "code",
   "execution_count": 4,
   "id": "e7c4c024",
   "metadata": {},
   "outputs": [
    {
     "name": "stdout",
     "output_type": "stream",
     "text": [
      "<class 'pandas.core.frame.DataFrame'>\n",
      "RangeIndex: 52441 entries, 0 to 52440\n",
      "Data columns (total 11 columns):\n",
      " #   Column                        Non-Null Count  Dtype  \n",
      "---  ------                        --------------  -----  \n",
      " 0   Unnamed: 0                    52441 non-null  int64  \n",
      " 1   parcelid                      52441 non-null  int64  \n",
      " 2   taxvaluedollarcnt             52440 non-null  float64\n",
      " 3   bedroomcnt                    52441 non-null  float64\n",
      " 4   bathroomcnt                   52441 non-null  float64\n",
      " 5   yearbuilt                     52325 non-null  float64\n",
      " 6   fips                          52441 non-null  float64\n",
      " 7   calculatedfinishedsquarefeet  52359 non-null  float64\n",
      " 8   lotsizesquarefeet             52072 non-null  float64\n",
      " 9   latitude                      52441 non-null  float64\n",
      " 10  longitude                     52441 non-null  float64\n",
      "dtypes: float64(9), int64(2)\n",
      "memory usage: 4.4 MB\n"
     ]
    }
   ],
   "source": [
    "df.info()\n",
    "# gives an overview of the imported data including number of records, column names, number of non-null records, and datatypes"
   ]
  },
  {
   "cell_type": "markdown",
   "id": "8228c5a3",
   "metadata": {},
   "source": [
    "#### Acquired data includes:\n",
    "\n",
    "   > - parcelid: property identifier\n",
    "    > - bedroomcnt: bedroom count of property\n",
    "    > - bathroomcnt: bathroom count of property\n",
    "    > - yearbuilt: property's year built\n",
    "    > - fips: county of property\n",
    "    > - calculatedfinishedsquarefeet: square footage of property\n",
    "    > - lotsizesquarefeet: square footage of property's lot/land\n",
    "    > - latitude: latitude coordinate of property\n",
    "    > - longitude: longitude coordinate of property\n"
   ]
  },
  {
   "cell_type": "markdown",
   "id": "80221ee6",
   "metadata": {},
   "source": [
    "#### Handling Null (missing) Values:"
   ]
  },
  {
   "cell_type": "code",
   "execution_count": 5,
   "id": "bdd166de",
   "metadata": {},
   "outputs": [
    {
     "data": {
      "text/plain": [
       "Unnamed: 0                        0\n",
       "parcelid                          0\n",
       "taxvaluedollarcnt                 1\n",
       "bedroomcnt                        0\n",
       "bathroomcnt                       0\n",
       "yearbuilt                       116\n",
       "fips                              0\n",
       "calculatedfinishedsquarefeet     82\n",
       "lotsizesquarefeet               369\n",
       "latitude                          0\n",
       "longitude                         0\n",
       "dtype: int64"
      ]
     },
     "execution_count": 5,
     "metadata": {},
     "output_type": "execute_result"
    }
   ],
   "source": [
    "df.isna().sum()\n",
    "# shows the number of null values in each column in the dataframe"
   ]
  },
  {
   "cell_type": "code",
   "execution_count": 6,
   "id": "133d92fe",
   "metadata": {},
   "outputs": [
    {
     "data": {
      "text/markdown": [
       "***Number of records with nulls in all 3 columns:*** 80 records"
      ],
      "text/plain": [
       "<IPython.core.display.Markdown object>"
      ]
     },
     "metadata": {},
     "output_type": "display_data"
    },
    {
     "data": {
      "text/markdown": [
       "***Percentage of nulls in the entire dataframe:*** 1.08% of records"
      ],
      "text/plain": [
       "<IPython.core.display.Markdown object>"
      ]
     },
     "metadata": {},
     "output_type": "display_data"
    }
   ],
   "source": [
    "def printmd(string): # function to format text style\n",
    "    display(Markdown(string))\n",
    "printmd('***Number of records with nulls in all 3 columns:*** {:,} records'\n",
    "     .format(df['calculatedfinishedsquarefeet'].isna().sum()  & df['yearbuilt'].isna().sum() & df['lotsizesquarefeet'].isna().sum()))\n",
    "# shows how many records with nulls have null values in all 3 columns where nulls are present\n",
    "printmd('***Percentage of nulls in the entire dataframe:*** {:,.2%} of records'\n",
    "     .format(df.isna().sum().sum() / len(df)))\n",
    "# shows how many records with nulls have null values in all 3 columns where nulls are present"
   ]
  },
  {
   "cell_type": "markdown",
   "id": "18f0e36c",
   "metadata": {},
   "source": [
    "##### Decision to drop null values:\n",
    "\n",
    "Because the dataframe only has 1% of records with null values, dropping these records in the data preparation stage will not impact data integrity."
   ]
  },
  {
   "cell_type": "code",
   "execution_count": 7,
   "id": "38b44dec",
   "metadata": {},
   "outputs": [],
   "source": [
    "df = wrangle.wrangle_zillow(df)\n",
    "# this pre-defined user function cleans and prepares as well as reducing the number of outliers in features.\n",
    "\n",
    "df = wrangle.wrangle_locs(df)\n",
    "# this pre-defined user function reformats the latitude and longitude data in correct form."
   ]
  },
  {
   "cell_type": "code",
   "execution_count": null,
   "id": "351a5bb6",
   "metadata": {},
   "outputs": [],
   "source": [
    "import geocoder\n",
    "def geo_rev(df):\n",
    "    g = geocoder.osm([df.latitude, df.longitude], method='reverse').json\n",
    "    if g:\n",
    "        return g.get('postal')\n",
    "    else:\n",
    "        return 'no postal'\n",
    "\n",
    "df['zip_code'] = df[['latitude', 'longitude']].apply(geo_rev, axis=1)"
   ]
  },
  {
   "cell_type": "code",
   "execution_count": null,
   "id": "9b1ea20b",
   "metadata": {},
   "outputs": [],
   "source": [
    "df.zip_code"
   ]
  },
  {
   "cell_type": "markdown",
   "id": "4086c889",
   "metadata": {},
   "source": [
    "#### Univariate Exploration\n",
    "\n",
    "- Explore and visualize the data independently \n",
    "- The goal of this step is to get to know the data well"
   ]
  },
  {
   "cell_type": "code",
   "execution_count": 12,
   "id": "88ad5e43",
   "metadata": {},
   "outputs": [
    {
     "name": "stdout",
     "output_type": "stream",
     "text": [
      "\n"
     ]
    },
    {
     "data": {
      "text/markdown": [
       "**Zillow Data (Min, Max, Average)**"
      ],
      "text/plain": [
       "<IPython.core.display.Markdown object>"
      ]
     },
     "metadata": {},
     "output_type": "display_data"
    },
    {
     "name": "stdout",
     "output_type": "stream",
     "text": [
      "--------------------------------\n"
     ]
    },
    {
     "data": {
      "text/markdown": [
       "**Tax Assessed Value of Home**"
      ],
      "text/plain": [
       "<IPython.core.display.Markdown object>"
      ]
     },
     "metadata": {},
     "output_type": "display_data"
    },
    {
     "data": {
      "text/markdown": [
       "*Maximum Tax Assessed Value: 8,946,027*"
      ],
      "text/plain": [
       "<IPython.core.display.Markdown object>"
      ]
     },
     "metadata": {},
     "output_type": "display_data"
    },
    {
     "data": {
      "text/markdown": [
       "*Minimum Tax Assessed Value: 40,017*"
      ],
      "text/plain": [
       "<IPython.core.display.Markdown object>"
      ]
     },
     "metadata": {},
     "output_type": "display_data"
    },
    {
     "data": {
      "text/markdown": [
       "*Average Tax Assessed Value: 517,114*"
      ],
      "text/plain": [
       "<IPython.core.display.Markdown object>"
      ]
     },
     "metadata": {},
     "output_type": "display_data"
    },
    {
     "name": "stdout",
     "output_type": "stream",
     "text": [
      "--------------------------------\n"
     ]
    },
    {
     "data": {
      "text/markdown": [
       "**Home Size in Square Feet**"
      ],
      "text/plain": [
       "<IPython.core.display.Markdown object>"
      ]
     },
     "metadata": {},
     "output_type": "display_data"
    },
    {
     "data": {
      "text/markdown": [
       "*Maximum Home Size: 12,616 square feet*"
      ],
      "text/plain": [
       "<IPython.core.display.Markdown object>"
      ]
     },
     "metadata": {},
     "output_type": "display_data"
    },
    {
     "data": {
      "text/markdown": [
       "*Minimum Home Size: 501 square feet*"
      ],
      "text/plain": [
       "<IPython.core.display.Markdown object>"
      ]
     },
     "metadata": {},
     "output_type": "display_data"
    },
    {
     "data": {
      "text/markdown": [
       "*Average Home Size: 1,918 square feet*"
      ],
      "text/plain": [
       "<IPython.core.display.Markdown object>"
      ]
     },
     "metadata": {},
     "output_type": "display_data"
    },
    {
     "name": "stdout",
     "output_type": "stream",
     "text": [
      "--------------------------------\n"
     ]
    },
    {
     "data": {
      "text/markdown": [
       "**Lot Size in Square Feet**"
      ],
      "text/plain": [
       "<IPython.core.display.Markdown object>"
      ]
     },
     "metadata": {},
     "output_type": "display_data"
    },
    {
     "data": {
      "text/markdown": [
       "*Maximum Lot Size: 6,971,010 square feet*"
      ],
      "text/plain": [
       "<IPython.core.display.Markdown object>"
      ]
     },
     "metadata": {},
     "output_type": "display_data"
    },
    {
     "data": {
      "text/markdown": [
       "*Minimum Lot Size: 540 square feet*"
      ],
      "text/plain": [
       "<IPython.core.display.Markdown object>"
      ]
     },
     "metadata": {},
     "output_type": "display_data"
    },
    {
     "data": {
      "text/markdown": [
       "*Average Lot Size: 11,207 square feet*"
      ],
      "text/plain": [
       "<IPython.core.display.Markdown object>"
      ]
     },
     "metadata": {},
     "output_type": "display_data"
    }
   ],
   "source": [
    "zillow_summary = prepare.zillow_summary(df)\n",
    "# this pre-defined user function calculates the minimum, maximum, and average value of selected features."
   ]
  },
  {
   "cell_type": "code",
   "execution_count": 13,
   "id": "dd54fd0d",
   "metadata": {},
   "outputs": [
    {
     "data": {
      "image/png": "[encoded data removed]",
      "text/plain": [
       "<Figure size 864x720 with 2 Axes>"
      ]
     },
     "metadata": {
      "needs_background": "light"
     },
     "output_type": "display_data"
    }
   ],
   "source": [
    "bedbath_counts = ['bedrooms','bathrooms']\n",
    "\n",
    "fig, axes = plt.subplots(nrows=2, ncols=1, figsize = (12, 10))\n",
    "\n",
    "for i, item in enumerate(bedbath_counts):\n",
    "        ax = df[item].value_counts().plot(kind = 'bar', color = [\"cornflowerblue\", \"goldenrod\", \"indianred\", \"mediumseagreen\"], ax=axes[i],rot = 0)\n",
    "    \n",
    "        ax.set_title(item)\n",
    "        \n",
    "# Displays a graphical representation of number of properties with x number of bedrooms and bathrooms"
   ]
  },
  {
   "cell_type": "markdown",
   "id": "a7acbbd9",
   "metadata": {},
   "source": [
    "#### Bedroom & Bathroom Counts summary:\n",
    "\n",
    "Properties having 3 bedrooms and 2 bathrooms is most common, whereas having more than 5 bedrooms and/or bathrooms is least common."
   ]
  },
  {
   "cell_type": "code",
   "execution_count": 15,
   "id": "c14b0dfc",
   "metadata": {},
   "outputs": [
    {
     "data": {
      "text/plain": [
       "Text(0.5, 1.0, 'Year Built Distribution')"
      ]
     },
     "execution_count": 15,
     "metadata": {},
     "output_type": "execute_result"
    },
    {
     "data": {
      "image/png": "[encoded data removed]",
      "text/plain": [
       "<Figure size 720x288 with 1 Axes>"
      ]
     },
     "metadata": {
      "needs_background": "light"
     },
     "output_type": "display_data"
    }
   ],
   "source": [
    "plt.figure(figsize=(10, 4))\n",
    "df.year_built.plot.hist(by= df, bins=20, color = \"cornflowerblue\", ec= \"black\")\n",
    "plt.title('Year Built Distribution')"
   ]
  },
  {
   "cell_type": "markdown",
   "id": "41ec1dcc",
   "metadata": {},
   "source": [
    "#### Year Built Distribution summary:\n",
    "\n",
    "- Properties built in the 1950s, 1960s, and 1970 are most frequent. \n",
    "- A very small percentage of homes were built before 1900."
   ]
  },
  {
   "cell_type": "markdown",
   "id": "80c647a0",
   "metadata": {},
   "source": [
    "#### Exploratory Data Analysis & Statistical Testing\n",
    "\n",
    "- Create hypotheses regarding drivers of tax assessed property values.\n",
    "- Split data into 3 subsets for proper statistical analysis and modeling.\n",
    "- Create hypotheses relating to customer churn.\n",
    "- Visualize bivariate and/or multivariate data and assess hypotheses using statistical tests."
   ]
  },
  {
   "cell_type": "markdown",
   "id": "121fb7e6",
   "metadata": {},
   "source": [
    "#### Hypotheses & Exploration Plan:\n",
    "\n",
    "> #1.)  Location - Based on basic domain knowledge, I believe location plays a large role in determining tax assessed property value. While the county may be a driver of the target(tax assessed property value), I'd like to dive deeper by narrowing in on location even further. Location determines other unknown attributes (such as proximity to the ocean, school district, etc.) which could greatly impact tax assessed value. Zip codes in the original data are incorrect and do not align with properties in California. Therefore, I will use latitude and longitude coordinates to explore the notion that location may drive the target variable.\n",
    "\n",
    "> #2.) Square Footage - I hypothesize that home size and potentially lot size are related to tax assessed property value. Logically, I would anticipate larger home having a higher tax assessed value. I'm not sure whether or not the lot size will good predictor of the target as smaller homes may be on a lot of land and vice versa, yet it's possible that lot size and the target are correlated the majority of the time. I will explore these notions through graphical and statistical anaylsis.\n",
    "\n",
    "> #3.) Rooms Counts - I believe that as the number of bedrooms and bathroom increases, the tax assessed property value increases. However, there is not much variance in these features and an overwhelming majority of properties have the same number of bedrooms and/or bathrooms. Because of this, I hypothesize that bedroom and bathroom counts will not be the top drivers of the target. Because my basic domain knowledge tells me that room counts likely impact value, I will explore these potential relationships.\n",
    "\n",
    "> #4.) Year Built - My intuition tells me that more modern homes may have enhanced attributes which could mean that year built may be positively correlated to the target. However, my research shows that \"historic homes\" only need to be 50 years old (or more) and historic homes may be valued higher. I am unsure if (and how many) homes in this dataset are classified as \"historic\" and whether or not such homes would be considered outliers. I hypothesis that the majority of home ages are coorelated with the target as such older homes would have lower tax assessed values. I will explore this notion and keep an eye out for outliers."
   ]
  },
  {
   "cell_type": "markdown",
   "id": "8464cb4c",
   "metadata": {},
   "source": [
    "#### Splitting Data"
   ]
  },
  {
   "cell_type": "markdown",
   "id": "2f45090e",
   "metadata": {},
   "source": [
    "Splitting data into 3 subsets (train, validate, test) for proper statistical anaylsis, exploration, modeling, and assessment. \n",
    "- Train: explore features and relationships to target variable, statisitcal analysis, build models \n",
    "- Validate: evaluate model performace compared to the train dataset, Assess potential overfitting\n",
    "- Test: run only the chosen top performing to ensure model performs as expected on unseen data before employing"
   ]
  },
  {
   "cell_type": "code",
   "execution_count": 17,
   "id": "bfa12f15",
   "metadata": {},
   "outputs": [
    {
     "name": "stdout",
     "output_type": "stream",
     "text": [
      "\n"
     ]
    },
    {
     "data": {
      "text/markdown": [
       "**Number of Train Records:** 28,586"
      ],
      "text/plain": [
       "<IPython.core.display.Markdown object>"
      ]
     },
     "metadata": {},
     "output_type": "display_data"
    },
    {
     "data": {
      "text/markdown": [
       "**Number of Validate Records:** 12,252"
      ],
      "text/plain": [
       "<IPython.core.display.Markdown object>"
      ]
     },
     "metadata": {},
     "output_type": "display_data"
    },
    {
     "data": {
      "text/markdown": [
       "**Number of Test Records:** 10,210"
      ],
      "text/plain": [
       "<IPython.core.display.Markdown object>"
      ]
     },
     "metadata": {},
     "output_type": "display_data"
    }
   ],
   "source": [
    "train, test = train_test_split(df, test_size=.2, random_state=123)\n",
    "train, validate = train_test_split(train, test_size=.3, random_state=123)\n",
    "\n",
    "def printmd(string): # function to format text style\n",
    "    display(Markdown(string))\n",
    "print()\n",
    "printmd('**Number of Train Records:** {:,}'\n",
    "     .format(len(train)))\n",
    "printmd('**Number of Validate Records:** {:,}'\n",
    "     .format(len(validate)))\n",
    "printmd('**Number of Test Records:** {:,}'\n",
    "     .format(len(test)))\n",
    "\n",
    "# Splits data into 3 subsets: train, validate, test. "
   ]
  },
  {
   "cell_type": "code",
   "execution_count": 18,
   "id": "59579145",
   "metadata": {},
   "outputs": [
    {
     "data": {
      "text/plain": [
       "<AxesSubplot:title={'center':'Feature Correlation (contiuous variables) of to Tax Assessed Value'}>"
      ]
     },
     "execution_count": 18,
     "metadata": {},
     "output_type": "execute_result"
    },
    {
     "data": {
      "image/png": "[encoded data removed]",
      "text/plain": [
       "<Figure size 720x288 with 1 Axes>"
      ]
     },
     "metadata": {
      "needs_background": "light"
     },
     "output_type": "display_data"
    }
   ],
   "source": [
    "plt.figure(figsize=(10, 4))\n",
    "plt.title(\"Feature Correlation (contiuous variables) of to Tax Assessed Value\")\n",
    "corr_chart = train.drop(['tax_value', 'fips', 'Unnamed: 0', 'parcelid', 'longitude', 'latitude'], axis=1).corrwith(train['tax_value']).sort_values().plot.barh()\n",
    "corr_chart\n",
    "\n",
    "# graphs the correlation strength of features to the target variable"
   ]
  },
  {
   "cell_type": "markdown",
   "id": "151ad4fc",
   "metadata": {},
   "source": [
    "#### Feature Correlation graph summary:\n",
    "   - The home size appears to be a strong driver of the target whereas the lot size appears to have essentially no correlation. Therefore, I will move forward with evaluating the relationship of home square footage to tax assessed value. \n",
    "   - Bathroom count seems to be more valuable in predicting the tax assessed value than bedroom count. \n",
    "   - The year built correlation does not look as strong as the others, but may potentially be useful"
   ]
  },
  {
   "cell_type": "markdown",
   "id": "a9599b16",
   "metadata": {},
   "source": [
    "#### Square Footage and Tax Assessed Value Exploration"
   ]
  },
  {
   "cell_type": "code",
   "execution_count": 19,
   "id": "a6c45245",
   "metadata": {},
   "outputs": [
    {
     "data": {
      "text/plain": [
       "Text(0.5, 1.0, 'Square Footage Correlation (Grouped by County) to Tax Assessed Value')"
      ]
     },
     "execution_count": 19,
     "metadata": {},
     "output_type": "execute_result"
    },
    {
     "data": {
      "image/png": "[encoded data removed]",
      "text/plain": [
       "<Figure size 720.775x396 with 1 Axes>"
      ]
     },
     "metadata": {
      "needs_background": "light"
     },
     "output_type": "display_data"
    }
   ],
   "source": [
    "sns.set_palette('Set2', 20)\n",
    "sns.lmplot(x='square_feet', y='tax_value', data=train, scatter=True, hue='county', col=None, height=5.5, aspect=8.7/5.5)\n",
    "plt.title(\"Square Footage Correlation (Grouped by County) to Tax Assessed Value\")\n",
    "\n",
    "# plots the correlation of the two variables on a scatter plot with a linear regression line, hue is added to show this relationship by each county"
   ]
  },
  {
   "cell_type": "markdown",
   "id": "5231fbb7",
   "metadata": {},
   "source": [
    "#### Square Footage Coorelation (Grouped by County) Graph Summary: \n",
    "\n",
    "Interestingly, square footage for properties in Venura County seems to be strongly correlated  with tax assessed value. The other two counties show a weaker correlation so I will run a statistical analysis on each county separately to assess this correlation."
   ]
  },
  {
   "cell_type": "markdown",
   "id": "f5783fdc",
   "metadata": {},
   "source": [
    "#### Statisical Assessment\n",
    "\n",
    "- Pearson r test to determine the potential correlation of square footage and tax assessed value by county\n",
    "\n",
    "#### Setting Alpha \n",
    "\n",
    "- Alpha is set to an industry standard of .05 which will be the threshold in determine statistical significance  "
   ]
  },
  {
   "cell_type": "markdown",
   "id": "6f2ebcbb",
   "metadata": {},
   "source": [
    "$H_0$: There is no linear correlation between between square footage of ventura homes and tax assessed value\n",
    "\n",
    "$H_a$ : There is a linear correlation between between square footage of ventura homes and tax assessed value"
   ]
  },
  {
   "cell_type": "code",
   "execution_count": 20,
   "id": "dfa4a710",
   "metadata": {},
   "outputs": [
    {
     "name": "stdout",
     "output_type": "stream",
     "text": [
      "We reject the null hypothesis\n"
     ]
    }
   ],
   "source": [
    "alpha = .05\n",
    "\n",
    "ventura = pd.DataFrame(train[train.county=='ventura'])\n",
    "\n",
    "xv = ventura.square_feet\n",
    "yv = ventura.tax_value\n",
    "\n",
    "corrv, pv = stats.pearsonr(xv, yv)\n",
    "\n",
    "if pv > alpha:\n",
    "    print(\"We fail to reject the null hypothesis\")\n",
    "elif corrv < .5:\n",
    "    print(\"We fail to reject the null hypothesis\")\n",
    "else:\n",
    "    print(\"We reject the null hypothesis\")\n",
    "\n",
    "#pearsonr test that returns correlation strength (r value) and p value (must be less than alpha to reject the null hypothesis)"
   ]
  },
  {
   "cell_type": "markdown",
   "id": "9da6e9e5",
   "metadata": {},
   "source": [
    "$H_0$: There is no linear correlation between between square footage of los angeles homes and tax assessed value\n",
    "\n",
    "$H_a$ : There is a linear correlation between between square footage of los angeles homes and tax assessed value"
   ]
  },
  {
   "cell_type": "code",
   "execution_count": 21,
   "id": "031abd48",
   "metadata": {},
   "outputs": [
    {
     "name": "stdout",
     "output_type": "stream",
     "text": [
      "We reject the null hypothesis\n"
     ]
    }
   ],
   "source": [
    "la = pd.DataFrame(train[train.county=='los_angeles'])\n",
    "\n",
    "xl = la.square_feet\n",
    "yl = la.tax_value\n",
    "\n",
    "corrl, pl = stats.pearsonr(xl, yl)\n",
    "\n",
    "if pl > alpha:\n",
    "    print(\"We fail to reject the null hypothesis\")\n",
    "elif corrl < .5:\n",
    "    print(\"We fail to reject the null hypothesis\")\n",
    "else:\n",
    "    print(\"We reject the null hypothesis\")\n",
    "\n",
    "#pearsonr test that returns correlation strength (r value) and p value (must be less than alpha to reject the null hypothesis)"
   ]
  },
  {
   "cell_type": "markdown",
   "id": "b36c8ce0",
   "metadata": {},
   "source": [
    "$H_0$: There is no linear correlation between between square footage of orange co homes and tax assessed value\n",
    "\n",
    "$H_a$ : There is a linear correlation between between square footage of orange co homes and tax assessed value"
   ]
  },
  {
   "cell_type": "code",
   "execution_count": 22,
   "id": "b66fec72",
   "metadata": {},
   "outputs": [
    {
     "name": "stdout",
     "output_type": "stream",
     "text": [
      "We reject the null hypothesis\n"
     ]
    }
   ],
   "source": [
    "orange = pd.DataFrame(train[train.county=='orange'])\n",
    "\n",
    "xo = orange.square_feet\n",
    "yo = orange.tax_value\n",
    "\n",
    "corro, po = stats.pearsonr(xo, yo)\n",
    "\n",
    "if po > alpha:\n",
    "    print(\"We fail to reject the null hypothesis\")\n",
    "elif corro < .5:\n",
    "    print(\"We fail to reject the null hypothesis\")\n",
    "else:\n",
    "    print(\"We reject the null hypothesis\")\n",
    "\n",
    "#pearsonr test that returns correlation strength (r value) and p value (must be less than alpha to reject the null hypothesis)"
   ]
  },
  {
   "cell_type": "markdown",
   "id": "2e073d16",
   "metadata": {},
   "source": [
    "$H_0$: There is no linear correlation between between square footage of homes in all 3 counties and tax assessed value\n",
    "\n",
    "$H_a$ : There is a linear correlation between between square footage of homes in all 3 counties and tax assessed value"
   ]
  },
  {
   "cell_type": "code",
   "execution_count": 23,
   "id": "c5253971",
   "metadata": {},
   "outputs": [
    {
     "name": "stdout",
     "output_type": "stream",
     "text": [
      "We reject the null hypothesis\n"
     ]
    }
   ],
   "source": [
    "x = train.square_feet\n",
    "y = train.tax_value\n",
    "\n",
    "corr, p = stats.pearsonr(x, y)\n",
    "\n",
    "if p > alpha:\n",
    "    print(\"We fail to reject the null hypothesis\")\n",
    "elif corr < .5:\n",
    "    print(\"We fail to reject the null hypothesis\")\n",
    "else:\n",
    "    print(\"We reject the null hypothesis\")\n",
    "    \n",
    "#pearsonr test that returns correlation strength (r value) and p value (must be less than alpha to reject the null hypothesis)"
   ]
  },
  {
   "cell_type": "code",
   "execution_count": 24,
   "id": "0d3ac925",
   "metadata": {},
   "outputs": [
    {
     "data": {
      "text/markdown": [
       "**Correlation between Ventura Home Size and Tax Assessed Value:** "
      ],
      "text/plain": [
       "<IPython.core.display.Markdown object>"
      ]
     },
     "metadata": {},
     "output_type": "display_data"
    },
    {
     "name": "stdout",
     "output_type": "stream",
     "text": [
      " r = 0.755\n",
      "\n"
     ]
    },
    {
     "data": {
      "text/markdown": [
       "**Correlation between LA Home Size and Tax Assessed Value:**"
      ],
      "text/plain": [
       "<IPython.core.display.Markdown object>"
      ]
     },
     "metadata": {},
     "output_type": "display_data"
    },
    {
     "name": "stdout",
     "output_type": "stream",
     "text": [
      " r = 0.573\n",
      "\n"
     ]
    },
    {
     "data": {
      "text/markdown": [
       "**Correlation between Orange Co Home Size and Tax Assessed Value:** "
      ],
      "text/plain": [
       "<IPython.core.display.Markdown object>"
      ]
     },
     "metadata": {},
     "output_type": "display_data"
    },
    {
     "name": "stdout",
     "output_type": "stream",
     "text": [
      " r = 0.669\n",
      "\n"
     ]
    },
    {
     "data": {
      "text/markdown": [
       "**Correlation between All 3 County Home Size and Tax Assessed Value:** "
      ],
      "text/plain": [
       "<IPython.core.display.Markdown object>"
      ]
     },
     "metadata": {},
     "output_type": "display_data"
    },
    {
     "name": "stdout",
     "output_type": "stream",
     "text": [
      " r = 0.614\n"
     ]
    }
   ],
   "source": [
    "printmd('**Correlation between Ventura Home Size and Tax Assessed Value:** ')\n",
    "print(f' r = {corrv:.3f}') \n",
    "print()\n",
    "printmd('**Correlation between LA Home Size and Tax Assessed Value:**')\n",
    "print(f' r = {corrl:.3f}')\n",
    "print()\n",
    "printmd('**Correlation between Orange Co Home Size and Tax Assessed Value:** ')\n",
    "print(f' r = {corro:.3f}')\n",
    "print()\n",
    "printmd('**Correlation between All 3 County Home Size and Tax Assessed Value:** ')\n",
    "print(f' r = {corr:.3f}')\n",
    "\n",
    "# prints out the r values of the pearsonr tests which shows the strength of the correlation "
   ]
  },
  {
   "cell_type": "markdown",
   "id": "a4f08a31",
   "metadata": {},
   "source": [
    "#### Takeaways from Pearsons r tests on square footage by county: \n",
    "\n",
    "The correlation strength of the home size and tax assessed value is definitely different based on county. Since home size is the strongest feature correlationThis is important as it make be beneficial to build separate models for each county to maximize this valuable correlation where possible. "
   ]
  },
  {
   "cell_type": "markdown",
   "id": "4c13ed50",
   "metadata": {},
   "source": [
    "#### Bedrooms, Bathrooms and Tax Assessed Value Exploration"
   ]
  },
  {
   "cell_type": "code",
   "execution_count": 25,
   "id": "6667128b",
   "metadata": {},
   "outputs": [
    {
     "data": {
      "text/plain": [
       "Text(0.5, 1.0, 'Number of Bathrooms and Tax Assessed Value')"
      ]
     },
     "execution_count": 25,
     "metadata": {},
     "output_type": "execute_result"
    },
    {
     "data": {
      "text/plain": [
       "<Figure size 1008x360 with 0 Axes>"
      ]
     },
     "metadata": {},
     "output_type": "display_data"
    },
    {
     "data": {
      "image/png": "[encoded data removed]",
      "text/plain": [
       "<Figure size 1080x360 with 2 Axes>"
      ]
     },
     "metadata": {
      "needs_background": "light"
     },
     "output_type": "display_data"
    }
   ],
   "source": [
    "plt.figure(figsize=(14, 5))\n",
    "sns.set_palette('Set2', 20)\n",
    "#sets size and color palette for the grapgh\n",
    "\n",
    "fig, axes = plt.subplots(1, 2, figsize=(15, 5), sharey=False)\n",
    "#creates subplots that share a y axis\n",
    "\n",
    "sns.barplot(ax=axes[0], x=train.bedrooms, y=train.tax_value)\n",
    "axes[0].set_title('Number of Bedrooms and Tax Assessed Value')\n",
    "#creates first subplot\n",
    "\n",
    "sns.barplot(ax=axes[1], x=train.bathrooms, y=train.tax_value)\n",
    "axes[1].set_title('Number of Bathrooms and Tax Assessed Value')\n",
    "#creates second subplot"
   ]
  },
  {
   "cell_type": "markdown",
   "id": "84336c77",
   "metadata": {},
   "source": [
    "#### Takeaways from Visualizations of Room Counts and Target Relationships: \n",
    "\n",
    "- Both bedroom count and bathroom count show a linear relationship with tax assessed value.\n",
    "- However, the majority of homes fall between having 2-4 bedrooms and 1-3 bathrooms\n",
    "- The linear relationship of room counts with the majorty of homes is much weaker than that of home's having greater than 4 bedrooms and/or bathrooms.\n",
    "- These relationships may still be valuable for modeling, but will not be the strongest predictors."
   ]
  },
  {
   "cell_type": "code",
   "execution_count": 26,
   "id": "b07a0265",
   "metadata": {},
   "outputs": [
    {
     "data": {
      "text/plain": [
       "Text(0.5, 1.0, 'Year Built Correlation (Grouped by County) to Tax Assessed Value')"
      ]
     },
     "execution_count": 26,
     "metadata": {},
     "output_type": "execute_result"
    },
    {
     "data": {
      "image/png": "[encoded data removed]",
      "text/plain": [
       "<Figure size 720.775x396 with 1 Axes>"
      ]
     },
     "metadata": {
      "needs_background": "light"
     },
     "output_type": "display_data"
    }
   ],
   "source": [
    "sns.lmplot(x='year_built', y='tax_value', data=train, scatter=True, hue='county', col=None, height=5.5, aspect=8.7/5.5)\n",
    "plt.title(\"Year Built Correlation (Grouped by County) to Tax Assessed Value\")\n",
    "\n",
    "# plots the correlation of the two variables on a scatter plot with a linear regression line, hue is added to show this relationship by each county"
   ]
  },
  {
   "cell_type": "markdown",
   "id": "8de55d2e",
   "metadata": {},
   "source": [
    "#### Year Built Correlation (Grouped by County) Graph Summary: \n",
    "\n",
    "Similarly to other features, year built for properties in Venura County have a stronger correlation tax assessed value than the other counties. Year built for properties in Orange county appear to have some linear correlation whereas year built for properies in LA county have a very weak correlation. This further emphasizes the rationale for building models based on counties seperately."
   ]
  },
  {
   "cell_type": "markdown",
   "id": "2116f31b",
   "metadata": {},
   "source": [
    "#### Pre-Modeling"
   ]
  },
  {
   "cell_type": "markdown",
   "id": "8a03e276",
   "metadata": {},
   "source": [
    "train_ventura = pd.DataFrame(train[train.county=='ventura'])\n",
    "train_orange = pd.DataFrame(train[train.county=='orange'])\n",
    "train_la = pd.DataFrame(train[train.county=='los_angeles'])\n",
    "\n",
    "validate_ventura = pd.DataFrame(validate[validate.county=='ventura'])\n",
    "validate_orange = pd.DataFrame(validate[validate.county=='orange'])\n",
    "validate_la = pd.DataFrame(validate[validate.county=='los_angeles'])\n",
    "\n",
    "test_ventura = pd.DataFrame(test[test.county=='ventura'])\n",
    "test_orange = pd.DataFrame(test[test.county=='orange'])\n",
    "test_la = pd.DataFrame(test[test.county=='los_angeles'])"
   ]
  },
  {
   "cell_type": "markdown",
   "id": "a338a787",
   "metadata": {},
   "source": [
    "train_ventura.shape"
   ]
  },
  {
   "cell_type": "markdown",
   "id": "ae117ff1",
   "metadata": {},
   "source": [
    "X_train_ventura = train_ventura.drop(columns=['Unnamed: 0', 'parcelid', 'tax_value', 'fips', 'year_built', 'latitude', 'longitude', 'county'])\n",
    "X_train_orange = train_orange.drop(columns=['Unnamed: 0', 'parcelid', 'tax_value', 'fips', 'year_built', 'latitude', 'longitude', 'county'])\n",
    "X_train_la = train_la.drop(columns=['Unnamed: 0', 'parcelid', 'tax_value', 'fips', 'year_built', 'latitude', 'longitude', 'county'])\n",
    "\n",
    "y_train_ventura = train_ventura[['tax_value']]\n",
    "y_train_orange = train_orange.tax_value\n",
    "y_train_la = train_la.tax_value\n",
    "\n",
    "X_validate_ventura = validate_ventura.drop(columns=['Unnamed: 0', 'parcelid', 'tax_value', 'fips', 'year_built', 'latitude', 'longitude', 'county'])\n",
    "X_validate_orange = validate_orange.drop(columns=['Unnamed: 0', 'parcelid', 'tax_value', 'fips', 'year_built', 'latitude', 'longitude', 'county'])\n",
    "X_validate_la = validate_la.drop(columns=['Unnamed: 0', 'parcelid', 'tax_value', 'fips', 'year_built', 'latitude', 'longitude', 'county'])\n",
    "\n",
    "y_validate_ventura = validate_ventura.tax_value\n",
    "y_validate_orange = validate_orange.tax_value\n",
    "y_validate_la = validate_la.tax_value\n",
    "\n",
    "X_test_ventura = test_ventura.drop(columns=['Unnamed: 0', 'parcelid', 'tax_value', 'fips', 'year_built', 'latitude', 'longitude', 'county'])\n",
    "X_test_orange = test_orange.drop(columns=['Unnamed: 0', 'parcelid', 'tax_value', 'fips', 'year_built', 'latitude', 'longitude', 'county'])\n",
    "X_test_la = test_la.drop(columns=['Unnamed: 0', 'parcelid', 'tax_value', 'fips', 'year_built', 'latitude', 'longitude', 'county'])\n",
    "\n",
    "y_test_ventura = test_ventura.tax_value\n",
    "y_test_orange = test_orange.tax_value\n",
    "y_test_la = test_la.tax_value"
   ]
  },
  {
   "cell_type": "code",
   "execution_count": null,
   "id": "d66930c0",
   "metadata": {},
   "outputs": [],
   "source": [
    "from sklearn.cluster import KMeans\n",
    "coords = train[['latitude', 'longitude']].to_numpy()\n",
    "kmeans = KMeans(\n",
    "    init=\"random\",\n",
    "    n_clusters=110)\n",
    "label = kmeans.fit_predict(coords)\n",
    "\n",
    "coords_v = validate[['latitude', 'longitude']].to_numpy()\n",
    "coords_t = test[['latitude', 'longitude']].to_numpy()\n",
    "\n",
    "label_v = kmeans.fit_predict(coords_v)\n",
    "label_t = kmeans.fit_predict(coords_t)"
   ]
  },
  {
   "cell_type": "code",
   "execution_count": null,
   "id": "036cfe0b",
   "metadata": {},
   "outputs": [],
   "source": [
    "train['KM_label'] = pd.Series(label, index=train.index)\n",
    "validate['KM_label'] = pd.Series(label_v, index=validate.index)\n",
    "test['KM_label'] = pd.Series(label_t, index=test.index)"
   ]
  },
  {
   "cell_type": "code",
   "execution_count": null,
   "id": "2d6794d5",
   "metadata": {},
   "outputs": [],
   "source": [
    "dummy = pd.get_dummies(train['KM_label'])\n",
    "train = pd.concat([dummy, train], axis=1)\n",
    "\n",
    "dummy_v = pd.get_dummies(validate['KM_label'])\n",
    "validate = pd.concat([dummy_v, validate], axis=1)\n",
    "\n",
    "dummy_t = pd.get_dummies(test['KM_label'])\n",
    "test = pd.concat([dummy_t, test], axis=1)"
   ]
  },
  {
   "cell_type": "code",
   "execution_count": null,
   "id": "120c577b",
   "metadata": {},
   "outputs": [],
   "source": [
    "train.shape"
   ]
  },
  {
   "cell_type": "code",
   "execution_count": null,
   "id": "057f9fc9",
   "metadata": {},
   "outputs": [],
   "source": [
    "X_train = train.drop(columns=['Unnamed: 0', 'KM_label', 'parcelid', 'tax_value', 'fips', 'year_built', 'latitude', 'longitude', 'county'])\n",
    "y_train = train[['tax_value']]\n",
    "\n",
    "X_validate = validate.drop(columns=['Unnamed: 0', 'KM_label', 'parcelid', 'tax_value', 'fips', 'year_built', 'latitude', 'longitude', 'county'])\n",
    "y_validate = validate[['tax_value']]\n",
    "\n",
    "X_test = test.drop(columns=['Unnamed: 0', 'KM_label', 'parcelid', 'tax_value', 'fips', 'year_built', 'latitude', 'longitude', 'county'])\n",
    "y_test = test[['tax_value']]"
   ]
  },
  {
   "cell_type": "code",
   "execution_count": null,
   "id": "e8598a59",
   "metadata": {},
   "outputs": [],
   "source": [
    "import sklearn.preprocessing\n",
    "from sklearn.model_selection import train_test_split"
   ]
  },
  {
   "cell_type": "markdown",
   "id": "ac8b6c08",
   "metadata": {},
   "source": [
    "scaler = sklearn.preprocessing.MinMaxScaler()\n",
    "scaler.fit(X_train_ventura)\n",
    "scaled_Xtrain_ventura = pd.DataFrame(data=scaler.transform(X_train_ventura))\n",
    "\n",
    "scaler.fit(X_train_orange)\n",
    "scaled_Xtrain_orange = pd.DataFrame(data=scaler.transform(X_train_orange))\n",
    "\n",
    "scaler.fit(X_train_la)\n",
    "scaled_Xtrain_la = pd.DataFrame(data=scaler.transform(X_train_la))\n",
    "\n",
    "scaled_Xvalidate_ventura= pd.DataFrame(data=scaler.transform(X_validate_ventura))\n",
    "scaled_Xvalidate_orage= pd.DataFrame(data=scaler.transform(X_validate_orange))\n",
    "scaled_Xvalidate_la= pd.DataFrame(data=scaler.transform(X_validate_la))\n",
    "\n",
    "scaled_Xtest_ventura= pd.DataFrame(data=scaler.transform(X_test_ventura))\n",
    "scaled_Xtest_orage= pd.DataFrame(data=scaler.transform(X_test_orange))\n",
    "scaled_Xtest_la= pd.DataFrame(data=scaler.transform(X_test_la))"
   ]
  },
  {
   "cell_type": "code",
   "execution_count": null,
   "id": "78737195",
   "metadata": {},
   "outputs": [],
   "source": [
    "from sklearn.metrics import mean_squared_error\n",
    "from sklearn.linear_model import LinearRegression, LassoLars, TweedieRegressor\n",
    "from sklearn.preprocessing import PolynomialFeatures\n",
    "from sklearn.impute import SimpleImputer"
   ]
  },
  {
   "cell_type": "code",
   "execution_count": null,
   "id": "d57297a1",
   "metadata": {},
   "outputs": [],
   "source": [
    "scaler = sklearn.preprocessing.MinMaxScaler()\n",
    "scaler.fit(X_train)\n",
    "scaled_X_train = pd.DataFrame(data=scaler.transform(X_train))\n",
    "\n",
    "scaled_X_validate= pd.DataFrame(data=scaler.transform(X_validate))\n",
    "scaled_X_test = pd.DataFrame(data=scaler.transform(X_test))"
   ]
  },
  {
   "cell_type": "markdown",
   "id": "6a16e078",
   "metadata": {},
   "source": [
    "# START"
   ]
  },
  {
   "cell_type": "code",
   "execution_count": null,
   "id": "86289cf1",
   "metadata": {},
   "outputs": [],
   "source": [
    "#zip_counts = newdf['zip_code'].value_counts()\n",
    "\n",
    "#newdf = newdf[~newdf['zip_code'].isin(zip_counts[zip_counts < 15].index)]"
   ]
  },
  {
   "cell_type": "code",
   "execution_count": null,
   "id": "c43c7705",
   "metadata": {},
   "outputs": [],
   "source": [
    "#dummy = pd.get_dummies(newdf['zip_code'])"
   ]
  },
  {
   "cell_type": "code",
   "execution_count": null,
   "id": "2b6cdd4b",
   "metadata": {},
   "outputs": [],
   "source": [
    "scaled_X_train"
   ]
  },
  {
   "cell_type": "markdown",
   "id": "37e9d8f3",
   "metadata": {},
   "source": [
    "#zips = zips[zips.bedrooms > 1]\n",
    "zips = zips[zips.bedrooms < 7]\n",
    "zips = zips[zips.bathrooms < 6]\n",
    "zips = zips[zips.square_feet < 4000]\n",
    "zips = zips[zips.square_feet > 500]\n",
    "year_counts = zips['year_built'].value_counts()\n",
    "zips = zips[~zips['year_built'].isin(year_counts[year_counts < 20].index)]"
   ]
  },
  {
   "cell_type": "code",
   "execution_count": null,
   "id": "588dfda3",
   "metadata": {},
   "outputs": [],
   "source": [
    "#X_train = pd.DataFrame(zips.drop(columns=['tax_value', 'year_built','Unnamed: 0', 'parcelid', 'KM_label', 'latitude', 'lot_size', 'longitude', 'fips','county']))\n",
    "#y_train = pd.DataFrame(zips['tax_value'])"
   ]
  },
  {
   "cell_type": "code",
   "execution_count": null,
   "id": "04dafc08",
   "metadata": {},
   "outputs": [],
   "source": [
    "#X_train = pd.DataFrame(zips)\n",
    "#y_train = pd.DataFrame(y_train_ventura)"
   ]
  },
  {
   "cell_type": "code",
   "execution_count": null,
   "id": "b09e0300",
   "metadata": {},
   "outputs": [],
   "source": [
    "from sklearn.metrics import mean_squared_error\n",
    "from sklearn.linear_model import LinearRegression, LassoLars, TweedieRegressor\n",
    "from sklearn.preprocessing import PolynomialFeatures"
   ]
  },
  {
   "cell_type": "code",
   "execution_count": null,
   "id": "1f1b0c05",
   "metadata": {},
   "outputs": [],
   "source": [
    "y_train['pred_mean'] = y_train.tax_value.mean()\n",
    "y_train['pred_median'] = y_train.tax_value.median()\n",
    "rmse_train = mean_squared_error(y_train.tax_value, y_train.pred_mean)**(1/2)\n",
    "#rmse_validate = mean_squared_error(y_validate.value, y_validate.pred_mean)**(1/2)\n",
    "\n",
    "print(\"RMSE using Mean\\nTrain/In-Sample: \", round(rmse_train, 2))\n",
    "rmse_train = mean_squared_error(y_train.tax_value, y_train.pred_median)**(1/2)\n",
    "#rmse_validate = mean_squared_error(y_validate.value, y_validate.pred_median)**(1/2)\n",
    "\n",
    "print(\"RMSE using Median\\nTrain/In-Sample: \", round(rmse_train, 2))"
   ]
  },
  {
   "cell_type": "code",
   "execution_count": null,
   "id": "c99ad518",
   "metadata": {},
   "outputs": [],
   "source": [
    "lm = LinearRegression(normalize=True)\n",
    "\n",
    "# fit the model to our training data. We must specify the column in y_train, \n",
    "# since we have converted it to a dataframe from a series! \n",
    "lm.fit(scaled_X_train, y_train.tax_value)\n",
    "\n",
    "# predict train\n",
    "y_train['value_predict_lm'] = lm.predict(X_train)\n",
    "\n",
    "# evaluate: rmse\n",
    "rmse_train = mean_squared_error(y_train.tax_value, y_train.tax_value_predict_lm)**(1/2)\n",
    "\n",
    "# predict validate\n",
    "#y_validate['value_predict_lm'] = lm.predict(X_validate)\n",
    "\n",
    "# evaluate: rmse\n",
    "#rmse_validate = mean_squared_error(y_validate.value, y_validate.value_predict_lm)**(1/2)\n",
    "\n",
    "print(\"RMSE for OLS using LinearRegression\\nTraining/In-Sample: \", rmse_train)\n",
    "#, \n",
    "     # \"\\nValidation/Out-of-Sample: \", rmse_validate)"
   ]
  },
  {
   "cell_type": "code",
   "execution_count": null,
   "id": "458457d0",
   "metadata": {},
   "outputs": [],
   "source": [
    "y_train"
   ]
  },
  {
   "cell_type": "code",
   "execution_count": null,
   "id": "16220438",
   "metadata": {},
   "outputs": [],
   "source": [
    "# predict train\n",
    "y_train['tax_value_predict_lm'] = lm.predict(scaled_X_train)"
   ]
  },
  {
   "cell_type": "code",
   "execution_count": null,
   "id": "8925a213",
   "metadata": {},
   "outputs": [],
   "source": [
    "# evaluate: rmse\n",
    "rmse_train = (mean_squared_error(y_train.tax_value, y_train.tax_value_predict_lm)**(1/2))\n",
    "\n",
    "# predict validate\n",
    "#y_validate['value_predict_lm'] = lm.predict(X_validate)\n",
    "\n",
    "# evaluate: rmse\n",
    "#rmse_validate = mean_squared_error(y_validate.value, y_validate.value_predict_lm)**(1/2)\n",
    "\n",
    "print(\"RMSE for OLS using LinearRegression\\nTraining/In-Sample: \", rmse_train)"
   ]
  },
  {
   "cell_type": "code",
   "execution_count": null,
   "id": "42a8c77c",
   "metadata": {},
   "outputs": [],
   "source": [
    "X_train"
   ]
  },
  {
   "cell_type": "code",
   "execution_count": null,
   "id": "5503f2df",
   "metadata": {},
   "outputs": [],
   "source": [
    "from sklearn.linear_model import LinearRegression\n",
    "\n",
    "\n",
    "# compute predictions and add to original dataframe\n",
    "scaled_X_train['yhat'] = lm.predict(scaled_X_train).round()\n",
    "\n",
    "scaled_X_train"
   ]
  },
  {
   "cell_type": "code",
   "execution_count": null,
   "id": "f5e47600",
   "metadata": {},
   "outputs": [],
   "source": [
    "from scipy import stats\n",
    "from sklearn.metrics import mean_squared_error, r2_score, explained_variance_score\n",
    "\n",
    "from sklearn.linear_model import LinearRegression\n",
    "from sklearn.feature_selection import f_regression \n",
    "from math import sqrt"
   ]
  },
  {
   "cell_type": "code",
   "execution_count": null,
   "id": "0884033c",
   "metadata": {},
   "outputs": [],
   "source": [
    "import numpy as np"
   ]
  },
  {
   "cell_type": "code",
   "execution_count": null,
   "id": "bfd3d033",
   "metadata": {},
   "outputs": [],
   "source": [
    "scaled_X_train['residual^2'] = scaled_X_train.residual ** 2\n",
    "scaled_X_train['residual_baseline^2'] = (scaled_X_train.residual_baseline ** 2['residual^2']) = scaled_X_train.residual ** 2"
   ]
  },
  {
   "cell_type": "code",
   "execution_count": null,
   "id": "fc511c94",
   "metadata": {},
   "outputs": [],
   "source": [
    "scaled_X_train['residual^2'] = scaled_X_train.residual ** 2\n",
    "scaled_X_train['residual_baseline^2'] = scaled_X_train.residual_baseline ** 2\n",
    "SSE = sum(scaled_X_train['residual^2'])\n",
    "SSE_baseline = round(sum(scaled_X_train['residual_baseline^2']))\n",
    "\n",
    "print(\"SSE = \", SSE)\n",
    "print(\"SSE - baseline = \", SSE_baseline)\n",
    "\n",
    "MSE = (SSE/len(scaled_X_train))\n",
    "MSE_baseline = SSE_baseline/len(scaled_X_train)\n",
    "\n",
    "print(\"MSE = \", MSE)\n",
    "print(\"MSE baseline = \", MSE_baseline)\n",
    "RMSE = sqrt(MSE)\n",
    "RMSE_baseline = sqrt(MSE_baseline)\n",
    "\n",
    "print(\"RMSE = \", RMSE)\n",
    "print(\"RMSE baseline = \", RMSE_baseline)"
   ]
  },
  {
   "cell_type": "code",
   "execution_count": null,
   "id": "bac0caac",
   "metadata": {},
   "outputs": [],
   "source": [
    "round(RMSE, 6)"
   ]
  },
  {
   "cell_type": "code",
   "execution_count": null,
   "id": "7377fecb",
   "metadata": {},
   "outputs": [],
   "source": [
    "import plotly.express as px"
   ]
  },
  {
   "cell_type": "code",
   "execution_count": null,
   "id": "71d7f61b",
   "metadata": {},
   "outputs": [],
   "source": [
    "df"
   ]
  },
  {
   "cell_type": "code",
   "execution_count": null,
   "id": "c5171dbd",
   "metadata": {},
   "outputs": [],
   "source": [
    "locs"
   ]
  },
  {
   "cell_type": "code",
   "execution_count": null,
   "id": "b5acfa0b",
   "metadata": {},
   "outputs": [],
   "source": [
    "df"
   ]
  }
 ],
 "metadata": {
  "kernelspec": {
   "display_name": "Python 3 (ipykernel)",
   "language": "python",
   "name": "python3"
  },
  "language_info": {
   "codemirror_mode": {
    "name": "ipython",
    "version": 3
   },
   "file_extension": ".py",
   "mimetype": "text/x-python",
   "name": "python",
   "nbconvert_exporter": "python",
   "pygments_lexer": "ipython3",
   "version": "3.9.7"
  }
 },
 "nbformat": 4,
 "nbformat_minor": 5
}
