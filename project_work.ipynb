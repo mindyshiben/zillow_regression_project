{
 "cells": [
  {
   "cell_type": "code",
   "execution_count": 1,
   "id": "bdb9ba59",
   "metadata": {},
   "outputs": [],
   "source": [
    "import warnings\n",
    "warnings.filterwarnings(\"ignore\")\n",
    "\n",
    "import pandas as pd\n",
    "import matplotlib.pyplot as plt\n",
    "import seaborn as sns\n",
    "import numpy as np\n",
    "import env\n",
    "import acquire\n",
    "import wrangle"
   ]
  },
  {
   "cell_type": "code",
   "execution_count": 2,
   "id": "43855b92",
   "metadata": {},
   "outputs": [
    {
     "ename": "ValueError",
     "evalue": "unsupported format character ''' (0x27) at index 323",
     "output_type": "error",
     "traceback": [
      "\u001b[0;31m---------------------------------------------------------------------------\u001b[0m",
      "\u001b[0;31mValueError\u001b[0m                                Traceback (most recent call last)",
      "\u001b[0;32m/var/folders/s4/hmz6ljm533vgpm_bhv59yw0m0000gn/T/ipykernel_3128/2197784178.py\u001b[0m in \u001b[0;36m<module>\u001b[0;34m\u001b[0m\n\u001b[0;32m----> 1\u001b[0;31m \u001b[0mdf\u001b[0m \u001b[0;34m=\u001b[0m \u001b[0macquire\u001b[0m\u001b[0;34m.\u001b[0m\u001b[0mget_zillow_data\u001b[0m\u001b[0;34m(\u001b[0m\u001b[0;34m)\u001b[0m\u001b[0;34m\u001b[0m\u001b[0;34m\u001b[0m\u001b[0m\n\u001b[0m",
      "\u001b[0;32m~/codeup-data-science/regression-exercises/acquire.py\u001b[0m in \u001b[0;36mget_zillow_data\u001b[0;34m()\u001b[0m\n\u001b[1;32m     19\u001b[0m         '''\n\u001b[1;32m     20\u001b[0m \u001b[0;34m\u001b[0m\u001b[0m\n\u001b[0;32m---> 21\u001b[0;31m         \u001b[0mdf\u001b[0m \u001b[0;34m=\u001b[0m \u001b[0mpd\u001b[0m\u001b[0;34m.\u001b[0m\u001b[0mread_sql\u001b[0m\u001b[0;34m(\u001b[0m\u001b[0msql\u001b[0m\u001b[0;34m,\u001b[0m \u001b[0mget_db_url\u001b[0m\u001b[0;34m(\u001b[0m\u001b[0;34m'zillow'\u001b[0m\u001b[0;34m)\u001b[0m\u001b[0;34m)\u001b[0m\u001b[0;34m\u001b[0m\u001b[0;34m\u001b[0m\u001b[0m\n\u001b[0m\u001b[1;32m     22\u001b[0m \u001b[0;34m\u001b[0m\u001b[0m\n\u001b[1;32m     23\u001b[0m         \u001b[0mdf\u001b[0m\u001b[0;34m.\u001b[0m\u001b[0mto_csv\u001b[0m\u001b[0;34m(\u001b[0m\u001b[0mfilename\u001b[0m\u001b[0;34m)\u001b[0m\u001b[0;34m\u001b[0m\u001b[0;34m\u001b[0m\u001b[0m\n",
      "\u001b[0;32m/usr/local/anaconda3/lib/python3.9/site-packages/pandas/io/sql.py\u001b[0m in \u001b[0;36mread_sql\u001b[0;34m(sql, con, index_col, coerce_float, params, parse_dates, columns, chunksize)\u001b[0m\n\u001b[1;32m    626\u001b[0m         )\n\u001b[1;32m    627\u001b[0m     \u001b[0;32melse\u001b[0m\u001b[0;34m:\u001b[0m\u001b[0;34m\u001b[0m\u001b[0;34m\u001b[0m\u001b[0m\n\u001b[0;32m--> 628\u001b[0;31m         return pandas_sql.read_query(\n\u001b[0m\u001b[1;32m    629\u001b[0m             \u001b[0msql\u001b[0m\u001b[0;34m,\u001b[0m\u001b[0;34m\u001b[0m\u001b[0;34m\u001b[0m\u001b[0m\n\u001b[1;32m    630\u001b[0m             \u001b[0mindex_col\u001b[0m\u001b[0;34m=\u001b[0m\u001b[0mindex_col\u001b[0m\u001b[0;34m,\u001b[0m\u001b[0;34m\u001b[0m\u001b[0;34m\u001b[0m\u001b[0m\n",
      "\u001b[0;32m/usr/local/anaconda3/lib/python3.9/site-packages/pandas/io/sql.py\u001b[0m in \u001b[0;36mread_query\u001b[0;34m(self, sql, index_col, coerce_float, parse_dates, params, chunksize, dtype)\u001b[0m\n\u001b[1;32m   1577\u001b[0m         \u001b[0margs\u001b[0m \u001b[0;34m=\u001b[0m \u001b[0m_convert_params\u001b[0m\u001b[0;34m(\u001b[0m\u001b[0msql\u001b[0m\u001b[0;34m,\u001b[0m \u001b[0mparams\u001b[0m\u001b[0;34m)\u001b[0m\u001b[0;34m\u001b[0m\u001b[0;34m\u001b[0m\u001b[0m\n\u001b[1;32m   1578\u001b[0m \u001b[0;34m\u001b[0m\u001b[0m\n\u001b[0;32m-> 1579\u001b[0;31m         \u001b[0mresult\u001b[0m \u001b[0;34m=\u001b[0m \u001b[0mself\u001b[0m\u001b[0;34m.\u001b[0m\u001b[0mexecute\u001b[0m\u001b[0;34m(\u001b[0m\u001b[0;34m*\u001b[0m\u001b[0margs\u001b[0m\u001b[0;34m)\u001b[0m\u001b[0;34m\u001b[0m\u001b[0;34m\u001b[0m\u001b[0m\n\u001b[0m\u001b[1;32m   1580\u001b[0m         \u001b[0mcolumns\u001b[0m \u001b[0;34m=\u001b[0m \u001b[0mresult\u001b[0m\u001b[0;34m.\u001b[0m\u001b[0mkeys\u001b[0m\u001b[0;34m(\u001b[0m\u001b[0;34m)\u001b[0m\u001b[0;34m\u001b[0m\u001b[0;34m\u001b[0m\u001b[0m\n\u001b[1;32m   1581\u001b[0m \u001b[0;34m\u001b[0m\u001b[0m\n",
      "\u001b[0;32m/usr/local/anaconda3/lib/python3.9/site-packages/pandas/io/sql.py\u001b[0m in \u001b[0;36mexecute\u001b[0;34m(self, *args, **kwargs)\u001b[0m\n\u001b[1;32m   1422\u001b[0m     \u001b[0;32mdef\u001b[0m \u001b[0mexecute\u001b[0m\u001b[0;34m(\u001b[0m\u001b[0mself\u001b[0m\u001b[0;34m,\u001b[0m \u001b[0;34m*\u001b[0m\u001b[0margs\u001b[0m\u001b[0;34m,\u001b[0m \u001b[0;34m**\u001b[0m\u001b[0mkwargs\u001b[0m\u001b[0;34m)\u001b[0m\u001b[0;34m:\u001b[0m\u001b[0;34m\u001b[0m\u001b[0;34m\u001b[0m\u001b[0m\n\u001b[1;32m   1423\u001b[0m         \u001b[0;34m\"\"\"Simple passthrough to SQLAlchemy connectable\"\"\"\u001b[0m\u001b[0;34m\u001b[0m\u001b[0;34m\u001b[0m\u001b[0m\n\u001b[0;32m-> 1424\u001b[0;31m         \u001b[0;32mreturn\u001b[0m \u001b[0mself\u001b[0m\u001b[0;34m.\u001b[0m\u001b[0mconnectable\u001b[0m\u001b[0;34m.\u001b[0m\u001b[0mexecution_options\u001b[0m\u001b[0;34m(\u001b[0m\u001b[0;34m)\u001b[0m\u001b[0;34m.\u001b[0m\u001b[0mexecute\u001b[0m\u001b[0;34m(\u001b[0m\u001b[0;34m*\u001b[0m\u001b[0margs\u001b[0m\u001b[0;34m,\u001b[0m \u001b[0;34m**\u001b[0m\u001b[0mkwargs\u001b[0m\u001b[0;34m)\u001b[0m\u001b[0;34m\u001b[0m\u001b[0;34m\u001b[0m\u001b[0m\n\u001b[0m\u001b[1;32m   1425\u001b[0m \u001b[0;34m\u001b[0m\u001b[0m\n\u001b[1;32m   1426\u001b[0m     def read_table(\n",
      "\u001b[0;32m<string>\u001b[0m in \u001b[0;36mexecute\u001b[0;34m(self, statement, *multiparams, **params)\u001b[0m\n",
      "\u001b[0;32m/usr/local/anaconda3/lib/python3.9/site-packages/sqlalchemy/util/deprecations.py\u001b[0m in \u001b[0;36mwarned\u001b[0;34m(fn, *args, **kwargs)\u001b[0m\n\u001b[1;32m    388\u001b[0m         \u001b[0;32mif\u001b[0m \u001b[0;32mnot\u001b[0m \u001b[0mskip_warning\u001b[0m\u001b[0;34m:\u001b[0m\u001b[0;34m\u001b[0m\u001b[0;34m\u001b[0m\u001b[0m\n\u001b[1;32m    389\u001b[0m             \u001b[0m_warn_with_version\u001b[0m\u001b[0;34m(\u001b[0m\u001b[0mmessage\u001b[0m\u001b[0;34m,\u001b[0m \u001b[0mversion\u001b[0m\u001b[0;34m,\u001b[0m \u001b[0mwtype\u001b[0m\u001b[0;34m,\u001b[0m \u001b[0mstacklevel\u001b[0m\u001b[0;34m=\u001b[0m\u001b[0;36m3\u001b[0m\u001b[0;34m)\u001b[0m\u001b[0;34m\u001b[0m\u001b[0;34m\u001b[0m\u001b[0m\n\u001b[0;32m--> 390\u001b[0;31m         \u001b[0;32mreturn\u001b[0m \u001b[0mfn\u001b[0m\u001b[0;34m(\u001b[0m\u001b[0;34m*\u001b[0m\u001b[0margs\u001b[0m\u001b[0;34m,\u001b[0m \u001b[0;34m**\u001b[0m\u001b[0mkwargs\u001b[0m\u001b[0;34m)\u001b[0m\u001b[0;34m\u001b[0m\u001b[0;34m\u001b[0m\u001b[0m\n\u001b[0m\u001b[1;32m    391\u001b[0m \u001b[0;34m\u001b[0m\u001b[0m\n\u001b[1;32m    392\u001b[0m     \u001b[0mdoc\u001b[0m \u001b[0;34m=\u001b[0m \u001b[0mfunc\u001b[0m\u001b[0;34m.\u001b[0m\u001b[0m__doc__\u001b[0m \u001b[0;32mis\u001b[0m \u001b[0;32mnot\u001b[0m \u001b[0;32mNone\u001b[0m \u001b[0;32mand\u001b[0m \u001b[0mfunc\u001b[0m\u001b[0;34m.\u001b[0m\u001b[0m__doc__\u001b[0m \u001b[0;32mor\u001b[0m \u001b[0;34m\"\"\u001b[0m\u001b[0;34m\u001b[0m\u001b[0;34m\u001b[0m\u001b[0m\n",
      "\u001b[0;32m/usr/local/anaconda3/lib/python3.9/site-packages/sqlalchemy/engine/base.py\u001b[0m in \u001b[0;36mexecute\u001b[0;34m(self, statement, *multiparams, **params)\u001b[0m\n\u001b[1;32m   3106\u001b[0m         \"\"\"\n\u001b[1;32m   3107\u001b[0m         \u001b[0mconnection\u001b[0m \u001b[0;34m=\u001b[0m \u001b[0mself\u001b[0m\u001b[0;34m.\u001b[0m\u001b[0mconnect\u001b[0m\u001b[0;34m(\u001b[0m\u001b[0mclose_with_result\u001b[0m\u001b[0;34m=\u001b[0m\u001b[0;32mTrue\u001b[0m\u001b[0;34m)\u001b[0m\u001b[0;34m\u001b[0m\u001b[0;34m\u001b[0m\u001b[0m\n\u001b[0;32m-> 3108\u001b[0;31m         \u001b[0;32mreturn\u001b[0m \u001b[0mconnection\u001b[0m\u001b[0;34m.\u001b[0m\u001b[0mexecute\u001b[0m\u001b[0;34m(\u001b[0m\u001b[0mstatement\u001b[0m\u001b[0;34m,\u001b[0m \u001b[0;34m*\u001b[0m\u001b[0mmultiparams\u001b[0m\u001b[0;34m,\u001b[0m \u001b[0;34m**\u001b[0m\u001b[0mparams\u001b[0m\u001b[0;34m)\u001b[0m\u001b[0;34m\u001b[0m\u001b[0;34m\u001b[0m\u001b[0m\n\u001b[0m\u001b[1;32m   3109\u001b[0m \u001b[0;34m\u001b[0m\u001b[0m\n\u001b[1;32m   3110\u001b[0m     @util.deprecated_20(\n",
      "\u001b[0;32m/usr/local/anaconda3/lib/python3.9/site-packages/sqlalchemy/engine/base.py\u001b[0m in \u001b[0;36mexecute\u001b[0;34m(self, statement, *multiparams, **params)\u001b[0m\n\u001b[1;32m   1246\u001b[0m             )\n\u001b[1;32m   1247\u001b[0m \u001b[0;34m\u001b[0m\u001b[0m\n\u001b[0;32m-> 1248\u001b[0;31m             return self._exec_driver_sql(\n\u001b[0m\u001b[1;32m   1249\u001b[0m                 \u001b[0mstatement\u001b[0m\u001b[0;34m,\u001b[0m\u001b[0;34m\u001b[0m\u001b[0;34m\u001b[0m\u001b[0m\n\u001b[1;32m   1250\u001b[0m                 \u001b[0mmultiparams\u001b[0m\u001b[0;34m,\u001b[0m\u001b[0;34m\u001b[0m\u001b[0;34m\u001b[0m\u001b[0m\n",
      "\u001b[0;32m/usr/local/anaconda3/lib/python3.9/site-packages/sqlalchemy/engine/base.py\u001b[0m in \u001b[0;36m_exec_driver_sql\u001b[0;34m(self, statement, multiparams, params, execution_options, future)\u001b[0m\n\u001b[1;32m   1545\u001b[0m \u001b[0;34m\u001b[0m\u001b[0m\n\u001b[1;32m   1546\u001b[0m         \u001b[0mdialect\u001b[0m \u001b[0;34m=\u001b[0m \u001b[0mself\u001b[0m\u001b[0;34m.\u001b[0m\u001b[0mdialect\u001b[0m\u001b[0;34m\u001b[0m\u001b[0;34m\u001b[0m\u001b[0m\n\u001b[0;32m-> 1547\u001b[0;31m         ret = self._execute_context(\n\u001b[0m\u001b[1;32m   1548\u001b[0m             \u001b[0mdialect\u001b[0m\u001b[0;34m,\u001b[0m\u001b[0;34m\u001b[0m\u001b[0;34m\u001b[0m\u001b[0m\n\u001b[1;32m   1549\u001b[0m             \u001b[0mdialect\u001b[0m\u001b[0;34m.\u001b[0m\u001b[0mexecution_ctx_cls\u001b[0m\u001b[0;34m.\u001b[0m\u001b[0m_init_statement\u001b[0m\u001b[0;34m,\u001b[0m\u001b[0;34m\u001b[0m\u001b[0;34m\u001b[0m\u001b[0m\n",
      "\u001b[0;32m/usr/local/anaconda3/lib/python3.9/site-packages/sqlalchemy/engine/base.py\u001b[0m in \u001b[0;36m_execute_context\u001b[0;34m(self, dialect, constructor, statement, parameters, execution_options, *args, **kw)\u001b[0m\n\u001b[1;32m   1812\u001b[0m \u001b[0;34m\u001b[0m\u001b[0m\n\u001b[1;32m   1813\u001b[0m         \u001b[0;32mexcept\u001b[0m \u001b[0mBaseException\u001b[0m \u001b[0;32mas\u001b[0m \u001b[0me\u001b[0m\u001b[0;34m:\u001b[0m\u001b[0;34m\u001b[0m\u001b[0;34m\u001b[0m\u001b[0m\n\u001b[0;32m-> 1814\u001b[0;31m             self._handle_dbapi_exception(\n\u001b[0m\u001b[1;32m   1815\u001b[0m                 \u001b[0me\u001b[0m\u001b[0;34m,\u001b[0m \u001b[0mstatement\u001b[0m\u001b[0;34m,\u001b[0m \u001b[0mparameters\u001b[0m\u001b[0;34m,\u001b[0m \u001b[0mcursor\u001b[0m\u001b[0;34m,\u001b[0m \u001b[0mcontext\u001b[0m\u001b[0;34m\u001b[0m\u001b[0;34m\u001b[0m\u001b[0m\n\u001b[1;32m   1816\u001b[0m             )\n",
      "\u001b[0;32m/usr/local/anaconda3/lib/python3.9/site-packages/sqlalchemy/engine/base.py\u001b[0m in \u001b[0;36m_handle_dbapi_exception\u001b[0;34m(self, e, statement, parameters, cursor, context)\u001b[0m\n\u001b[1;32m   1997\u001b[0m                 )\n\u001b[1;32m   1998\u001b[0m             \u001b[0;32melse\u001b[0m\u001b[0;34m:\u001b[0m\u001b[0;34m\u001b[0m\u001b[0;34m\u001b[0m\u001b[0m\n\u001b[0;32m-> 1999\u001b[0;31m                 \u001b[0mutil\u001b[0m\u001b[0;34m.\u001b[0m\u001b[0mraise_\u001b[0m\u001b[0;34m(\u001b[0m\u001b[0mexc_info\u001b[0m\u001b[0;34m[\u001b[0m\u001b[0;36m1\u001b[0m\u001b[0;34m]\u001b[0m\u001b[0;34m,\u001b[0m \u001b[0mwith_traceback\u001b[0m\u001b[0;34m=\u001b[0m\u001b[0mexc_info\u001b[0m\u001b[0;34m[\u001b[0m\u001b[0;36m2\u001b[0m\u001b[0;34m]\u001b[0m\u001b[0;34m)\u001b[0m\u001b[0;34m\u001b[0m\u001b[0;34m\u001b[0m\u001b[0m\n\u001b[0m\u001b[1;32m   2000\u001b[0m \u001b[0;34m\u001b[0m\u001b[0m\n\u001b[1;32m   2001\u001b[0m         \u001b[0;32mfinally\u001b[0m\u001b[0;34m:\u001b[0m\u001b[0;34m\u001b[0m\u001b[0;34m\u001b[0m\u001b[0m\n",
      "\u001b[0;32m/usr/local/anaconda3/lib/python3.9/site-packages/sqlalchemy/util/compat.py\u001b[0m in \u001b[0;36mraise_\u001b[0;34m(***failed resolving arguments***)\u001b[0m\n\u001b[1;32m    205\u001b[0m \u001b[0;34m\u001b[0m\u001b[0m\n\u001b[1;32m    206\u001b[0m         \u001b[0;32mtry\u001b[0m\u001b[0;34m:\u001b[0m\u001b[0;34m\u001b[0m\u001b[0;34m\u001b[0m\u001b[0m\n\u001b[0;32m--> 207\u001b[0;31m             \u001b[0;32mraise\u001b[0m \u001b[0mexception\u001b[0m\u001b[0;34m\u001b[0m\u001b[0;34m\u001b[0m\u001b[0m\n\u001b[0m\u001b[1;32m    208\u001b[0m         \u001b[0;32mfinally\u001b[0m\u001b[0;34m:\u001b[0m\u001b[0;34m\u001b[0m\u001b[0;34m\u001b[0m\u001b[0m\n\u001b[1;32m    209\u001b[0m             \u001b[0;31m# credit to\u001b[0m\u001b[0;34m\u001b[0m\u001b[0;34m\u001b[0m\u001b[0m\n",
      "\u001b[0;32m/usr/local/anaconda3/lib/python3.9/site-packages/sqlalchemy/engine/base.py\u001b[0m in \u001b[0;36m_execute_context\u001b[0;34m(self, dialect, constructor, statement, parameters, execution_options, *args, **kw)\u001b[0m\n\u001b[1;32m   1769\u001b[0m                             \u001b[0;32mbreak\u001b[0m\u001b[0;34m\u001b[0m\u001b[0;34m\u001b[0m\u001b[0m\n\u001b[1;32m   1770\u001b[0m                 \u001b[0;32mif\u001b[0m \u001b[0;32mnot\u001b[0m \u001b[0mevt_handled\u001b[0m\u001b[0;34m:\u001b[0m\u001b[0;34m\u001b[0m\u001b[0;34m\u001b[0m\u001b[0m\n\u001b[0;32m-> 1771\u001b[0;31m                     self.dialect.do_execute(\n\u001b[0m\u001b[1;32m   1772\u001b[0m                         \u001b[0mcursor\u001b[0m\u001b[0;34m,\u001b[0m \u001b[0mstatement\u001b[0m\u001b[0;34m,\u001b[0m \u001b[0mparameters\u001b[0m\u001b[0;34m,\u001b[0m \u001b[0mcontext\u001b[0m\u001b[0;34m\u001b[0m\u001b[0;34m\u001b[0m\u001b[0m\n\u001b[1;32m   1773\u001b[0m                     )\n",
      "\u001b[0;32m/usr/local/anaconda3/lib/python3.9/site-packages/sqlalchemy/engine/default.py\u001b[0m in \u001b[0;36mdo_execute\u001b[0;34m(self, cursor, statement, parameters, context)\u001b[0m\n\u001b[1;32m    715\u001b[0m \u001b[0;34m\u001b[0m\u001b[0m\n\u001b[1;32m    716\u001b[0m     \u001b[0;32mdef\u001b[0m \u001b[0mdo_execute\u001b[0m\u001b[0;34m(\u001b[0m\u001b[0mself\u001b[0m\u001b[0;34m,\u001b[0m \u001b[0mcursor\u001b[0m\u001b[0;34m,\u001b[0m \u001b[0mstatement\u001b[0m\u001b[0;34m,\u001b[0m \u001b[0mparameters\u001b[0m\u001b[0;34m,\u001b[0m \u001b[0mcontext\u001b[0m\u001b[0;34m=\u001b[0m\u001b[0;32mNone\u001b[0m\u001b[0;34m)\u001b[0m\u001b[0;34m:\u001b[0m\u001b[0;34m\u001b[0m\u001b[0;34m\u001b[0m\u001b[0m\n\u001b[0;32m--> 717\u001b[0;31m         \u001b[0mcursor\u001b[0m\u001b[0;34m.\u001b[0m\u001b[0mexecute\u001b[0m\u001b[0;34m(\u001b[0m\u001b[0mstatement\u001b[0m\u001b[0;34m,\u001b[0m \u001b[0mparameters\u001b[0m\u001b[0;34m)\u001b[0m\u001b[0;34m\u001b[0m\u001b[0;34m\u001b[0m\u001b[0m\n\u001b[0m\u001b[1;32m    718\u001b[0m \u001b[0;34m\u001b[0m\u001b[0m\n\u001b[1;32m    719\u001b[0m     \u001b[0;32mdef\u001b[0m \u001b[0mdo_execute_no_params\u001b[0m\u001b[0;34m(\u001b[0m\u001b[0mself\u001b[0m\u001b[0;34m,\u001b[0m \u001b[0mcursor\u001b[0m\u001b[0;34m,\u001b[0m \u001b[0mstatement\u001b[0m\u001b[0;34m,\u001b[0m \u001b[0mcontext\u001b[0m\u001b[0;34m=\u001b[0m\u001b[0;32mNone\u001b[0m\u001b[0;34m)\u001b[0m\u001b[0;34m:\u001b[0m\u001b[0;34m\u001b[0m\u001b[0;34m\u001b[0m\u001b[0m\n",
      "\u001b[0;32m/usr/local/anaconda3/lib/python3.9/site-packages/pymysql/cursors.py\u001b[0m in \u001b[0;36mexecute\u001b[0;34m(self, query, args)\u001b[0m\n\u001b[1;32m    144\u001b[0m             \u001b[0;32mpass\u001b[0m\u001b[0;34m\u001b[0m\u001b[0;34m\u001b[0m\u001b[0m\n\u001b[1;32m    145\u001b[0m \u001b[0;34m\u001b[0m\u001b[0m\n\u001b[0;32m--> 146\u001b[0;31m         \u001b[0mquery\u001b[0m \u001b[0;34m=\u001b[0m \u001b[0mself\u001b[0m\u001b[0;34m.\u001b[0m\u001b[0mmogrify\u001b[0m\u001b[0;34m(\u001b[0m\u001b[0mquery\u001b[0m\u001b[0;34m,\u001b[0m \u001b[0margs\u001b[0m\u001b[0;34m)\u001b[0m\u001b[0;34m\u001b[0m\u001b[0;34m\u001b[0m\u001b[0m\n\u001b[0m\u001b[1;32m    147\u001b[0m \u001b[0;34m\u001b[0m\u001b[0m\n\u001b[1;32m    148\u001b[0m         \u001b[0mresult\u001b[0m \u001b[0;34m=\u001b[0m \u001b[0mself\u001b[0m\u001b[0;34m.\u001b[0m\u001b[0m_query\u001b[0m\u001b[0;34m(\u001b[0m\u001b[0mquery\u001b[0m\u001b[0;34m)\u001b[0m\u001b[0;34m\u001b[0m\u001b[0;34m\u001b[0m\u001b[0m\n",
      "\u001b[0;32m/usr/local/anaconda3/lib/python3.9/site-packages/pymysql/cursors.py\u001b[0m in \u001b[0;36mmogrify\u001b[0;34m(self, query, args)\u001b[0m\n\u001b[1;32m    123\u001b[0m \u001b[0;34m\u001b[0m\u001b[0m\n\u001b[1;32m    124\u001b[0m         \u001b[0;32mif\u001b[0m \u001b[0margs\u001b[0m \u001b[0;32mis\u001b[0m \u001b[0;32mnot\u001b[0m \u001b[0;32mNone\u001b[0m\u001b[0;34m:\u001b[0m\u001b[0;34m\u001b[0m\u001b[0;34m\u001b[0m\u001b[0m\n\u001b[0;32m--> 125\u001b[0;31m             \u001b[0mquery\u001b[0m \u001b[0;34m=\u001b[0m \u001b[0mquery\u001b[0m \u001b[0;34m%\u001b[0m \u001b[0mself\u001b[0m\u001b[0;34m.\u001b[0m\u001b[0m_escape_args\u001b[0m\u001b[0;34m(\u001b[0m\u001b[0margs\u001b[0m\u001b[0;34m,\u001b[0m \u001b[0mconn\u001b[0m\u001b[0;34m)\u001b[0m\u001b[0;34m\u001b[0m\u001b[0;34m\u001b[0m\u001b[0m\n\u001b[0m\u001b[1;32m    126\u001b[0m \u001b[0;34m\u001b[0m\u001b[0m\n\u001b[1;32m    127\u001b[0m         \u001b[0;32mreturn\u001b[0m \u001b[0mquery\u001b[0m\u001b[0;34m\u001b[0m\u001b[0;34m\u001b[0m\u001b[0m\n",
      "\u001b[0;31mValueError\u001b[0m: unsupported format character ''' (0x27) at index 323"
     ]
    }
   ],
   "source": [
    "df = acquire.get_zillow_data()"
   ]
  },
  {
   "cell_type": "markdown",
   "id": "c1f98385",
   "metadata": {},
   "source": [
    "Through domain research and choosing features that have enough data (low null values, less than 20%), I've determined these columns to be the most practical to utilize in the data science pipeline for the purpose of predicting tax assessed home values through regression modeling. "
   ]
  },
  {
   "cell_type": "code",
   "execution_count": null,
   "id": "ef2d1bab",
   "metadata": {},
   "outputs": [],
   "source": [
    "df.info()"
   ]
  },
  {
   "cell_type": "code",
   "execution_count": null,
   "id": "94bcb684",
   "metadata": {},
   "outputs": [],
   "source": [
    "df.isna().sum()"
   ]
  },
  {
   "cell_type": "markdown",
   "id": "e7a96b82",
   "metadata": {},
   "source": [
    "To not lose too much data, I'm looking at columns with many null values and how many null values they share with other columns"
   ]
  },
  {
   "cell_type": "code",
   "execution_count": null,
   "id": "5a34f1ad",
   "metadata": {},
   "outputs": [],
   "source": [
    "df['calculatedfinishedsquarefeet'].isna().sum() & df['lotsizesquarefeet'].isna().sum() & df['yearbuilt'].isna().sum()"
   ]
  },
  {
   "cell_type": "markdown",
   "id": "6f4c81bc",
   "metadata": {},
   "source": [
    "square feet, lot size, and year built share a lot of null rows. This is good news when considering dropping columns with null values."
   ]
  },
  {
   "cell_type": "code",
   "execution_count": null,
   "id": "092f2560",
   "metadata": {},
   "outputs": [],
   "source": [
    "df['lotsizesquarefeet'].isna().sum() & df['taxamount'].isna().sum(), df['calculatedfinishedsquarefeet'].isna().sum() & df['taxamount'].isna().sum()"
   ]
  },
  {
   "cell_type": "markdown",
   "id": "ce5d16dc",
   "metadata": {},
   "source": [
    "most of tax amount nulls are also square feet nulls so again, feel better about dropping these records"
   ]
  },
  {
   "cell_type": "code",
   "execution_count": null,
   "id": "96fd9a42",
   "metadata": {},
   "outputs": [],
   "source": [
    "(df.isnull().sum() / len(df)).round(3) \n",
    "#this shows the percentage of null values per column rounded to the 3rd decimal place"
   ]
  },
  {
   "cell_type": "markdown",
   "id": "f0ca9b72",
   "metadata": {},
   "source": [
    "we can see that all columns have less than 1% null (missing) values. This is favorable to dropping nulls"
   ]
  },
  {
   "cell_type": "code",
   "execution_count": null,
   "id": "44c0d86f",
   "metadata": {},
   "outputs": [],
   "source": [
    "df.isna().mean().sum()\n",
    "#shows the percentage of missing values in the entire dataframe. "
   ]
  },
  {
   "cell_type": "markdown",
   "id": "39a7d9a5",
   "metadata": {},
   "source": [
    "If all nulls are dropped, we will lose 1.7% of the data. With this low percentage and seeing how most records with nulls have nulls across other columns, I determine dropping records with nulls is the most appropriate solution"
   ]
  },
  {
   "cell_type": "code",
   "execution_count": null,
   "id": "b8fae2db",
   "metadata": {},
   "outputs": [],
   "source": [
    "df = wrangle.wrangle_zillow(df)"
   ]
  },
  {
   "cell_type": "code",
   "execution_count": null,
   "id": "f0bd46e1",
   "metadata": {},
   "outputs": [],
   "source": [
    "df"
   ]
  },
  {
   "cell_type": "code",
   "execution_count": null,
   "id": "42d72860",
   "metadata": {},
   "outputs": [],
   "source": [
    "df = wrangle.wrangle_locs(df)"
   ]
  },
  {
   "cell_type": "code",
   "execution_count": null,
   "id": "b0b96e4d",
   "metadata": {},
   "outputs": [],
   "source": [
    "df.drop(columns= 'Unnamed: 0', inplace = True)"
   ]
  },
  {
   "cell_type": "code",
   "execution_count": null,
   "id": "9ebc0385",
   "metadata": {},
   "outputs": [],
   "source": [
    "df"
   ]
  },
  {
   "cell_type": "code",
   "execution_count": null,
   "id": "80a8559c",
   "metadata": {},
   "outputs": [],
   "source": [
    "df.value.mean()"
   ]
  },
  {
   "cell_type": "markdown",
   "id": "d93e1f9d",
   "metadata": {},
   "source": [
    "seeing that tax assessed value mean is very different based on the assessment year, I am dropping 2014 and 2015 assessment year records from the dataframe for consistency"
   ]
  },
  {
   "cell_type": "code",
   "execution_count": null,
   "id": "e2004041",
   "metadata": {},
   "outputs": [],
   "source": [
    "#df.assessmentyear.value_counts()"
   ]
  },
  {
   "cell_type": "markdown",
   "id": "909379bf",
   "metadata": {},
   "source": [
    "Now that all records have the same assessment year (2016), I can drop this column"
   ]
  },
  {
   "cell_type": "code",
   "execution_count": null,
   "id": "8a7a6a8d",
   "metadata": {},
   "outputs": [],
   "source": [
    "#df.drop(columns = ['assessmentyear'], inplace=True)"
   ]
  },
  {
   "cell_type": "code",
   "execution_count": null,
   "id": "f1902cb2",
   "metadata": {},
   "outputs": [],
   "source": [
    "df"
   ]
  },
  {
   "cell_type": "code",
   "execution_count": null,
   "id": "f5bbb356",
   "metadata": {},
   "outputs": [],
   "source": [
    "# df.rename(columns={'landtaxvaluedollarcnt': 'land_value', 'lotsizesquarefeet': 'lot_size', 'square_feet': 'home_size'}, inplace=True)"
   ]
  },
  {
   "cell_type": "code",
   "execution_count": null,
   "id": "8d46ef4c",
   "metadata": {},
   "outputs": [],
   "source": [
    "# df.drop(columns='Unnamed: 0', inplace=True)"
   ]
  },
  {
   "cell_type": "code",
   "execution_count": null,
   "id": "5f629b79",
   "metadata": {},
   "outputs": [],
   "source": [
    "# df"
   ]
  },
  {
   "cell_type": "code",
   "execution_count": null,
   "id": "952ab3cd",
   "metadata": {},
   "outputs": [],
   "source": [
    "# df['land_value'] = df.land_value.astype(int)"
   ]
  },
  {
   "cell_type": "code",
   "execution_count": null,
   "id": "1b48097f",
   "metadata": {},
   "outputs": [],
   "source": [
    "# df['lot_size'] = df.lot_size.astype(int)"
   ]
  },
  {
   "cell_type": "markdown",
   "id": "f1604593",
   "metadata": {},
   "source": [
    "### Univariate Exploration"
   ]
  },
  {
   "cell_type": "code",
   "execution_count": null,
   "id": "feb62481",
   "metadata": {},
   "outputs": [],
   "source": [
    "df.bedrooms.value_counts().sort_values()"
   ]
  },
  {
   "cell_type": "code",
   "execution_count": null,
   "id": "0788a5dd",
   "metadata": {},
   "outputs": [],
   "source": [
    "df.bathrooms.value_counts().sort_values()"
   ]
  },
  {
   "cell_type": "code",
   "execution_count": null,
   "id": "abde519b",
   "metadata": {},
   "outputs": [],
   "source": [
    "# put this in wrangle function \n",
    "\n",
    "df = df[df.lot_size > 500]\n",
    "df = df[df.home_size > 500]\n",
    "df = df[df.value > 10000]"
   ]
  },
  {
   "cell_type": "code",
   "execution_count": null,
   "id": "48e65294",
   "metadata": {},
   "outputs": [],
   "source": [
    "from IPython.display import Markdown, display\n",
    "def printmd(string):\n",
    "    display(Markdown(string))\n",
    "    \n",
    "print()\n",
    "printmd(\"**Zillow Data (Min, Max, Average)**\")\n",
    "print(\"--------------------------------\")\n",
    "printmd(\"**Tax Assessed Value of Home**\")\n",
    "printmd('*Maximum Tax Assessed Value: {:,}*'\n",
    "     .format(df['value'].max()))\n",
    "printmd('*Minimum Tax Assessed Value: {:,}*'\n",
    "     .format(df['value'].min()))\n",
    "printmd('*Average Tax Assessed Value: {:,}*'\n",
    "     .format(round(df['value'].mean())))\n",
    "print(\"--------------------------------\")\n",
    "printmd(\"**Tax Amount of Home**\")\n",
    "printmd('*Maximum Tax Amount of Home: {:,}*'\n",
    "     .format(round(df['tax'].max())))\n",
    "printmd('*Minimum Tax Amount of Home: {:,}*'\n",
    "     .format(df['tax'].min()))\n",
    "printmd('*Average Tax Amount of Home: {:,}*'\n",
    "     .format(round(df['tax'].mean())))\n",
    "print(\"--------------------------------\")\n",
    "printmd(\"**Home Size in Square Feet**\")\n",
    "printmd('*Maximum Home Size: {:,} square feet*'\n",
    "     .format(df['home_size'].max()))\n",
    "printmd('*Minimum Home Size: {:,} square feet*'\n",
    "     .format(df['home_size'].min()))\n",
    "printmd('*Average Home Size: {:,} square feet*'\n",
    "     .format(round(df['home_size'].mean())))\n",
    "print(\"--------------------------------\")\n",
    "printmd(\"**Lot Size in Square Feet**\")\n",
    "printmd('*Maximum Lot Size: {:,} square feet*'\n",
    "     .format(df['lot_size'].max()))\n",
    "printmd('*Minimum Lot Size: {:,} square feet*'\n",
    "     .format(df['lot_size'].min()))\n",
    "printmd('*Average Lot Size: {:,} square feet*'\n",
    "     .format(round(df['lot_size'].mean())))\n",
    "print(\"--------------------------------\")\n",
    "printmd(\"**Tax Assessed Land Value**\")\n",
    "printmd('*Maximum Land Value: {:,}*'\n",
    "     .format(df['land_value'].max()))\n",
    "printmd('*Minimum Land Value: {:,}*'\n",
    "     .format(df['land_value'].min()))\n",
    "printmd('*Average Land Value: {:,}*'\n",
    "     .format(round(df['land_value'].mean())))"
   ]
  },
  {
   "cell_type": "code",
   "execution_count": null,
   "id": "f704e290",
   "metadata": {},
   "outputs": [],
   "source": [
    "plt.figure(figsize=(10, 4))\n",
    "sns.set_palette('Set2', 8)\n",
    "plt.title('bedroom count')\n",
    "sns.countplot(x = 'bedrooms', data= df)"
   ]
  },
  {
   "cell_type": "code",
   "execution_count": null,
   "id": "253d022e",
   "metadata": {},
   "outputs": [],
   "source": [
    "plt.figure(figsize=(14, 5))\n",
    "sns.set_palette('Set2', 20)\n",
    "sns.countplot(x='bathrooms', data=df)\n",
    "plt.title('bathroom count')"
   ]
  },
  {
   "cell_type": "code",
   "execution_count": null,
   "id": "251401f8",
   "metadata": {},
   "outputs": [],
   "source": [
    "from sklearn.model_selection import train_test_split\n",
    "from scipy.stats import pearsonr, spearmanr\n",
    "\n",
    "from math import sqrt\n",
    "from scipy import stats"
   ]
  },
  {
   "cell_type": "code",
   "execution_count": null,
   "id": "699eb0d2",
   "metadata": {},
   "outputs": [],
   "source": [
    "# make this a function\n",
    "train_and_validate, test = train_test_split(df, test_size=.2, random_state=123)\n",
    "train, validate = train_test_split(train_and_validate, test_size=.3, random_state=123)"
   ]
  },
  {
   "cell_type": "code",
   "execution_count": null,
   "id": "3a1476da",
   "metadata": {},
   "outputs": [],
   "source": [
    "train.info()"
   ]
  },
  {
   "cell_type": "code",
   "execution_count": null,
   "id": "f1df7d19",
   "metadata": {},
   "outputs": [],
   "source": [
    "orange_train = train.copy()"
   ]
  },
  {
   "cell_type": "code",
   "execution_count": null,
   "id": "8ce00b3f",
   "metadata": {},
   "outputs": [],
   "source": [
    "ventura_train = train.copy()"
   ]
  },
  {
   "cell_type": "code",
   "execution_count": null,
   "id": "e8b7bcc3",
   "metadata": {},
   "outputs": [],
   "source": [
    "la_train = train.copy()"
   ]
  },
  {
   "cell_type": "code",
   "execution_count": null,
   "id": "4dd61cb9",
   "metadata": {},
   "outputs": [],
   "source": [
    "orange_train = orange_train[orange_train.county == 'orange']"
   ]
  },
  {
   "cell_type": "code",
   "execution_count": null,
   "id": "a89339a8",
   "metadata": {},
   "outputs": [],
   "source": [
    "orange_train"
   ]
  },
  {
   "cell_type": "code",
   "execution_count": null,
   "id": "257ec57a",
   "metadata": {},
   "outputs": [],
   "source": [
    "ventura_train = ventura_train[ventura_train.county == 'ventura']"
   ]
  },
  {
   "cell_type": "code",
   "execution_count": null,
   "id": "85849c3f",
   "metadata": {},
   "outputs": [],
   "source": [
    "la_train = la_train[la_train.county == 'los_angeles']"
   ]
  },
  {
   "cell_type": "code",
   "execution_count": null,
   "id": "9ee6ac20",
   "metadata": {},
   "outputs": [],
   "source": [
    "ventura_train.to_csv(\"ventura_locations.csv\")\n",
    "la_train.to_csv(\"la_locations.csv\")\n",
    "orange_train.to_csv(\"orange_locations.csv\")"
   ]
  },
  {
   "cell_type": "code",
   "execution_count": null,
   "id": "64b11a56",
   "metadata": {},
   "outputs": [],
   "source": [
    "ventura_train.info()"
   ]
  },
  {
   "cell_type": "code",
   "execution_count": null,
   "id": "37144c1b",
   "metadata": {},
   "outputs": [],
   "source": [
    "ventura_train['latitude'] = ventura_train.latitude.astype(str)"
   ]
  },
  {
   "cell_type": "code",
   "execution_count": null,
   "id": "2224e242",
   "metadata": {},
   "outputs": [],
   "source": [
    "ventura_train['latitude'].dtype"
   ]
  },
  {
   "cell_type": "code",
   "execution_count": null,
   "id": "628540e2",
   "metadata": {},
   "outputs": [],
   "source": [
    "ventura_train['latitude'] = np.where(ventura_train['latitude']==' ',0, ventura_train['latitude']).astype(float)"
   ]
  },
  {
   "cell_type": "code",
   "execution_count": null,
   "id": "03892369",
   "metadata": {},
   "outputs": [],
   "source": [
    "ventura_train['longitude'] = ventura_train.longitude.astype(str)"
   ]
  },
  {
   "cell_type": "code",
   "execution_count": null,
   "id": "34e07d62",
   "metadata": {},
   "outputs": [],
   "source": [
    "ventura_train['longitude'] = ventura_train['longitude'].str.rstrip('.0') "
   ]
  },
  {
   "cell_type": "code",
   "execution_count": null,
   "id": "24107be0",
   "metadata": {},
   "outputs": [],
   "source": [
    "ventura_train['longitude']"
   ]
  },
  {
   "cell_type": "code",
   "execution_count": null,
   "id": "aa208cb2",
   "metadata": {},
   "outputs": [],
   "source": [
    "ventura_train['longitude'] = np.where(ventura_train['longitude']==' ',0, ventura_train['longitude']).astype(float)"
   ]
  },
  {
   "cell_type": "code",
   "execution_count": null,
   "id": "d181d105",
   "metadata": {},
   "outputs": [],
   "source": [
    "import geopy"
   ]
  },
  {
   "cell_type": "code",
   "execution_count": null,
   "id": "19b5cdcc",
   "metadata": {},
   "outputs": [],
   "source": [
    "def get_zipcode(ventura_train, geolocator, lat_field, lon_field):\n",
    "    location = geolocator.reverse((ventura_train['latitude'], ventura_train['longitude']))\n",
    "    return location.raw['address']['postcode']\n",
    "\n",
    "geolocator = geopy.Nominatim(user_agent='mlshiben')"
   ]
  },
  {
   "cell_type": "code",
   "execution_count": null,
   "id": "b023adc3",
   "metadata": {},
   "outputs": [],
   "source": [
    "ventura_train.get('latitude')"
   ]
  },
  {
   "cell_type": "code",
   "execution_count": null,
   "id": "da7b517e",
   "metadata": {},
   "outputs": [],
   "source": [
    "import geocoder"
   ]
  },
  {
   "cell_type": "code",
   "execution_count": null,
   "id": "ebd7dcf9",
   "metadata": {},
   "outputs": [],
   "source": [
    "from geopy.extra.rate_limiter import RateLimiter\n",
    "\n",
    "# 1 - conveneint function to delay between geocoding calls\n",
    "geocode = RateLimiter(geolocator.reverse, min_delay_seconds=50)"
   ]
  },
  {
   "cell_type": "code",
   "execution_count": null,
   "id": "3c57e290",
   "metadata": {},
   "outputs": [],
   "source": [
    "def geo_rev(ventura_train):\n",
    "    g = geocoder.osm([ventura_train.latitude, ventura_train.longitude], method='reverse').json\n",
    "    if g:\n",
    "        return g.get('postal')\n",
    "    else:\n",
    "        return 'no postal'\n",
    "\n",
    "ventura_zips = ventura_train[['latitude', 'longitude']].apply(geo_rev, axis=1)\n"
   ]
  },
  {
   "cell_type": "code",
   "execution_count": null,
   "id": "a1a6bc5e",
   "metadata": {},
   "outputs": [],
   "source": [
    "g = geocoder.osm(ventura_train['latitude'], ventura_train['longitude']), method='reverse')\n",
    "g.json['postal']"
   ]
  },
  {
   "cell_type": "code",
   "execution_count": null,
   "id": "7a4bf45b",
   "metadata": {},
   "outputs": [],
   "source": [
    "zipcodes = ventura_train.apply(get_zipcode, geolocator=geolocator, lat_field ='latitude', lon_field = 'longitude')"
   ]
  },
  {
   "cell_type": "code",
   "execution_count": null,
   "id": "7960a8f9",
   "metadata": {},
   "outputs": [],
   "source": []
  }
 ],
 "metadata": {
  "kernelspec": {
   "display_name": "Python 3 (ipykernel)",
   "language": "python",
   "name": "python3"
  },
  "language_info": {
   "codemirror_mode": {
    "name": "ipython",
    "version": 3
   },
   "file_extension": ".py",
   "mimetype": "text/x-python",
   "name": "python",
   "nbconvert_exporter": "python",
   "pygments_lexer": "ipython3",
   "version": "3.9.7"
  }
 },
 "nbformat": 4,
 "nbformat_minor": 5
}
